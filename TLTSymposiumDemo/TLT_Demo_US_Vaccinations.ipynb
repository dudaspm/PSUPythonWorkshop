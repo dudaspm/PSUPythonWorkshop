{
  "nbformat": 4,
  "nbformat_minor": 0,
  "metadata": {
    "kernelspec": {
      "display_name": "Python 3",
      "language": "python",
      "name": "python3"
    },
    "language_info": {
      "codemirror_mode": {
        "name": "ipython",
        "version": 3
      },
      "file_extension": ".py",
      "mimetype": "text/x-python",
      "name": "python",
      "nbconvert_exporter": "python",
      "pygments_lexer": "ipython3",
      "version": "3.8.5"
    },
    "colab": {
      "name": "TLT Demo - US Vaccinations.ipynb",
      "provenance": [],
      "collapsed_sections": [],
      "include_colab_link": true
    },
    "widgets": {
      "application/vnd.jupyter.widget-state+json": {
        "b6042c740caf4ccbbc47efbf9e4e885c": {
          "model_module": "@jupyter-widgets/controls",
          "model_name": "VBoxModel",
          "state": {
            "_view_name": "VBoxView",
            "_dom_classes": [
              "widget-interact"
            ],
            "_model_name": "VBoxModel",
            "_view_module": "@jupyter-widgets/controls",
            "_model_module_version": "1.5.0",
            "_view_count": null,
            "_view_module_version": "1.5.0",
            "box_style": "",
            "layout": "IPY_MODEL_badc54d23f2044d1a6afc08135463822",
            "_model_module": "@jupyter-widgets/controls",
            "children": [
              "IPY_MODEL_8c5cbe6a30d74444bdb247a1566e14ff",
              "IPY_MODEL_011e80458e61434a8ece06a00ce104f9"
            ]
          }
        },
        "badc54d23f2044d1a6afc08135463822": {
          "model_module": "@jupyter-widgets/base",
          "model_name": "LayoutModel",
          "state": {
            "_view_name": "LayoutView",
            "grid_template_rows": null,
            "right": null,
            "justify_content": null,
            "_view_module": "@jupyter-widgets/base",
            "overflow": null,
            "_model_module_version": "1.2.0",
            "_view_count": null,
            "flex_flow": null,
            "width": null,
            "min_width": null,
            "border": null,
            "align_items": null,
            "bottom": null,
            "_model_module": "@jupyter-widgets/base",
            "top": null,
            "grid_column": null,
            "overflow_y": null,
            "overflow_x": null,
            "grid_auto_flow": null,
            "grid_area": null,
            "grid_template_columns": null,
            "flex": null,
            "_model_name": "LayoutModel",
            "justify_items": null,
            "grid_row": null,
            "max_height": null,
            "align_content": null,
            "visibility": null,
            "align_self": null,
            "height": null,
            "min_height": null,
            "padding": null,
            "grid_auto_rows": null,
            "grid_gap": null,
            "max_width": null,
            "order": null,
            "_view_module_version": "1.2.0",
            "grid_template_areas": null,
            "object_position": null,
            "object_fit": null,
            "grid_auto_columns": null,
            "margin": null,
            "display": null,
            "left": null
          }
        },
        "8c5cbe6a30d74444bdb247a1566e14ff": {
          "model_module": "@jupyter-widgets/controls",
          "model_name": "DropdownModel",
          "state": {
            "_options_labels": [
              "total_vaccinations",
              "total_distributed",
              "people_fully_vaccinated_per_hundred",
              "total_vaccinations_per_hundred"
            ],
            "_view_name": "DropdownView",
            "style": "IPY_MODEL_52f9258b13a343d3b1072ac1d98b0b27",
            "_dom_classes": [],
            "description": "updatePlot",
            "_model_name": "DropdownModel",
            "index": 3,
            "_view_module": "@jupyter-widgets/controls",
            "_model_module_version": "1.5.0",
            "_view_count": null,
            "disabled": false,
            "_view_module_version": "1.5.0",
            "description_tooltip": null,
            "_model_module": "@jupyter-widgets/controls",
            "layout": "IPY_MODEL_5a4b855a4570457ab3b77a8f12c15e84"
          }
        },
        "011e80458e61434a8ece06a00ce104f9": {
          "model_module": "@jupyter-widgets/output",
          "model_name": "OutputModel",
          "state": {
            "_view_name": "OutputView",
            "msg_id": "",
            "_dom_classes": [],
            "_model_name": "OutputModel",
            "outputs": [
              {
                "output_type": "display_data",
                "metadata": {
                  "tags": [],
                  "needs_background": "light"
                },
                "image/png": "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\n",
                "text/plain": "<Figure size 1000x300 with 1 Axes>"
              }
            ],
            "_view_module": "@jupyter-widgets/output",
            "_model_module_version": "1.0.0",
            "_view_count": null,
            "_view_module_version": "1.0.0",
            "layout": "IPY_MODEL_0babd6222c484677a6dd39cdbe163ce1",
            "_model_module": "@jupyter-widgets/output"
          }
        },
        "52f9258b13a343d3b1072ac1d98b0b27": {
          "model_module": "@jupyter-widgets/controls",
          "model_name": "DescriptionStyleModel",
          "state": {
            "_view_name": "StyleView",
            "_model_name": "DescriptionStyleModel",
            "description_width": "",
            "_view_module": "@jupyter-widgets/base",
            "_model_module_version": "1.5.0",
            "_view_count": null,
            "_view_module_version": "1.2.0",
            "_model_module": "@jupyter-widgets/controls"
          }
        },
        "5a4b855a4570457ab3b77a8f12c15e84": {
          "model_module": "@jupyter-widgets/base",
          "model_name": "LayoutModel",
          "state": {
            "_view_name": "LayoutView",
            "grid_template_rows": null,
            "right": null,
            "justify_content": null,
            "_view_module": "@jupyter-widgets/base",
            "overflow": null,
            "_model_module_version": "1.2.0",
            "_view_count": null,
            "flex_flow": null,
            "width": null,
            "min_width": null,
            "border": null,
            "align_items": null,
            "bottom": null,
            "_model_module": "@jupyter-widgets/base",
            "top": null,
            "grid_column": null,
            "overflow_y": null,
            "overflow_x": null,
            "grid_auto_flow": null,
            "grid_area": null,
            "grid_template_columns": null,
            "flex": null,
            "_model_name": "LayoutModel",
            "justify_items": null,
            "grid_row": null,
            "max_height": null,
            "align_content": null,
            "visibility": null,
            "align_self": null,
            "height": null,
            "min_height": null,
            "padding": null,
            "grid_auto_rows": null,
            "grid_gap": null,
            "max_width": null,
            "order": null,
            "_view_module_version": "1.2.0",
            "grid_template_areas": null,
            "object_position": null,
            "object_fit": null,
            "grid_auto_columns": null,
            "margin": null,
            "display": null,
            "left": null
          }
        },
        "0babd6222c484677a6dd39cdbe163ce1": {
          "model_module": "@jupyter-widgets/base",
          "model_name": "LayoutModel",
          "state": {
            "_view_name": "LayoutView",
            "grid_template_rows": null,
            "right": null,
            "justify_content": null,
            "_view_module": "@jupyter-widgets/base",
            "overflow": null,
            "_model_module_version": "1.2.0",
            "_view_count": null,
            "flex_flow": null,
            "width": null,
            "min_width": null,
            "border": null,
            "align_items": null,
            "bottom": null,
            "_model_module": "@jupyter-widgets/base",
            "top": null,
            "grid_column": null,
            "overflow_y": null,
            "overflow_x": null,
            "grid_auto_flow": null,
            "grid_area": null,
            "grid_template_columns": null,
            "flex": null,
            "_model_name": "LayoutModel",
            "justify_items": null,
            "grid_row": null,
            "max_height": null,
            "align_content": null,
            "visibility": null,
            "align_self": null,
            "height": null,
            "min_height": null,
            "padding": null,
            "grid_auto_rows": null,
            "grid_gap": null,
            "max_width": null,
            "order": null,
            "_view_module_version": "1.2.0",
            "grid_template_areas": null,
            "object_position": null,
            "object_fit": null,
            "grid_auto_columns": null,
            "margin": null,
            "display": null,
            "left": null
          }
        }
      }
    }
  },
  "cells": [
    {
      "cell_type": "markdown",
      "metadata": {
        "id": "view-in-github",
        "colab_type": "text"
      },
      "source": [
        "<a href=\"https://colab.research.google.com/github/dudaspm/PSUPythonWorkshop/blob/master/TLTSymposiumDemo/TLT_Demo_US_Vaccinations.ipynb\" target=\"_parent\"><img src=\"https://colab.research.google.com/assets/colab-badge.svg\" alt=\"Open In Colab\"/></a>"
      ]
    },
    {
      "cell_type": "markdown",
      "metadata": {
        "id": "RpL4OpaGeLw7"
      },
      "source": [
        "#TLT Demo - US Vaccinations\n",
        "\n",
        "• A Jupyter Notebook Example"
      ]
    },
    {
      "cell_type": "markdown",
      "metadata": {
        "id": "VEYljSjOeLw-"
      },
      "source": [
        "## First the Data"
      ]
    },
    {
      "cell_type": "markdown",
      "metadata": {
        "id": "3yI5goJNeLxD"
      },
      "source": [
        "### Acknowledgement \n",
        "\n",
        "<cite>Max Roser, Hannah Ritchie, Esteban Ortiz-Ospina and Joe Hasell (2020) - \"Coronavirus Pandemic (COVID-19)\". Published online at OurWorldInData.org. Retrieved from: 'https://ourworldindata.org/coronavirus' [Online Resource]</cite>\n",
        "    \n",
        "Original Link: https://github.com/owid/covid-19-data (Accessed 3/11/2021)\n",
        "Source Link: https://github.com/owid/covid-19-data/tree/master/public/data/vaccinations \n",
        "\n",
        "\n",
        "<cite>Hunter, J. D. (2007). Matplotlib: A 2D graphics environment. IEEE Annals of the History of Computing, 9(03), 90-95.</cite>"
      ]
    },
    {
      "cell_type": "markdown",
      "metadata": {
        "id": "uOLpcky6f5OO"
      },
      "source": [
        "#### Get the Data"
      ]
    },
    {
      "cell_type": "code",
      "metadata": {
        "id": "BbnVBA33eLxA"
      },
      "source": [
        "import matplotlib.pyplot as plt\n",
        "import pandas as pd\n",
        "\n",
        "url=\"https://raw.githubusercontent.com/owid/covid-19-data/master/public/data/vaccinations/us_state_vaccinations.csv\"\n",
        "data = []\n",
        "data=pd.read_csv(url)\n",
        "data = data.dropna() # removed NAs with 0s\n",
        "\n",
        "### Remove the United States entry (As this is a sum of all locations in US)\n",
        "\n",
        "data = data[data.location != \"United States\"]"
      ],
      "execution_count": 2,
      "outputs": []
    },
    {
      "cell_type": "markdown",
      "metadata": {
        "id": "AN2pGERlf8F-"
      },
      "source": [
        "#### Preview the Data"
      ]
    },
    {
      "cell_type": "code",
      "metadata": {
        "colab": {
          "base_uri": "https://localhost:8080/",
          "height": 309
        },
        "id": "98aZkIOoeLxB",
        "outputId": "1b26c2c2-3d9a-4cef-dfda-821ad7cdbc3b"
      },
      "source": [
        "data.tail()"
      ],
      "execution_count": 3,
      "outputs": [
        {
          "output_type": "execute_result",
          "data": {
            "text/html": [
              "<div>\n",
              "<style scoped>\n",
              "    .dataframe tbody tr th:only-of-type {\n",
              "        vertical-align: middle;\n",
              "    }\n",
              "\n",
              "    .dataframe tbody tr th {\n",
              "        vertical-align: top;\n",
              "    }\n",
              "\n",
              "    .dataframe thead th {\n",
              "        text-align: right;\n",
              "    }\n",
              "</style>\n",
              "<table border=\"1\" class=\"dataframe\">\n",
              "  <thead>\n",
              "    <tr style=\"text-align: right;\">\n",
              "      <th></th>\n",
              "      <th>date</th>\n",
              "      <th>location</th>\n",
              "      <th>total_vaccinations</th>\n",
              "      <th>total_distributed</th>\n",
              "      <th>people_vaccinated</th>\n",
              "      <th>people_fully_vaccinated_per_hundred</th>\n",
              "      <th>total_vaccinations_per_hundred</th>\n",
              "      <th>people_fully_vaccinated</th>\n",
              "      <th>people_vaccinated_per_hundred</th>\n",
              "      <th>distributed_per_hundred</th>\n",
              "      <th>daily_vaccinations_raw</th>\n",
              "      <th>daily_vaccinations</th>\n",
              "      <th>daily_vaccinations_per_million</th>\n",
              "      <th>share_doses_used</th>\n",
              "    </tr>\n",
              "  </thead>\n",
              "  <tbody>\n",
              "    <tr>\n",
              "      <th>7753</th>\n",
              "      <td>2021-05-06</td>\n",
              "      <td>Wyoming</td>\n",
              "      <td>363390.0</td>\n",
              "      <td>486635.0</td>\n",
              "      <td>198930.0</td>\n",
              "      <td>28.61</td>\n",
              "      <td>62.79</td>\n",
              "      <td>165555.0</td>\n",
              "      <td>34.37</td>\n",
              "      <td>84.08</td>\n",
              "      <td>241.0</td>\n",
              "      <td>1427.0</td>\n",
              "      <td>2466.0</td>\n",
              "      <td>0.747</td>\n",
              "    </tr>\n",
              "    <tr>\n",
              "      <th>7754</th>\n",
              "      <td>2021-05-07</td>\n",
              "      <td>Wyoming</td>\n",
              "      <td>367548.0</td>\n",
              "      <td>487055.0</td>\n",
              "      <td>200309.0</td>\n",
              "      <td>29.09</td>\n",
              "      <td>63.51</td>\n",
              "      <td>168356.0</td>\n",
              "      <td>34.61</td>\n",
              "      <td>84.16</td>\n",
              "      <td>4158.0</td>\n",
              "      <td>1642.0</td>\n",
              "      <td>2837.0</td>\n",
              "      <td>0.755</td>\n",
              "    </tr>\n",
              "    <tr>\n",
              "      <th>7755</th>\n",
              "      <td>2021-05-08</td>\n",
              "      <td>Wyoming</td>\n",
              "      <td>369771.0</td>\n",
              "      <td>490875.0</td>\n",
              "      <td>201002.0</td>\n",
              "      <td>29.36</td>\n",
              "      <td>63.89</td>\n",
              "      <td>169905.0</td>\n",
              "      <td>34.73</td>\n",
              "      <td>84.82</td>\n",
              "      <td>2223.0</td>\n",
              "      <td>1650.0</td>\n",
              "      <td>2851.0</td>\n",
              "      <td>0.753</td>\n",
              "    </tr>\n",
              "    <tr>\n",
              "      <th>7756</th>\n",
              "      <td>2021-05-09</td>\n",
              "      <td>Wyoming</td>\n",
              "      <td>369975.0</td>\n",
              "      <td>490875.0</td>\n",
              "      <td>201135.0</td>\n",
              "      <td>29.39</td>\n",
              "      <td>63.93</td>\n",
              "      <td>170086.0</td>\n",
              "      <td>34.75</td>\n",
              "      <td>84.82</td>\n",
              "      <td>204.0</td>\n",
              "      <td>1638.0</td>\n",
              "      <td>2830.0</td>\n",
              "      <td>0.754</td>\n",
              "    </tr>\n",
              "    <tr>\n",
              "      <th>7757</th>\n",
              "      <td>2021-05-10</td>\n",
              "      <td>Wyoming</td>\n",
              "      <td>370014.0</td>\n",
              "      <td>490875.0</td>\n",
              "      <td>201174.0</td>\n",
              "      <td>29.40</td>\n",
              "      <td>63.93</td>\n",
              "      <td>170130.0</td>\n",
              "      <td>34.76</td>\n",
              "      <td>84.82</td>\n",
              "      <td>39.0</td>\n",
              "      <td>1638.0</td>\n",
              "      <td>2830.0</td>\n",
              "      <td>0.754</td>\n",
              "    </tr>\n",
              "  </tbody>\n",
              "</table>\n",
              "</div>"
            ],
            "text/plain": [
              "            date location  ...  daily_vaccinations_per_million  share_doses_used\n",
              "7753  2021-05-06  Wyoming  ...                          2466.0             0.747\n",
              "7754  2021-05-07  Wyoming  ...                          2837.0             0.755\n",
              "7755  2021-05-08  Wyoming  ...                          2851.0             0.753\n",
              "7756  2021-05-09  Wyoming  ...                          2830.0             0.754\n",
              "7757  2021-05-10  Wyoming  ...                          2830.0             0.754\n",
              "\n",
              "[5 rows x 14 columns]"
            ]
          },
          "metadata": {
            "tags": []
          },
          "execution_count": 3
        }
      ]
    },
    {
      "cell_type": "markdown",
      "metadata": {
        "id": "D8K_pmQDeLxH"
      },
      "source": [
        "#### Creating a Scatterplot"
      ]
    },
    {
      "cell_type": "markdown",
      "metadata": {
        "id": "w-thnqpheLxJ"
      },
      "source": [
        "<cite>Scatter Plot — Matplotlib 3.3.4 Documentation. https://matplotlib.org/stable/gallery/shapes_and_collections/scatter.html. Accessed 14 Mar. 2021.</cite>"
      ]
    },
    {
      "cell_type": "code",
      "metadata": {
        "colab": {
          "base_uri": "https://localhost:8080/",
          "height": 380
        },
        "id": "KuTTOkDTeLxK",
        "outputId": "e4b8f353-4adb-4ad7-f620-3db13cdb14ef"
      },
      "source": [
        "px = 1/plt.rcParams['figure.dpi']  # pixel in inches\n",
        "fig, ax = plt.subplots(1,figsize=(600*px, 400*px))\n",
        "\n",
        "ax.scatter(data.total_distributed, data.total_vaccinations)\n",
        "\n",
        "# Add labels, a title and grid lines to the plot\n",
        "ax.set_xlabel( 'Total Distributed' )\n",
        "ax.set_ylabel( 'Total Vaccinations' )\n",
        "plt.title( 'Distributed vs. Vaccinated per State' )\n",
        "ax.grid()\n",
        "\n",
        "# Show the figure (here in Jupyter)\n",
        "plt.show( fig )\n",
        "plt.close( fig )"
      ],
      "execution_count": 4,
      "outputs": [
        {
          "output_type": "display_data",
          "data": {
            "image/png": "[encoded data removed]",
            "text/plain": [
              "<Figure size 600x400 with 1 Axes>"
            ]
          },
          "metadata": {
            "tags": [],
            "needs_background": "light"
          }
        }
      ]
    },
    {
      "cell_type": "markdown",
      "metadata": {
        "id": "ZXA1DK_JeLxL"
      },
      "source": [
        "#### Creating a Bar Chart"
      ]
    },
    {
      "cell_type": "markdown",
      "metadata": {
        "id": "Gzk60SeYeLxM"
      },
      "source": [
        "<cite>Grouped Bar Chart with Labels — Matplotlib 3.3.4 Documentation. https://matplotlib.org/stable/gallery/lines_bars_and_markers/barchart.html. Accessed 14 Mar. 2021.\n",
        "</cite>"
      ]
    },
    {
      "cell_type": "code",
      "metadata": {
        "colab": {
          "base_uri": "https://localhost:8080/",
          "height": 309
        },
        "id": "ESm6VLiXt1fc",
        "outputId": "a697b1ee-70cb-457c-cc4e-6b484bce294c"
      },
      "source": [
        "currentDate = data.iloc[len(data)-1].date\n",
        "data[(data.date == currentDate)].head()"
      ],
      "execution_count": 19,
      "outputs": [
        {
          "output_type": "execute_result",
          "data": {
            "text/html": [
              "<div>\n",
              "<style scoped>\n",
              "    .dataframe tbody tr th:only-of-type {\n",
              "        vertical-align: middle;\n",
              "    }\n",
              "\n",
              "    .dataframe tbody tr th {\n",
              "        vertical-align: top;\n",
              "    }\n",
              "\n",
              "    .dataframe thead th {\n",
              "        text-align: right;\n",
              "    }\n",
              "</style>\n",
              "<table border=\"1\" class=\"dataframe\">\n",
              "  <thead>\n",
              "    <tr style=\"text-align: right;\">\n",
              "      <th></th>\n",
              "      <th>date</th>\n",
              "      <th>location</th>\n",
              "      <th>total_vaccinations</th>\n",
              "      <th>total_distributed</th>\n",
              "      <th>people_vaccinated</th>\n",
              "      <th>people_fully_vaccinated_per_hundred</th>\n",
              "      <th>total_vaccinations_per_hundred</th>\n",
              "      <th>people_fully_vaccinated</th>\n",
              "      <th>people_vaccinated_per_hundred</th>\n",
              "      <th>distributed_per_hundred</th>\n",
              "      <th>daily_vaccinations_raw</th>\n",
              "      <th>daily_vaccinations</th>\n",
              "      <th>daily_vaccinations_per_million</th>\n",
              "      <th>share_doses_used</th>\n",
              "    </tr>\n",
              "  </thead>\n",
              "  <tbody>\n",
              "    <tr>\n",
              "      <th>118</th>\n",
              "      <td>2021-05-10</td>\n",
              "      <td>Alabama</td>\n",
              "      <td>2773615.0</td>\n",
              "      <td>4277330.0</td>\n",
              "      <td>1657672.0</td>\n",
              "      <td>25.98</td>\n",
              "      <td>56.57</td>\n",
              "      <td>1273670.0</td>\n",
              "      <td>33.81</td>\n",
              "      <td>87.24</td>\n",
              "      <td>5411.0</td>\n",
              "      <td>20899.0</td>\n",
              "      <td>4262.0</td>\n",
              "      <td>0.648</td>\n",
              "    </tr>\n",
              "    <tr>\n",
              "      <th>237</th>\n",
              "      <td>2021-05-10</td>\n",
              "      <td>Alaska</td>\n",
              "      <td>575174.0</td>\n",
              "      <td>777945.0</td>\n",
              "      <td>314070.0</td>\n",
              "      <td>37.03</td>\n",
              "      <td>78.62</td>\n",
              "      <td>270922.0</td>\n",
              "      <td>42.93</td>\n",
              "      <td>106.34</td>\n",
              "      <td>3806.0</td>\n",
              "      <td>1757.0</td>\n",
              "      <td>2402.0</td>\n",
              "      <td>0.739</td>\n",
              "    </tr>\n",
              "    <tr>\n",
              "      <th>356</th>\n",
              "      <td>2021-05-10</td>\n",
              "      <td>American Samoa</td>\n",
              "      <td>39666.0</td>\n",
              "      <td>54030.0</td>\n",
              "      <td>22122.0</td>\n",
              "      <td>31.77</td>\n",
              "      <td>71.23</td>\n",
              "      <td>17695.0</td>\n",
              "      <td>39.72</td>\n",
              "      <td>97.02</td>\n",
              "      <td>0.0</td>\n",
              "      <td>132.0</td>\n",
              "      <td>2370.0</td>\n",
              "      <td>0.734</td>\n",
              "    </tr>\n",
              "    <tr>\n",
              "      <th>475</th>\n",
              "      <td>2021-05-10</td>\n",
              "      <td>Arizona</td>\n",
              "      <td>5411726.0</td>\n",
              "      <td>7081205.0</td>\n",
              "      <td>3096670.0</td>\n",
              "      <td>31.91</td>\n",
              "      <td>74.35</td>\n",
              "      <td>2322939.0</td>\n",
              "      <td>42.54</td>\n",
              "      <td>97.29</td>\n",
              "      <td>39121.0</td>\n",
              "      <td>33564.0</td>\n",
              "      <td>4611.0</td>\n",
              "      <td>0.764</td>\n",
              "    </tr>\n",
              "    <tr>\n",
              "      <th>594</th>\n",
              "      <td>2021-05-10</td>\n",
              "      <td>Arkansas</td>\n",
              "      <td>1905274.0</td>\n",
              "      <td>2677170.0</td>\n",
              "      <td>1109772.0</td>\n",
              "      <td>27.95</td>\n",
              "      <td>63.13</td>\n",
              "      <td>843372.0</td>\n",
              "      <td>36.77</td>\n",
              "      <td>88.71</td>\n",
              "      <td>5272.0</td>\n",
              "      <td>10766.0</td>\n",
              "      <td>3567.0</td>\n",
              "      <td>0.712</td>\n",
              "    </tr>\n",
              "  </tbody>\n",
              "</table>\n",
              "</div>"
            ],
            "text/plain": [
              "           date  ... share_doses_used\n",
              "118  2021-05-10  ...            0.648\n",
              "237  2021-05-10  ...            0.739\n",
              "356  2021-05-10  ...            0.734\n",
              "475  2021-05-10  ...            0.764\n",
              "594  2021-05-10  ...            0.712\n",
              "\n",
              "[5 rows x 14 columns]"
            ]
          },
          "metadata": {
            "tags": []
          },
          "execution_count": 19
        }
      ]
    },
    {
      "cell_type": "code",
      "metadata": {
        "colab": {
          "base_uri": "https://localhost:8080/",
          "height": 304
        },
        "id": "UsjjdEJseLxO",
        "outputId": "5998894d-597b-43b2-f613-700abc90c8cf"
      },
      "source": [
        "# creating the bar plot\n",
        "top10 = [\"California\",\"Texas\",\"Florida\",\"New York State\",\"Illinois\",\"Pennsylvania\",\"Ohio\",\"Georgia\",\"North Carolina\",\"Michigan\"]\n",
        "data = data[(data.date == currentDate)]\n",
        "top10Yest = data[data.location.isin(top10)]\n",
        "px = 1/plt.rcParams['figure.dpi']  # pixel in inches\n",
        "fig, ax = plt.subplots(1,figsize=(1000*px, 300*px))\n",
        "ax.bar(top10Yest.location, top10Yest.total_vaccinations, color ='maroon', width = 0.4)\n",
        "\n",
        "# Add labels, a title and grid lines to the plot\n",
        "ax.set_xlabel( 'Locations' )\n",
        "ax.set_ylabel( 'Total Vaccinations' )\n",
        "plt.title( 'Vaccinations Yesterday per Location' )\n",
        "# Show the figure (here in Jupyter)\n",
        "plt.show( fig )\n",
        "plt.close( fig )"
      ],
      "execution_count": 22,
      "outputs": [
        {
          "output_type": "display_data",
          "data": {
            "image/png": "[encoded data removed]",
            "text/plain": [
              "<Figure size 1000x300 with 1 Axes>"
            ]
          },
          "metadata": {
            "tags": [],
            "needs_background": "light"
          }
        }
      ]
    },
    {
      "cell_type": "code",
      "metadata": {
        "colab": {
          "base_uri": "https://localhost:8080/",
          "height": 304
        },
        "id": "zR6D5WFWeLxP",
        "outputId": "64b829b2-1a3f-4dbd-e822-0385b9d7edf8"
      },
      "source": [
        "# creating the bar plot\n",
        "top10 = [\"California\",\"Texas\",\"Florida\",\"New York State\",\"Illinois\",\"Pennsylvania\",\"Ohio\",\"Georgia\",\"North Carolina\",\"Michigan\"]\n",
        "\n",
        "sortedData = data.sort_values(by=['total_vaccinations'])\n",
        "top10 = sortedData[sortedData.location.isin(top10)]\n",
        "\n",
        "px = 1/plt.rcParams['figure.dpi']  # pixel in inches\n",
        "fig, ax = plt.subplots(1,figsize=(1000*px, 300*px))\n",
        "ax.bar(top10.location, top10.total_vaccinations, color ='maroon', width = 0.4)\n",
        "\n",
        "# Add labels, a title and grid lines to the plot\n",
        "ax.set_xlabel( 'Locations' )\n",
        "ax.set_ylabel( 'Total Vaccinations' )\n",
        "plt.title( 'Vaccinations Yesterday per Location' )\n",
        "# Show the figure (here in Jupyter)\n",
        "plt.show( fig )\n",
        "plt.close( fig )\n"
      ],
      "execution_count": 23,
      "outputs": [
        {
          "output_type": "display_data",
          "data": {
            "image/png": "[encoded data removed]",
            "text/plain": [
              "<Figure size 1000x300 with 1 Axes>"
            ]
          },
          "metadata": {
            "tags": [],
            "needs_background": "light"
          }
        }
      ]
    },
    {
      "cell_type": "code",
      "metadata": {
        "colab": {
          "base_uri": "https://localhost:8080/",
          "height": 336,
          "referenced_widgets": [
            "b6042c740caf4ccbbc47efbf9e4e885c",
            "badc54d23f2044d1a6afc08135463822",
            "8c5cbe6a30d74444bdb247a1566e14ff",
            "011e80458e61434a8ece06a00ce104f9",
            "52f9258b13a343d3b1072ac1d98b0b27",
            "5a4b855a4570457ab3b77a8f12c15e84",
            "0babd6222c484677a6dd39cdbe163ce1"
          ]
        },
        "id": "RmSEpSo80fPB",
        "outputId": "5a3d52a2-1892-4601-e234-51452d4eeef9"
      },
      "source": [
        "import ipywidgets as widgets\n",
        "from IPython.display import display\n",
        "\n",
        "options = ['total_vaccinations', 'total_distributed', 'people_fully_vaccinated_per_hundred', 'total_vaccinations_per_hundred']\n",
        "\n",
        "def on_change(updatePlot):\n",
        "  top10 = [\"California\",\"Texas\",\"Florida\",\"New York State\",\"Illinois\",\"Pennsylvania\",\"Ohio\",\"Georgia\",\"North Carolina\",\"Michigan\"]\n",
        "\n",
        "  sortedData = data.sort_values(by=[updatePlot])\n",
        "  top10 = sortedData[sortedData.location.isin(top10)]\n",
        "\n",
        "  px = 1/plt.rcParams['figure.dpi']  # pixel in inches\n",
        "  fig, ax = plt.subplots(1,figsize=(1000*px, 300*px))\n",
        "  ax.bar(top10.location, top10[updatePlot], color ='maroon', width = 0.4)\n",
        "\n",
        "  # Add labels, a title and grid lines to the plot\n",
        "  ax.set_xlabel( 'Locations' )\n",
        "  ax.set_ylabel( updatePlot )\n",
        "  plt.title( updatePlot+' Yesterday per Location' )\n",
        "  # Show the figure (here in Jupyter)\n",
        "  plt.show( fig )\n",
        "  plt.close( fig )\n",
        "\n",
        "widgets.interact(on_change, updatePlot=options)"
      ],
      "execution_count": 58,
      "outputs": [
        {
          "output_type": "display_data",
          "data": {
            "application/vnd.jupyter.widget-view+json": {
              "model_id": "b6042c740caf4ccbbc47efbf9e4e885c",
              "version_minor": 0,
              "version_major": 2
            },
            "text/plain": [
              "interactive(children=(Dropdown(description='updatePlot', options=('total_vaccinations', 'total_distributed', '…"
            ]
          },
          "metadata": {
            "tags": []
          }
        }
      ]
    },
    {
      "cell_type": "code",
      "metadata": {
        "id": "O_FXbaIU4UES"
      },
      "source": [
        ""
      ],
      "execution_count": null,
      "outputs": []
    }
  ]
}