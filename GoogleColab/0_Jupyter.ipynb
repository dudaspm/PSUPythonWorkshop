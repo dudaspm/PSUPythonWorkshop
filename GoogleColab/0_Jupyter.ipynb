{
  "nbformat": 4,
  "nbformat_minor": 0,
  "metadata": {
    "celltoolbar": "Slideshow",
    "kernelspec": {
      "display_name": "Python 3",
      "language": "python",
      "name": "python3"
    },
    "language_info": {
      "codemirror_mode": {
        "name": "ipython",
        "version": 3
      },
      "file_extension": ".py",
      "mimetype": "text/x-python",
      "name": "python",
      "nbconvert_exporter": "python",
      "pygments_lexer": "ipython3",
      "version": "3.6.4"
    },
    "colab": {
      "name": "0.Jupyter.ipynb",
      "provenance": [],
      "include_colab_link": true
    }
  },
  "cells": [
    {
      "cell_type": "markdown",
      "metadata": {
        "id": "view-in-github",
        "colab_type": "text"
      },
      "source": [
        "<a href=\"https://colab.research.google.com/github/dudaspm/PSUPythonWorkshop/blob/master/GoogleColab/0_Jupyter.ipynb\" target=\"_parent\"><img src=\"https://colab.research.google.com/assets/colab-badge.svg\" alt=\"Open In Colab\"/></a>"
      ]
    },
    {
      "cell_type": "markdown",
      "metadata": {
        "id": "SO6NO_pTadCW",
        "colab_type": "text"
      },
      "source": [
        "# Using Jupyter"
      ]
    },
    {
      "cell_type": "markdown",
      "metadata": {
        "id": "Wb5Khd6qadCX",
        "colab_type": "text"
      },
      "source": [
        "Jupyter is a powerful suite of tools that alls us to do many things. Here are some of the basics."
      ]
    },
    {
      "cell_type": "markdown",
      "metadata": {
        "id": "fW_hE3x8adCY",
        "colab_type": "text"
      },
      "source": [
        "## Basics"
      ]
    },
    {
      "cell_type": "markdown",
      "metadata": {
        "id": "bPC3cILJadCY",
        "colab_type": "text"
      },
      "source": [
        "Jupyter is capable of running __Ju__lia, __Py__thon and __R__, as well as some other things.  You can tell what you are running by looking in the upper right hand corner.  It will also tell you which version of python you are using.  We will be using 3 today, but these are very similar."
      ]
    },
    {
      "cell_type": "markdown",
      "metadata": {
        "id": "vl0_tD-9adCY",
        "colab_type": "text"
      },
      "source": [
        "You can tell where you are running by looking at the URL listed for the webpage.  If it says _localhost:_, you are running on your own local machine with access to all of your local files.  If it says _lxclusterapps_, you are running on the TLT instance, with access to your PASS storage space."
      ]
    },
    {
      "cell_type": "markdown",
      "metadata": {
        "id": "Ud-Je4sZadCZ",
        "colab_type": "text"
      },
      "source": [
        "Jupyter will automatically save your file periodically.  You should save manually to ensure your changes are kept."
      ]
    },
    {
      "cell_type": "markdown",
      "metadata": {
        "id": "vZ2TIzVoadCZ",
        "colab_type": "text"
      },
      "source": [
        "## Cells"
      ]
    },
    {
      "cell_type": "markdown",
      "metadata": {
        "id": "SYC_a0x2adCa",
        "colab_type": "text"
      },
      "source": [
        "Each box is called a cell.  Cells can be run using the __Run__ button above, or by seclecting one of the run options under the __Cell__ menu. Try this out! You can change what is in the cell and rerun the same cell, which is useful for debugging."
      ]
    },
    {
      "cell_type": "code",
      "metadata": {
        "id": "F0y6NnRIadCa",
        "colab_type": "code",
        "colab": {},
        "outputId": "fdb92793-1bb0-4934-9188-c80729f51506"
      },
      "source": [
        "5+4"
      ],
      "execution_count": null,
      "outputs": [
        {
          "output_type": "execute_result",
          "data": {
            "text/plain": [
              "9"
            ]
          },
          "metadata": {
            "tags": []
          },
          "execution_count": 5
        }
      ]
    },
    {
      "cell_type": "markdown",
      "metadata": {
        "id": "MZ_J6G5sadCe",
        "colab_type": "text"
      },
      "source": [
        "You can stop any cell from running using the stop botton, a black square, next to the __Run__ button above. You may have to do this if you write code with an infinite loop, or realize you had a mistake and want to make some changes to running code."
      ]
    },
    {
      "cell_type": "markdown",
      "metadata": {
        "id": "k2QVjYnBadCe",
        "colab_type": "text"
      },
      "source": [
        "Jupyter also comes with many keyboard shortcuts that make life easier.  Find these for your operating system by selecting __Keyboard Shortcuts__ under the __Help__ menu. "
      ]
    },
    {
      "cell_type": "markdown",
      "metadata": {
        "id": "kwah5rluadCe",
        "colab_type": "text"
      },
      "source": [
        "## Adding commments"
      ]
    },
    {
      "cell_type": "markdown",
      "metadata": {
        "id": "dikkWdj-adCf",
        "colab_type": "text"
      },
      "source": [
        "First, using the dropdown box labeled \"code\", change this markdown"
      ]
    },
    {
      "cell_type": "markdown",
      "metadata": {
        "id": "yqAhhDeFadCf",
        "colab_type": "text"
      },
      "source": [
        "Here is a list of action that can be accomplished in markdown: __[IBM Markdown CheatSheet](https://medium.com/ibm-data-science-experience/markdown-for-jupyter-notebooks-cheatsheet-386c05aeebed)__ and __[Jupyter Markdown CheatSheet](https://jupyter-notebook.readthedocs.io/en/stable/examples/Notebook/Working%20With%20Markdown%20Cells.html)__"
      ]
    },
    {
      "cell_type": "markdown",
      "metadata": {
        "id": "vGi0uW-hadCg",
        "colab_type": "text"
      },
      "source": [
        "We can add images:"
      ]
    },
    {
      "cell_type": "markdown",
      "metadata": {
        "id": "1Ayf9ZZCadCg",
        "colab_type": "text"
      },
      "source": [
        "![alt text](https://news.psu.edu/sites/default/files/styles/photo_gallery_large/public/-1_0.png?itok=5l-RkCvC \"Penn State Logo\")"
      ]
    },
    {
      "cell_type": "markdown",
      "metadata": {
        "id": "yCUcaKPZadCg",
        "colab_type": "text"
      },
      "source": [
        "This includes adding LaTeX"
      ]
    },
    {
      "cell_type": "markdown",
      "metadata": {
        "id": "P17aL2AYadCh",
        "colab_type": "text"
      },
      "source": [
        "$$e^x=\\sum_{i=0}^\\infty \\frac{1}{i!}x^i$$"
      ]
    },
    {
      "cell_type": "markdown",
      "metadata": {
        "id": "OkGh-FgkadCh",
        "colab_type": "text"
      },
      "source": [
        "## Comments in code"
      ]
    },
    {
      "cell_type": "markdown",
      "metadata": {
        "id": "VyBXsmeAadCi",
        "colab_type": "text"
      },
      "source": [
        "Also, you can add comments directly into Python code as comments. This done using the # symbol."
      ]
    },
    {
      "cell_type": "code",
      "metadata": {
        "id": "G4EdyEA1adCi",
        "colab_type": "code",
        "colab": {}
      },
      "source": [
        "# Here is a comment in Python\n",
        "# This done within the coding itself"
      ],
      "execution_count": null,
      "outputs": []
    },
    {
      "cell_type": "code",
      "metadata": {
        "id": "p0MThuFsadCk",
        "colab_type": "code",
        "colab": {}
      },
      "source": [
        ""
      ],
      "execution_count": null,
      "outputs": []
    }
  ]
}