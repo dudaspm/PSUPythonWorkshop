{
  "nbformat": 4,
  "nbformat_minor": 0,
  "metadata": {
    "celltoolbar": "Slideshow",
    "kernelspec": {
      "display_name": "Python 3",
      "language": "python",
      "name": "python3"
    },
    "language_info": {
      "codemirror_mode": {
        "name": "ipython",
        "version": 3
      },
      "file_extension": ".py",
      "mimetype": "text/x-python",
      "name": "python",
      "nbconvert_exporter": "python",
      "pygments_lexer": "ipython3",
      "version": "3.6.4"
    },
    "colab": {
      "name": "4.ShoppingList.ipynb",
      "provenance": [],
      "include_colab_link": true
    }
  },
  "cells": [
    {
      "cell_type": "markdown",
      "metadata": {
        "id": "view-in-github",
        "colab_type": "text"
      },
      "source": [
        "<a href=\"https://colab.research.google.com/github/dudaspm/PSUPythonWorkshop/blob/master/GoogleColab/Session1/4_ShoppingList.ipynb\" target=\"_parent\"><img src=\"https://colab.research.google.com/assets/colab-badge.svg\" alt=\"Open In Colab\"/></a>"
      ]
    },
    {
      "cell_type": "markdown",
      "metadata": {
        "id": "sJr-jMybdIyQ",
        "colab_type": "text"
      },
      "source": [
        "# Let's create a shopping list!"
      ]
    },
    {
      "cell_type": "markdown",
      "metadata": {
        "id": "gNbqESyudIyR",
        "colab_type": "text"
      },
      "source": [
        "## First, let's just create a list"
      ]
    },
    {
      "cell_type": "code",
      "metadata": {
        "id": "ZKb5-EGAdIyS",
        "colab_type": "code",
        "colab": {}
      },
      "source": [
        "shoppingList = []"
      ],
      "execution_count": null,
      "outputs": []
    },
    {
      "cell_type": "markdown",
      "metadata": {
        "id": "r7AZ-vq9dIyV",
        "colab_type": "text"
      },
      "source": [
        "Let's create a function to add new items to my shopping list."
      ]
    },
    {
      "cell_type": "code",
      "metadata": {
        "id": "AiRfQHz5dIyV",
        "colab_type": "code",
        "colab": {}
      },
      "source": [
        "def addToShoppingList(itemToAdd):\n",
        "    shoppingList.append(itemToAdd)"
      ],
      "execution_count": null,
      "outputs": []
    },
    {
      "cell_type": "markdown",
      "metadata": {
        "id": "ltg_-VY2dIyX",
        "colab_type": "text"
      },
      "source": [
        "Walking around my kitchen I notice we are missing milk."
      ]
    },
    {
      "cell_type": "code",
      "metadata": {
        "id": "Ni3a-2xCdIyY",
        "colab_type": "code",
        "colab": {}
      },
      "source": [
        "addToShoppingList(\"milk\")"
      ],
      "execution_count": null,
      "outputs": []
    },
    {
      "cell_type": "markdown",
      "metadata": {
        "id": "RDUmGYOgdIya",
        "colab_type": "text"
      },
      "source": [
        "We have 3 eggs left (always want 6 on hand)."
      ]
    },
    {
      "cell_type": "code",
      "metadata": {
        "id": "cieBsm0qdIya",
        "colab_type": "code",
        "colab": {}
      },
      "source": [
        "numberOfEggs = 3\n",
        "if (numberOfEggs < 6): addToShoppingList(\"eggs\")"
      ],
      "execution_count": null,
      "outputs": []
    },
    {
      "cell_type": "markdown",
      "metadata": {
        "id": "014KsC4vdIyc",
        "colab_type": "text"
      },
      "source": [
        "I want to make spaghetti for dinner (need sauce, spaghetti, and bread)."
      ]
    },
    {
      "cell_type": "code",
      "metadata": {
        "id": "Rr42IoACdIyc",
        "colab_type": "code",
        "colab": {}
      },
      "source": [
        "spaghettiRecipe = [\"sauce\",\"spaghetti\",\"bread\"]\n",
        "for ingredient in spaghettiRecipe:\n",
        "    addToShoppingList(ingredient)"
      ],
      "execution_count": null,
      "outputs": []
    },
    {
      "cell_type": "markdown",
      "metadata": {
        "id": "oMrtkHqDdIyh",
        "colab_type": "text"
      },
      "source": [
        "Let's see what we have so far."
      ]
    },
    {
      "cell_type": "code",
      "metadata": {
        "id": "fm1LWfF0dIyi",
        "colab_type": "code",
        "colab": {},
        "outputId": "de7e9222-b1cc-444e-daff-54a3fd6a0f78"
      },
      "source": [
        "print( shoppingList )"
      ],
      "execution_count": null,
      "outputs": [
        {
          "output_type": "stream",
          "text": [
            "['milk', 'eggs', 'sauce', 'spaghetti', 'bread']\n"
          ],
          "name": "stdout"
        }
      ]
    },
    {
      "cell_type": "markdown",
      "metadata": {
        "id": "U_Jp2vs3dIyl",
        "colab_type": "text"
      },
      "source": [
        "Not the easiest to read. Let's try this another way:"
      ]
    },
    {
      "cell_type": "code",
      "metadata": {
        "id": "aYnJumzHdIym",
        "colab_type": "code",
        "colab": {},
        "outputId": "6d7d944f-b837-4535-88ce-467e2a2fb8a3"
      },
      "source": [
        "for item in shoppingList:\n",
        "    print( item )"
      ],
      "execution_count": null,
      "outputs": [
        {
          "output_type": "stream",
          "text": [
            "milk\n",
            "eggs\n",
            "sauce\n",
            "spaghetti\n",
            "bread\n"
          ],
          "name": "stdout"
        }
      ]
    },
    {
      "cell_type": "markdown",
      "metadata": {
        "id": "oi0NyzZgdIyo",
        "colab_type": "text"
      },
      "source": [
        "## Second, let's add some prices"
      ]
    },
    {
      "cell_type": "markdown",
      "metadata": {
        "id": "7FVrFXGfdIyo",
        "colab_type": "text"
      },
      "source": [
        "So I want to keep an eye on my budget, so I note all the prices."
      ]
    },
    {
      "cell_type": "markdown",
      "metadata": {
        "id": "SOXt6BTadIyo",
        "colab_type": "text"
      },
      "source": [
        "First, I will set all prices to 0."
      ]
    },
    {
      "cell_type": "code",
      "metadata": {
        "id": "A3dGOLzedIyp",
        "colab_type": "code",
        "colab": {},
        "outputId": "5d13a104-96e5-4b6a-8f3e-336cc4c1fc05"
      },
      "source": [
        "shoppingPrices = {}\n",
        "for item in shoppingList:\n",
        "    shoppingPrices[item] = 0\n",
        "print( shoppingPrices )"
      ],
      "execution_count": null,
      "outputs": [
        {
          "output_type": "stream",
          "text": [
            "{'milk': 0, 'eggs': 0, 'sauce': 0, 'spaghetti': 0, 'bread': 0}\n"
          ],
          "name": "stdout"
        }
      ]
    },
    {
      "cell_type": "markdown",
      "metadata": {
        "id": "5Gb4D7qodIyr",
        "colab_type": "text"
      },
      "source": [
        "Now I will manually add prices for each item."
      ]
    },
    {
      "cell_type": "code",
      "metadata": {
        "id": "fbEawJ80dIyr",
        "colab_type": "code",
        "colab": {}
      },
      "source": [
        "shoppingPrices['spaghetti'] = .99\n",
        "shoppingPrices['eggs'] = 1.99\n",
        "shoppingPrices['sauce'] = 2.15\n",
        "shoppingPrices['milk'] = 2.85\n",
        "shoppingPrices['bread'] = 1.49"
      ],
      "execution_count": null,
      "outputs": []
    },
    {
      "cell_type": "code",
      "metadata": {
        "id": "3nV-mTHgdIyt",
        "colab_type": "code",
        "colab": {},
        "outputId": "00897304-cc40-4920-8987-5f031ecaedd8"
      },
      "source": [
        "print( shoppingPrices )"
      ],
      "execution_count": null,
      "outputs": [
        {
          "output_type": "stream",
          "text": [
            "{'milk': 2.85, 'eggs': 1.99, 'sauce': 2.15, 'spaghetti': 0.99, 'bread': 1.49}\n"
          ],
          "name": "stdout"
        }
      ]
    },
    {
      "cell_type": "markdown",
      "metadata": {
        "id": "zddcfonSdIyv",
        "colab_type": "text"
      },
      "source": [
        "Also, I don't want to manually put in values. \n",
        "\n",
        "For this example, I will just use random values. Let's see an example of how to do this:"
      ]
    },
    {
      "cell_type": "code",
      "metadata": {
        "id": "uOh4ARbBdIyw",
        "colab_type": "code",
        "colab": {},
        "outputId": "55a80eca-dcb5-4e54-89bc-58b0f909577b"
      },
      "source": [
        "# first, import the random library\n",
        "import random\n",
        "# to create a random integer, use randint and the range (lowest values, highest values (-1))\n",
        "print( random.randint(1,21) )\n",
        "# now make this into a decimal price\n",
        "# example for eggs, let's assume the price can go from 1.50 to 2.50 (NOTE the 251)\n",
        "print( random.randint(150,251)/100 )"
      ],
      "execution_count": null,
      "outputs": [
        {
          "output_type": "stream",
          "text": [
            "7\n",
            "1.8\n"
          ],
          "name": "stdout"
        }
      ]
    },
    {
      "cell_type": "markdown",
      "metadata": {
        "id": "OkU3gVyRdIyx",
        "colab_type": "text"
      },
      "source": [
        "why are we only getting two options (1 or 2)? \n",
        "\n",
        "We need a decimal! So let's type-cast using float()."
      ]
    },
    {
      "cell_type": "code",
      "metadata": {
        "id": "ntgEWLYUdIyy",
        "colab_type": "code",
        "colab": {},
        "outputId": "94aff8cb-888e-41ce-8a22-9fa92359dd84"
      },
      "source": [
        "print( random.randint(150,251)/float(100) )\n",
        "print( random.randint(150,251)/float(100) )\n",
        "print( random.randint(150,251)/float(100) )\n",
        "print( random.randint(150,251)/float(100) )"
      ],
      "execution_count": null,
      "outputs": [
        {
          "output_type": "stream",
          "text": [
            "1.51\n",
            "1.61\n",
            "2.26\n",
            "2.32\n"
          ],
          "name": "stdout"
        }
      ]
    },
    {
      "cell_type": "markdown",
      "metadata": {
        "id": "4gAOctezdIy0",
        "colab_type": "text"
      },
      "source": [
        "Let's define are ranges:\n",
        "-  Spaghetti (.75 - 1.00)\n",
        "-  Eggs (1.50 - 2.50)\n",
        "-  Sauce (2.00 - 3.00)\n",
        "-  Milk (2.50 - 4.00)\n",
        "-  Bread (1.25 - 1.75)"
      ]
    },
    {
      "cell_type": "code",
      "metadata": {
        "id": "qfgKj35SdIy0",
        "colab_type": "code",
        "colab": {}
      },
      "source": [
        "def createRandomPrice(item):\n",
        "    if (item==\"spaghetti\"): return random.randint(75,100)/float(100)\n",
        "    if (item==\"eggs\"): return random.randint(150,250)/float(100)\n",
        "    if (item==\"sauce\"): return random.randint(200,300)/float(100)\n",
        "    if (item==\"milk\"): return random.randint(250,400)/float(100)\n",
        "    if (item==\"bread\"): return random.randint(125,175)/float(100)"
      ],
      "execution_count": null,
      "outputs": []
    },
    {
      "cell_type": "markdown",
      "metadata": {
        "id": "UDc-wHIhdIy2",
        "colab_type": "text"
      },
      "source": [
        "## Third, some serious code here"
      ]
    },
    {
      "cell_type": "markdown",
      "metadata": {
        "id": "Z1FHgRjrdIy2",
        "colab_type": "text"
      },
      "source": [
        "Idea!! I will go to multiple stores to get the best prices!\n",
        "\n",
        "Here is what I need:\n",
        "\n",
        "We will need a list of stores (Wegmans, Wal-Mart, Giant, Trader Joes).\n",
        "\n",
        "For each store, we will need a list of the stores and our shopping list.\n",
        "\n",
        "Let's start with our store names:"
      ]
    },
    {
      "cell_type": "code",
      "metadata": {
        "id": "XWQETLFVdIy3",
        "colab_type": "code",
        "colab": {}
      },
      "source": [
        "storeNames = [\"Wegmans\",\"Wal-Mart\",\"Giant\",\"Trader Joes\"]"
      ],
      "execution_count": null,
      "outputs": []
    },
    {
      "cell_type": "code",
      "metadata": {
        "id": "hVD5KMVPdIy5",
        "colab_type": "code",
        "colab": {},
        "outputId": "e5832035-219c-4518-d5b6-90dd810eb784"
      },
      "source": [
        "for storeName in storeNames:\n",
        "    print( storeName )"
      ],
      "execution_count": null,
      "outputs": [
        {
          "output_type": "stream",
          "text": [
            "Wegmans\n",
            "Wal-Mart\n",
            "Giant\n",
            "Trader Joes\n"
          ],
          "name": "stdout"
        }
      ]
    },
    {
      "cell_type": "markdown",
      "metadata": {
        "id": "vasxZnsWdIy7",
        "colab_type": "text"
      },
      "source": [
        "OK, let's test this:"
      ]
    },
    {
      "cell_type": "code",
      "metadata": {
        "id": "m0tCQZokdIy7",
        "colab_type": "code",
        "colab": {},
        "outputId": "b0c3dda2-c78d-4c8f-9d9c-caaa888e8bce"
      },
      "source": [
        "for item in shoppingList:\n",
        "    print( item, createRandomPrice( item ) )"
      ],
      "execution_count": null,
      "outputs": [
        {
          "output_type": "stream",
          "text": [
            "milk 3.85\n",
            "eggs 2.33\n",
            "sauce 2.32\n",
            "spaghetti 0.96\n",
            "bread 1.31\n"
          ],
          "name": "stdout"
        }
      ]
    },
    {
      "cell_type": "markdown",
      "metadata": {
        "id": "Z4ScuvsmdIy9",
        "colab_type": "text"
      },
      "source": [
        "This is what we want in the end. For each store, we have a price for each item."
      ]
    },
    {
      "cell_type": "markdown",
      "metadata": {
        "id": "6xcO0L9wdIy9",
        "colab_type": "text"
      },
      "source": [
        "| food | Wegmans | Wal-Mart | Giant | Trader Joes |\n",
        "|------|------|------|------|------|\n",
        "| spaghetti |  x.xx  |  x.xx |  x.xx  | x.xx |\n",
        "| eggs |  x.xx  |  x.xx |  x.xx  |  x.xx |\n",
        "| sauce |  x.xx  |  x.xx |  x.xx  |  x.xx |\n",
        "| milk |  x.xx  |  x.xx |  x.xx  |  x.xx |\n",
        "| bread |  x.xx  |  x.xx |  x.xx  |  x.xx |"
      ]
    },
    {
      "cell_type": "markdown",
      "metadata": {
        "id": "rWgwWXYvdIy9",
        "colab_type": "text"
      },
      "source": [
        "First, we need a Dictionary for each item and for each item another Dictionary for the store/prices."
      ]
    },
    {
      "cell_type": "code",
      "metadata": {
        "id": "v5qOLOQhdIy-",
        "colab_type": "code",
        "colab": {},
        "outputId": "9872b76f-22e7-4c2a-8ba7-5b0edfbce4e5"
      },
      "source": [
        "shoppingPricesByStores = {}\n",
        "for item in shoppingList:\n",
        "    shoppingPricesByStores[item] = {}\n",
        "print( shoppingPricesByStores )"
      ],
      "execution_count": null,
      "outputs": [
        {
          "output_type": "stream",
          "text": [
            "{'milk': {}, 'eggs': {}, 'sauce': {}, 'spaghetti': {}, 'bread': {}}\n"
          ],
          "name": "stdout"
        }
      ]
    },
    {
      "cell_type": "markdown",
      "metadata": {
        "id": "_bLFyMV7dIy_",
        "colab_type": "text"
      },
      "source": [
        "Now for each item, we set both the store name and the random price. "
      ]
    },
    {
      "cell_type": "code",
      "metadata": {
        "id": "pSm3PPEHdIy_",
        "colab_type": "code",
        "colab": {},
        "outputId": "ef14a8eb-2041-44c7-878d-352cb4960147"
      },
      "source": [
        "for item in shoppingPricesByStores:\n",
        "    shoppingPricesByStores[item] = {}\n",
        "    for storeName in storeNames:\n",
        "        shoppingPricesByStores[item][storeName] = createRandomPrice(item)\n",
        "print( shoppingPricesByStores )"
      ],
      "execution_count": null,
      "outputs": [
        {
          "output_type": "stream",
          "text": [
            "{'milk': {'Wegmans': 3.1, 'Wal-Mart': 3.91, 'Giant': 3.46, 'Trader Joes': 3.72}, 'eggs': {'Wegmans': 1.73, 'Wal-Mart': 2.36, 'Giant': 2.34, 'Trader Joes': 1.83}, 'sauce': {'Wegmans': 2.01, 'Wal-Mart': 2.58, 'Giant': 2.33, 'Trader Joes': 2.7}, 'spaghetti': {'Wegmans': 0.93, 'Wal-Mart': 0.76, 'Giant': 0.94, 'Trader Joes': 0.8}, 'bread': {'Wegmans': 1.47, 'Wal-Mart': 1.27, 'Giant': 1.66, 'Trader Joes': 1.73}}\n"
          ],
          "name": "stdout"
        }
      ]
    },
    {
      "cell_type": "markdown",
      "metadata": {
        "id": "n4Rr__msdIzB",
        "colab_type": "text"
      },
      "source": [
        "Finally, we need to sort. We use a sorting function (sorted). \n",
        "\n",
        "Let's try first with just sorted (shoppingPricesByStores[item])."
      ]
    },
    {
      "cell_type": "code",
      "metadata": {
        "id": "412uIZ_GdIzB",
        "colab_type": "code",
        "colab": {},
        "outputId": "bfa060b0-e50a-464a-9873-ab8b37739450"
      },
      "source": [
        "print( sorted( shoppingPricesByStores ) )"
      ],
      "execution_count": null,
      "outputs": [
        {
          "output_type": "stream",
          "text": [
            "['bread', 'eggs', 'milk', 'sauce', 'spaghetti']\n"
          ],
          "name": "stdout"
        }
      ]
    },
    {
      "cell_type": "markdown",
      "metadata": {
        "id": "CsYtk2pAdIzD",
        "colab_type": "text"
      },
      "source": [
        "Hmm... not what we are looking for. We want to sort based on prices per store."
      ]
    },
    {
      "cell_type": "code",
      "metadata": {
        "id": "hNx5-eh7dIzD",
        "colab_type": "code",
        "colab": {},
        "outputId": "24418279-31a5-4905-d679-40b9979e87fe"
      },
      "source": [
        "for item in shoppingPricesByStores:\n",
        "    print( item )\n",
        "    print( sorted( shoppingPricesByStores[item] ) )"
      ],
      "execution_count": null,
      "outputs": [
        {
          "output_type": "stream",
          "text": [
            "milk\n",
            "['Giant', 'Trader Joes', 'Wal-Mart', 'Wegmans']\n",
            "eggs\n",
            "['Giant', 'Trader Joes', 'Wal-Mart', 'Wegmans']\n",
            "sauce\n",
            "['Giant', 'Trader Joes', 'Wal-Mart', 'Wegmans']\n",
            "spaghetti\n",
            "['Giant', 'Trader Joes', 'Wal-Mart', 'Wegmans']\n",
            "bread\n",
            "['Giant', 'Trader Joes', 'Wal-Mart', 'Wegmans']\n"
          ],
          "name": "stdout"
        }
      ]
    },
    {
      "cell_type": "markdown",
      "metadata": {
        "id": "uSJ8L4zbdIzF",
        "colab_type": "text"
      },
      "source": [
        "This is sorting based on the name of the store; we need to sort based on the amount."
      ]
    },
    {
      "cell_type": "markdown",
      "metadata": {
        "id": "8cUvDcyadIzF",
        "colab_type": "text"
      },
      "source": [
        "There is actually a function we can use, called items(), which as it sounds, gives us all items in our dictionary."
      ]
    },
    {
      "cell_type": "code",
      "metadata": {
        "id": "Broy6cK8dIzF",
        "colab_type": "code",
        "colab": {},
        "outputId": "b946237b-25c9-484f-a5a4-8789135420f8"
      },
      "source": [
        "shoppingPricesByStores.items()"
      ],
      "execution_count": null,
      "outputs": [
        {
          "output_type": "execute_result",
          "data": {
            "text/plain": [
              "dict_items([('milk', {'Wegmans': 3.1, 'Wal-Mart': 3.91, 'Giant': 3.46, 'Trader Joes': 3.72}), ('eggs', {'Wegmans': 1.73, 'Wal-Mart': 2.36, 'Giant': 2.34, 'Trader Joes': 1.83}), ('sauce', {'Wegmans': 2.01, 'Wal-Mart': 2.58, 'Giant': 2.33, 'Trader Joes': 2.7}), ('spaghetti', {'Wegmans': 0.93, 'Wal-Mart': 0.76, 'Giant': 0.94, 'Trader Joes': 0.8}), ('bread', {'Wegmans': 1.47, 'Wal-Mart': 1.27, 'Giant': 1.66, 'Trader Joes': 1.73})])"
            ]
          },
          "metadata": {
            "tags": []
          },
          "execution_count": 24
        }
      ]
    },
    {
      "cell_type": "markdown",
      "metadata": {
        "id": "YIdig44IdIzI",
        "colab_type": "text"
      },
      "source": [
        "So let's try using that. "
      ]
    },
    {
      "cell_type": "code",
      "metadata": {
        "id": "FXmmeRRAdIzI",
        "colab_type": "code",
        "colab": {},
        "outputId": "8bac0d3c-0689-4ad1-8e82-b206244c444b"
      },
      "source": [
        "for item in shoppingPricesByStores:\n",
        "    print( item )\n",
        "    print( shoppingPricesByStores[item] )\n",
        "    print( sorted( shoppingPricesByStores[item].items() ) )"
      ],
      "execution_count": null,
      "outputs": [
        {
          "output_type": "stream",
          "text": [
            "milk\n",
            "{'Wegmans': 3.1, 'Wal-Mart': 3.91, 'Giant': 3.46, 'Trader Joes': 3.72}\n",
            "[('Giant', 3.46), ('Trader Joes', 3.72), ('Wal-Mart', 3.91), ('Wegmans', 3.1)]\n",
            "eggs\n",
            "{'Wegmans': 1.73, 'Wal-Mart': 2.36, 'Giant': 2.34, 'Trader Joes': 1.83}\n",
            "[('Giant', 2.34), ('Trader Joes', 1.83), ('Wal-Mart', 2.36), ('Wegmans', 1.73)]\n",
            "sauce\n",
            "{'Wegmans': 2.01, 'Wal-Mart': 2.58, 'Giant': 2.33, 'Trader Joes': 2.7}\n",
            "[('Giant', 2.33), ('Trader Joes', 2.7), ('Wal-Mart', 2.58), ('Wegmans', 2.01)]\n",
            "spaghetti\n",
            "{'Wegmans': 0.93, 'Wal-Mart': 0.76, 'Giant': 0.94, 'Trader Joes': 0.8}\n",
            "[('Giant', 0.94), ('Trader Joes', 0.8), ('Wal-Mart', 0.76), ('Wegmans', 0.93)]\n",
            "bread\n",
            "{'Wegmans': 1.47, 'Wal-Mart': 1.27, 'Giant': 1.66, 'Trader Joes': 1.73}\n",
            "[('Giant', 1.66), ('Trader Joes', 1.73), ('Wal-Mart', 1.27), ('Wegmans', 1.47)]\n"
          ],
          "name": "stdout"
        }
      ]
    },
    {
      "cell_type": "markdown",
      "metadata": {
        "id": "K8GZ6TBNdIzK",
        "colab_type": "text"
      },
      "source": [
        "First, I will define a function (I will explain this more in a second). \n",
        "\n",
        "Also, I marked a couple of print statements to showcase what is going on. \n",
        "\n",
        "All this function does is take tuple and returns the second item in the tuple. \n",
        "\n",
        "REMEMBER, computer talk here.. 1 = 2, because it starts at 0, 1, 2,..."
      ]
    },
    {
      "cell_type": "code",
      "metadata": {
        "id": "bOuuowtfdIzK",
        "colab_type": "code",
        "colab": {}
      },
      "source": [
        "def comparePrices (itemToSort):\n",
        "    print( \"#From comparePrices function#\" )\n",
        "    print( itemToSort )\n",
        "    print( \"At the store \"+itemToSort[0]+\" the price is \"+str( itemToSort[1] ) )\n",
        "    print( \"#End comparePrices function#\" )\n",
        "    return itemToSort[1]"
      ],
      "execution_count": null,
      "outputs": []
    },
    {
      "cell_type": "markdown",
      "metadata": {
        "id": "n2FNTVRqdIzM",
        "colab_type": "text"
      },
      "source": [
        "We can add a \"key\" that tells the sorting function, which value to sort on. \n",
        "\n",
        "So reading this in more non-technical speak:\n",
        "\n",
        "1.  For each item in dictionary called shoppingPricesByStores\n",
        "2.  Print item name\n",
        "3.  Then sort by the pair (storeName and price)\n",
        "4.  Use the function comparePrices to tell sorting to sort by the price. "
      ]
    },
    {
      "cell_type": "code",
      "metadata": {
        "id": "jd0LfcpfdIzM",
        "colab_type": "code",
        "colab": {},
        "outputId": "a4a48092-0de7-49b3-b108-379192e06ad7"
      },
      "source": [
        "for item in shoppingPricesByStores:\n",
        "    print( \"####################In for loop####################\" )\n",
        "    print( item )\n",
        "    print( sorted(shoppingPricesByStores[item].items(), key=comparePrices) )\n",
        "    print( \"####################Out for loop####################\" )"
      ],
      "execution_count": null,
      "outputs": [
        {
          "output_type": "stream",
          "text": [
            "####################In for loop####################\n",
            "milk\n",
            "#From comparePrices function#\n",
            "('Wegmans', 3.1)\n",
            "At the store Wegmans the price is 3.1\n",
            "#End comparePrices function#\n",
            "#From comparePrices function#\n",
            "('Wal-Mart', 3.91)\n",
            "At the store Wal-Mart the price is 3.91\n",
            "#End comparePrices function#\n",
            "#From comparePrices function#\n",
            "('Giant', 3.46)\n",
            "At the store Giant the price is 3.46\n",
            "#End comparePrices function#\n",
            "#From comparePrices function#\n",
            "('Trader Joes', 3.72)\n",
            "At the store Trader Joes the price is 3.72\n",
            "#End comparePrices function#\n",
            "[('Wegmans', 3.1), ('Giant', 3.46), ('Trader Joes', 3.72), ('Wal-Mart', 3.91)]\n",
            "####################Out for loop####################\n",
            "####################In for loop####################\n",
            "eggs\n",
            "#From comparePrices function#\n",
            "('Wegmans', 1.73)\n",
            "At the store Wegmans the price is 1.73\n",
            "#End comparePrices function#\n",
            "#From comparePrices function#\n",
            "('Wal-Mart', 2.36)\n",
            "At the store Wal-Mart the price is 2.36\n",
            "#End comparePrices function#\n",
            "#From comparePrices function#\n",
            "('Giant', 2.34)\n",
            "At the store Giant the price is 2.34\n",
            "#End comparePrices function#\n",
            "#From comparePrices function#\n",
            "('Trader Joes', 1.83)\n",
            "At the store Trader Joes the price is 1.83\n",
            "#End comparePrices function#\n",
            "[('Wegmans', 1.73), ('Trader Joes', 1.83), ('Giant', 2.34), ('Wal-Mart', 2.36)]\n",
            "####################Out for loop####################\n",
            "####################In for loop####################\n",
            "sauce\n",
            "#From comparePrices function#\n",
            "('Wegmans', 2.01)\n",
            "At the store Wegmans the price is 2.01\n",
            "#End comparePrices function#\n",
            "#From comparePrices function#\n",
            "('Wal-Mart', 2.58)\n",
            "At the store Wal-Mart the price is 2.58\n",
            "#End comparePrices function#\n",
            "#From comparePrices function#\n",
            "('Giant', 2.33)\n",
            "At the store Giant the price is 2.33\n",
            "#End comparePrices function#\n",
            "#From comparePrices function#\n",
            "('Trader Joes', 2.7)\n",
            "At the store Trader Joes the price is 2.7\n",
            "#End comparePrices function#\n",
            "[('Wegmans', 2.01), ('Giant', 2.33), ('Wal-Mart', 2.58), ('Trader Joes', 2.7)]\n",
            "####################Out for loop####################\n",
            "####################In for loop####################\n",
            "spaghetti\n",
            "#From comparePrices function#\n",
            "('Wegmans', 0.93)\n",
            "At the store Wegmans the price is 0.93\n",
            "#End comparePrices function#\n",
            "#From comparePrices function#\n",
            "('Wal-Mart', 0.76)\n",
            "At the store Wal-Mart the price is 0.76\n",
            "#End comparePrices function#\n",
            "#From comparePrices function#\n",
            "('Giant', 0.94)\n",
            "At the store Giant the price is 0.94\n",
            "#End comparePrices function#\n",
            "#From comparePrices function#\n",
            "('Trader Joes', 0.8)\n",
            "At the store Trader Joes the price is 0.8\n",
            "#End comparePrices function#\n",
            "[('Wal-Mart', 0.76), ('Trader Joes', 0.8), ('Wegmans', 0.93), ('Giant', 0.94)]\n",
            "####################Out for loop####################\n",
            "####################In for loop####################\n",
            "bread\n",
            "#From comparePrices function#\n",
            "('Wegmans', 1.47)\n",
            "At the store Wegmans the price is 1.47\n",
            "#End comparePrices function#\n",
            "#From comparePrices function#\n",
            "('Wal-Mart', 1.27)\n",
            "At the store Wal-Mart the price is 1.27\n",
            "#End comparePrices function#\n",
            "#From comparePrices function#\n",
            "('Giant', 1.66)\n",
            "At the store Giant the price is 1.66\n",
            "#End comparePrices function#\n",
            "#From comparePrices function#\n",
            "('Trader Joes', 1.73)\n",
            "At the store Trader Joes the price is 1.73\n",
            "#End comparePrices function#\n",
            "[('Wal-Mart', 1.27), ('Wegmans', 1.47), ('Giant', 1.66), ('Trader Joes', 1.73)]\n",
            "####################Out for loop####################\n"
          ],
          "name": "stdout"
        }
      ]
    },
    {
      "cell_type": "markdown",
      "metadata": {
        "id": "OxRuZNtSdIzN",
        "colab_type": "text"
      },
      "source": [
        "We can short-hand this a bit by using lambda.\n",
        "\n",
        "Lambda is like a micro-function. We use it once and that's it."
      ]
    },
    {
      "cell_type": "code",
      "metadata": {
        "id": "PvsFJZE8dIzO",
        "colab_type": "code",
        "colab": {},
        "outputId": "0ec653df-fc9c-4697-8001-c333b6dfee6e"
      },
      "source": [
        "for item in shoppingPricesByStores:\n",
        "    print( item )\n",
        "    print( sorted(shoppingPricesByStores[item].items(), key=lambda storeAmount: storeAmount[1] ) ) # Python 3\n",
        "    #print( sorted(shoppingPricesByStores[item].items(), key=lambda (store,amount): (amount)) ) # Python 2"
      ],
      "execution_count": null,
      "outputs": [
        {
          "output_type": "stream",
          "text": [
            "milk\n",
            "[('Wegmans', 3.1), ('Giant', 3.46), ('Trader Joes', 3.72), ('Wal-Mart', 3.91)]\n",
            "eggs\n",
            "[('Wegmans', 1.73), ('Trader Joes', 1.83), ('Giant', 2.34), ('Wal-Mart', 2.36)]\n",
            "sauce\n",
            "[('Wegmans', 2.01), ('Giant', 2.33), ('Wal-Mart', 2.58), ('Trader Joes', 2.7)]\n",
            "spaghetti\n",
            "[('Wal-Mart', 0.76), ('Trader Joes', 0.8), ('Wegmans', 0.93), ('Giant', 0.94)]\n",
            "bread\n",
            "[('Wal-Mart', 1.27), ('Wegmans', 1.47), ('Giant', 1.66), ('Trader Joes', 1.73)]\n"
          ],
          "name": "stdout"
        }
      ]
    },
    {
      "cell_type": "markdown",
      "metadata": {
        "id": "enQowIrZdIzQ",
        "colab_type": "text"
      },
      "source": [
        "Let's print this out a bit neater."
      ]
    },
    {
      "cell_type": "code",
      "metadata": {
        "id": "mWwQL_wXdIzQ",
        "colab_type": "code",
        "colab": {},
        "outputId": "e527fbe3-78c4-4515-fb85-8c0121a8639a"
      },
      "source": [
        "for item in shoppingPricesByStores:\n",
        "    print( item )\n",
        "    #for key, value in sorted(shoppingPricesByStores[item].items(), key=lambda (store,amount): (amount)): # Python 2\n",
        "    for key, value in sorted(shoppingPricesByStores[item].items(), key=lambda storeAmount: storeAmount[1] ): # Python 3\n",
        "        print( \"%s: %s\" % (key, value) )\n",
        "    print( \"\\n\" )"
      ],
      "execution_count": null,
      "outputs": [
        {
          "output_type": "stream",
          "text": [
            "milk\n",
            "Wegmans: 3.1\n",
            "Giant: 3.46\n",
            "Trader Joes: 3.72\n",
            "Wal-Mart: 3.91\n",
            "\n",
            "\n",
            "eggs\n",
            "Wegmans: 1.73\n",
            "Trader Joes: 1.83\n",
            "Giant: 2.34\n",
            "Wal-Mart: 2.36\n",
            "\n",
            "\n",
            "sauce\n",
            "Wegmans: 2.01\n",
            "Giant: 2.33\n",
            "Wal-Mart: 2.58\n",
            "Trader Joes: 2.7\n",
            "\n",
            "\n",
            "spaghetti\n",
            "Wal-Mart: 0.76\n",
            "Trader Joes: 0.8\n",
            "Wegmans: 0.93\n",
            "Giant: 0.94\n",
            "\n",
            "\n",
            "bread\n",
            "Wal-Mart: 1.27\n",
            "Wegmans: 1.47\n",
            "Giant: 1.66\n",
            "Trader Joes: 1.73\n",
            "\n",
            "\n"
          ],
          "name": "stdout"
        }
      ]
    },
    {
      "cell_type": "code",
      "metadata": {
        "id": "0OZh4k4odIzS",
        "colab_type": "code",
        "colab": {}
      },
      "source": [
        ""
      ],
      "execution_count": null,
      "outputs": []
    }
  ]
}