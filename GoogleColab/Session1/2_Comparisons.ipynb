{
  "nbformat": 4,
  "nbformat_minor": 0,
  "metadata": {
    "celltoolbar": "Slideshow",
    "kernelspec": {
      "display_name": "Python 3",
      "language": "python",
      "name": "python3"
    },
    "language_info": {
      "codemirror_mode": {
        "name": "ipython",
        "version": 3
      },
      "file_extension": ".py",
      "mimetype": "text/x-python",
      "name": "python",
      "nbconvert_exporter": "python",
      "pygments_lexer": "ipython3",
      "version": "3.6.4"
    },
    "colab": {
      "name": "2.Comparisons.ipynb",
      "provenance": [],
      "include_colab_link": true
    }
  },
  "cells": [
    {
      "cell_type": "markdown",
      "metadata": {
        "id": "view-in-github",
        "colab_type": "text"
      },
      "source": [
        "<a href=\"https://colab.research.google.com/github/dudaspm/PSUPythonWorkshop/blob/master/GoogleColab/Session1/2_Comparisons.ipynb\" target=\"_parent\"><img src=\"https://colab.research.google.com/assets/colab-badge.svg\" alt=\"Open In Colab\"/></a>"
      ]
    },
    {
      "cell_type": "markdown",
      "metadata": {
        "id": "a7QOaG8gcWAS",
        "colab_type": "text"
      },
      "source": [
        "# Comparison Operators"
      ]
    },
    {
      "cell_type": "markdown",
      "metadata": {
        "id": "8lA1gVN3cWAU",
        "colab_type": "text"
      },
      "source": [
        "We need to be able to compare different variables.  We will be working on:\n",
        "* Are these things the same?\n",
        "* Are these things not the same?\n",
        "* How do these things compare?\n",
        "\n",
        "We can compare any data type, and our output will be a boolean (True or False).  The other things we will cover are:\n",
        "* Comparing different data types\n",
        "* Making multiple comparisons at once\n",
        "\n",
        "Comparison operators are important on their own (how do these things compare?) and are also useful for sorting and switching (see the next notebook.) "
      ]
    },
    {
      "cell_type": "markdown",
      "metadata": {
        "id": "_GCOSQ1kcWAU",
        "colab_type": "text"
      },
      "source": [
        "## Are these things the same?"
      ]
    },
    {
      "cell_type": "markdown",
      "metadata": {
        "id": "GokrWOdHcWAV",
        "colab_type": "text"
      },
      "source": [
        "We have already initiated variables by setting something equal to something else - let's do that here by setting aVar equal to 10 and then setting bVar equal to aVar."
      ]
    },
    {
      "cell_type": "code",
      "metadata": {
        "id": "jhjooe5AcWAV",
        "colab_type": "code",
        "colab": {},
        "outputId": "51a86632-a36d-4760-a56b-658f0b770070"
      },
      "source": [
        "aVar = 10\n",
        "bVar = aVar\n",
        "cVar = 11 \n",
        "\n",
        "print( \"aVar=\", aVar, \"; bVar =\", bVar, \"; cVar = \", cVar )"
      ],
      "execution_count": null,
      "outputs": [
        {
          "output_type": "stream",
          "text": [
            "aVar= 10 ; bVar = 10 ; cVar =  11\n"
          ],
          "name": "stdout"
        }
      ]
    },
    {
      "cell_type": "markdown",
      "metadata": {
        "id": "PUAVL1QLcWAa",
        "colab_type": "text"
      },
      "source": [
        "The first comparison operator is '==' which tests to see if two variables are equal. "
      ]
    },
    {
      "cell_type": "code",
      "metadata": {
        "id": "sXoQJ0ZIcWAa",
        "colab_type": "code",
        "colab": {},
        "outputId": "a15e19ab-8908-4b9a-93c2-8b1b9bcf9edc"
      },
      "source": [
        "print( \"aVar=\", aVar, \"; bVar =\", bVar, \"; cVar = \", cVar )\n",
        "\n",
        "# Is aVar equal to bVar?\n",
        "print( \"\\n#-# Is aVar equal to bVar?\")\n",
        "print( aVar == bVar )\n",
        "\n",
        "# Is aVar equal to cVar?\n",
        "print( \"\\n#-# Is aVar equal to cVar?\")\n",
        "print( aVar == cVar )"
      ],
      "execution_count": null,
      "outputs": [
        {
          "output_type": "stream",
          "text": [
            "aVar= 10 ; bVar = 10 ; cVar =  11\n",
            "\n",
            "#-# Is aVar equal to bVar?\n",
            "True\n",
            "\n",
            "#-# Is aVar equal to cVar?\n",
            "False\n"
          ],
          "name": "stdout"
        }
      ]
    },
    {
      "cell_type": "markdown",
      "metadata": {
        "id": "aq0lTl5xcWAd",
        "colab_type": "text"
      },
      "source": [
        "This tells us that aVar is equal to bVar, because it returns 'True' and aVar is not equal to cVar, as that returns 'False.'"
      ]
    },
    {
      "cell_type": "markdown",
      "metadata": {
        "id": "8scPkry5cWAd",
        "colab_type": "text"
      },
      "source": [
        "We can also do comparisons with other variable types.  Here's an example with strings instead of integers"
      ]
    },
    {
      "cell_type": "code",
      "metadata": {
        "id": "s5OjUvG2cWAe",
        "colab_type": "code",
        "colab": {},
        "outputId": "1627c5a2-5351-48e2-9a9f-f31a4011dd14"
      },
      "source": [
        "aStr = 'apple'\n",
        "bStr = 'banana'\n",
        "cStr = 'apple' \n",
        "print( \"aStr=\", aStr,\"; bStr =\", bStr,\"; cStr = \", cStr )\n",
        "\n",
        "# Is aStr equal to bStr?\n",
        "print( \"\\n#-# Is aStr equal to bStr?\")\n",
        "print( aStr == bStr )\n",
        "\n",
        "# Is aStr equal to cStr?\n",
        "print( \"\\n#-# Is aStr equal to cStr?\")\n",
        "print( aStr == cStr )"
      ],
      "execution_count": null,
      "outputs": [
        {
          "output_type": "stream",
          "text": [
            "aStr= apple ; bStr = banana ; cStr =  apple\n",
            "\n",
            "#-# Is aStr equal to bStr?\n",
            "False\n",
            "\n",
            "#-# Is aStr equal to cStr?\n",
            "True\n"
          ],
          "name": "stdout"
        }
      ]
    },
    {
      "cell_type": "markdown",
      "metadata": {
        "id": "ZLARtm3ncWAg",
        "colab_type": "text"
      },
      "source": [
        "## Are these things different?"
      ]
    },
    {
      "cell_type": "markdown",
      "metadata": {
        "id": "EWKoBPv7cWAg",
        "colab_type": "text"
      },
      "source": [
        "We can also test to see if two values are not equal using the '!=' operator."
      ]
    },
    {
      "cell_type": "code",
      "metadata": {
        "id": "9RWv1HNqcWAh",
        "colab_type": "code",
        "colab": {},
        "outputId": "47f60a69-0db6-458b-9426-3d8f0c716125"
      },
      "source": [
        "print( \"aVar=\", aVar, \"; bVar =\", bVar, \"; cVar = \", cVar )\n",
        "\n",
        "# Is aVar not equal to bVar?\n",
        "print( \"\\n#-# Is aVar not equal to bVar?\")\n",
        "print( aVar != bVar )\n",
        "\n",
        "# Is aVar not equal to cVar?\n",
        "print( \"\\n#-# Is aVar not equal to cVar?\")\n",
        "print( aVar != cVar )"
      ],
      "execution_count": null,
      "outputs": [
        {
          "output_type": "stream",
          "text": [
            "aVar= 10 ; bVar = 10 ; cVar =  11\n",
            "\n",
            "#-# Is aVar not equal to bVar?\n",
            "False\n",
            "\n",
            "#-# Is aVar not equal to cVar?\n",
            "True\n"
          ],
          "name": "stdout"
        }
      ]
    },
    {
      "cell_type": "markdown",
      "metadata": {
        "id": "X_BD0AnncWAj",
        "colab_type": "text"
      },
      "source": [
        "This gives us the opposite of what we had before.  It is false that aVar and bVar are not equal, meaning that they are equal.  It is true that aVar and cVar are not equal."
      ]
    },
    {
      "cell_type": "markdown",
      "metadata": {
        "id": "dDQ8ejTkcWAj",
        "colab_type": "text"
      },
      "source": [
        "## How do these things compare?"
      ]
    },
    {
      "cell_type": "markdown",
      "metadata": {
        "id": "Z2tRf3-zcWAk",
        "colab_type": "text"
      },
      "source": [
        "We can also compare the magnitude of values using '<', '<=', '>'and '>=', which will return 'True' if the condition is being met."
      ]
    },
    {
      "cell_type": "code",
      "metadata": {
        "id": "QKfTyz1PcWAk",
        "colab_type": "code",
        "colab": {},
        "outputId": "ed5251da-d217-4169-caac-7901782e9a33"
      },
      "source": [
        "print( \"aVar=\", aVar, \"; bVar =\", bVar )\n",
        "\n",
        "# Is aVar less than bVar?\n",
        "print( \"\\n#-# Is aVar less than bVar?\")\n",
        "print( aVar < bVar )\n",
        "\n",
        "# Is aVar less than or equal to bVar?\n",
        "print( \"\\n#-# Is aVar less than or equal to bVar?\")\n",
        "print( aVar <= bVar )\n",
        "\n",
        "# Is aVar greater than or equal to bVar?\n",
        "print( \"\\n#-# Is aVar greater than or equal to bVar?\")\n",
        "print( aVar >= bVar )\n",
        "\n",
        "# Is aVar greater than bVar?\n",
        "print( \"\\n#-# Is aVar greater than bVar?\")\n",
        "print( aVar > bVar )"
      ],
      "execution_count": null,
      "outputs": [
        {
          "output_type": "stream",
          "text": [
            "aVar= 10 ; bVar = 10\n",
            "\n",
            "#-# Is aVar less than bVar?\n",
            "False\n",
            "\n",
            "#-# Is aVar less than or equal to bVar?\n",
            "True\n",
            "\n",
            "#-# Is aVar greater than or equal to bVar?\n",
            "True\n",
            "\n",
            "#-# Is aVar greater than bVar?\n",
            "False\n"
          ],
          "name": "stdout"
        }
      ]
    },
    {
      "cell_type": "markdown",
      "metadata": {
        "id": "DMxsavjLcWAm",
        "colab_type": "text"
      },
      "source": [
        "## Warnings for variable types"
      ]
    },
    {
      "cell_type": "markdown",
      "metadata": {
        "id": "s0wkcfOtcWAn",
        "colab_type": "text"
      },
      "source": [
        "We do have to watch out for our types. A string of a value is not the same as a value"
      ]
    },
    {
      "cell_type": "code",
      "metadata": {
        "id": "L5-xSnpscWAn",
        "colab_type": "code",
        "colab": {},
        "outputId": "e4fd729d-9530-40a8-c7a1-a95739c2176d"
      },
      "source": [
        "aStr = '10'\n",
        "aFlt = 10.0\n",
        "print( \"aVar=\", aVar, \"; aStr =\", aStr, \"; aFlt =\", aFlt  )\n",
        "\n",
        "# Is aVar equal to aStr?\n",
        "print( \"\\n#-# Is aVar equal to aStr?\")\n",
        "print( aVar == aStr )\n",
        "print( \"aVar type is \", type( aVar ), \"; and aStr type is \", type( aStr ) )\n",
        "\n",
        "# Is aVar equal to aFlt?\n",
        "print( \"\\n#-# Is aVar equal to aFlt?\")\n",
        "print( aVar == aFlt)"
      ],
      "execution_count": null,
      "outputs": [
        {
          "output_type": "stream",
          "text": [
            "aVar= 10 ; aStr = 10 ; aFlt = 10.0\n",
            "\n",
            "#-# Is aVar equal to aStr?\n",
            "False\n",
            "aVar type is  <class 'int'> ; and aStr type is  <class 'str'>\n",
            "\n",
            "#-# Is aVar equal to aFlt?\n",
            "True\n"
          ],
          "name": "stdout"
        }
      ]
    },
    {
      "cell_type": "markdown",
      "metadata": {
        "id": "qk0Kr8pQcWAq",
        "colab_type": "text"
      },
      "source": [
        "We can compare integers and floats (!) but not other disparate data types.\n",
        "\n",
        "If you let python take care of your data-types, be warned that they could be different from what you think they are!"
      ]
    },
    {
      "cell_type": "markdown",
      "metadata": {
        "id": "fwco1xpOcWAq",
        "colab_type": "text"
      },
      "source": [
        "## Multiple Comparisons"
      ]
    },
    {
      "cell_type": "markdown",
      "metadata": {
        "id": "YWTumZqPcWAq",
        "colab_type": "text"
      },
      "source": [
        "We can make multiple comparisons at once by stringing the statements\n",
        "* and\n",
        "* not\n",
        "* or\n",
        "\n",
        "together. \n",
        "\n",
        "The individual testable (true/false) components need to be broken apart. For example,\n",
        "* If the V CATA bus is coming around the corner, then I need to run towards the bus stop\n",
        "\n",
        "requires several things for it to be true, and to require running.  We can break these things out with:\n",
        "* If there is a vehicle coming around the corner AND that vehicle is a CATA bus AND that CATA bus is a V, then I need to run towards the bus stop\n",
        "\n",
        "We will only run towards the bus stop if all of the statements are true"
      ]
    },
    {
      "cell_type": "markdown",
      "metadata": {
        "id": "WRaCcn1icWAr",
        "colab_type": "text"
      },
      "source": [
        "### AND"
      ]
    },
    {
      "cell_type": "markdown",
      "metadata": {
        "id": "quCvRWWxcWAr",
        "colab_type": "text"
      },
      "source": [
        "The and operator will return True if all of the conditions are met"
      ]
    },
    {
      "cell_type": "code",
      "metadata": {
        "id": "Vm5u7t5AcWAr",
        "colab_type": "code",
        "colab": {},
        "outputId": "d614cba6-6415-4294-8bfe-544cc75de2ad"
      },
      "source": [
        "print( \"aVar=\", aVar, \"; bVar =\", bVar, \"; cVar = \", cVar )\n",
        "\n",
        "# Is aVar equal to 10?\n",
        "print( \"\\n#-# Is aVar equal to 10?\")\n",
        "print( aVar == 10 )\n",
        "      \n",
        "# Is aVar equal to bVar?\n",
        "print( \"\\n#-# Is aVar equal to bVar?\" )\n",
        "print( aVar == bVar )\n",
        "\n",
        "# Is aVar equal to cVar?\n",
        "print( \"\\n#-# Is aVar equal to cVar?\" )\n",
        "print( aVar == cVar )\n",
        "\n",
        "# Is aVar equal to 10 AND aVar equal to bVar?\n",
        "print ( \"\\n#-# Is aVar equal to 10 AND aVar equal to bVar?\")\n",
        "print( (aVar == 10) and (aVar == bVar) )\n",
        "\n",
        "# Is aVar equal to 10 AND aVar equal to cVar?\n",
        "print ( \"\\n#-# Is aVar equal to 10 AND aVar equal to cVar?\")\n",
        "print( (aVar == 10) and (aVar == cVar) )\n",
        "\n"
      ],
      "execution_count": null,
      "outputs": [
        {
          "output_type": "stream",
          "text": [
            "aVar= 10 ; bVar = 10 ; cVar =  11\n",
            "\n",
            "#-# Is aVar equal to 10?\n",
            "True\n",
            "\n",
            "#-# Is aVar equal to bVar?\n",
            "True\n",
            "\n",
            "#-# Is aVar equal to cVar?\n",
            "False\n",
            "\n",
            "#-# Is aVar equal to 10 AND aVar equal to bVar?\n",
            "True\n",
            "\n",
            "#-# Is aVar equal to 10 AND aVar equal to cVar?\n",
            "False\n"
          ],
          "name": "stdout"
        }
      ]
    },
    {
      "cell_type": "markdown",
      "metadata": {
        "id": "zfe-IbfycWAt",
        "colab_type": "text"
      },
      "source": [
        "We can also string as many comparisons together as we want"
      ]
    },
    {
      "cell_type": "code",
      "metadata": {
        "id": "-mtmPh5CcWAu",
        "colab_type": "code",
        "colab": {},
        "outputId": "d311709c-2cb1-4e84-aa4e-e2b64978c9ce"
      },
      "source": [
        "print( (1 < 2) and (1 < 3) and (1 < 4) and (1 < 5) and (1 < 6) and (1 < 7) and (1 < 8) )"
      ],
      "execution_count": null,
      "outputs": [
        {
          "output_type": "stream",
          "text": [
            "True\n"
          ],
          "name": "stdout"
        }
      ]
    },
    {
      "cell_type": "markdown",
      "metadata": {
        "id": "Z_tDdtbKcWAw",
        "colab_type": "text"
      },
      "source": [
        "### OR"
      ]
    },
    {
      "cell_type": "markdown",
      "metadata": {
        "id": "9hS2NRXDcWAw",
        "colab_type": "text"
      },
      "source": [
        "If we want 'True' for either of the conditions to be met, we can use the 'or' operator."
      ]
    },
    {
      "cell_type": "code",
      "metadata": {
        "id": "IUQjdkyFcWAx",
        "colab_type": "code",
        "colab": {},
        "outputId": "f2fa7d07-2616-467d-e1e0-d623e29d9122"
      },
      "source": [
        "print( \"aVar=\", aVar, \"; bVar =\", bVar, \"; cVar = \", cVar )\n",
        "\n",
        "# Is aVar equal to 10?\n",
        "print( \"\\n#-# Is aVar equal to 10?\")\n",
        "print( aVar == 10 )\n",
        "      \n",
        "# Is aVar equal to bVar?\n",
        "print( \"\\n#-# Is aVar equal to bVar?\" )\n",
        "print( aVar == bVar )\n",
        "\n",
        "# Is aVar equal to cVar?\n",
        "print( \"\\n#-# Is aVar equal to cVar?\" )\n",
        "print( aVar == cVar )\n",
        "\n",
        "# Is aVar equal to 10?\n",
        "print( \"\\n#-# Is aVar equal to 11?\")\n",
        "print( aVar == 11 )\n",
        "\n",
        "# Is aVar equal to 10 OR aVar equal to bVar?\n",
        "print ( \"\\n#-# Is aVar equal to 10 OR aVar equal to bVar?\")\n",
        "print( (aVar == 10) or (aVar == bVar) )\n",
        "\n",
        "# Is aVar equal to 10 OR aVar equal to cVar?\n",
        "print ( \"\\n#-# Is aVar equal to 10 or aVar equal to cVar?\")\n",
        "print( (aVar == 10) or (aVar == cVar) )\n",
        "\n",
        "# Is aVar equal to 11 OR aVar equal to cVar?\n",
        "print ( \"\\n#-# Is aVar equal to 11 or aVar equal to cVar?\")\n",
        "print( (aVar == 11) or (aVar == cVar) )"
      ],
      "execution_count": null,
      "outputs": [
        {
          "output_type": "stream",
          "text": [
            "aVar= 10 ; bVar = 10 ; cVar =  11\n",
            "\n",
            "#-# Is aVar equal to 10?\n",
            "True\n",
            "\n",
            "#-# Is aVar equal to bVar?\n",
            "True\n",
            "\n",
            "#-# Is aVar equal to cVar?\n",
            "False\n",
            "\n",
            "#-# Is aVar equal to 11?\n",
            "False\n",
            "\n",
            "#-# Is aVar equal to 10 OR aVar equal to bVar?\n",
            "True\n",
            "\n",
            "#-# Is aVar equal to 10 or aVar equal to cVar?\n",
            "True\n",
            "\n",
            "#-# Is aVar equal to 11 or aVar equal to cVar?\n",
            "False\n"
          ],
          "name": "stdout"
        }
      ]
    },
    {
      "cell_type": "markdown",
      "metadata": {
        "id": "drEqo-PFcWAz",
        "colab_type": "text"
      },
      "source": [
        "### Not"
      ]
    },
    {
      "cell_type": "markdown",
      "metadata": {
        "id": "GB8NNUizcWAz",
        "colab_type": "text"
      },
      "source": [
        "We can add a not to change the meaning of the and/or operators"
      ]
    },
    {
      "cell_type": "code",
      "metadata": {
        "id": "GEmgG5njcWAz",
        "colab_type": "code",
        "colab": {},
        "outputId": "a90f4784-67c0-4441-880d-b0e0f59e5483"
      },
      "source": [
        "print( \"aVar=\", aVar, \"; bVar =\", bVar )\n",
        "\n",
        "# Is aVar equal to 10?\n",
        "print( \"\\n#-# Is aVar equal to 10?\")\n",
        "print( aVar == 10 )\n",
        "      \n",
        "# Is aVar equal to bVar?\n",
        "print( \"\\n#-# Is aVar equal to bVar?\" )\n",
        "print( aVar == bVar )\n",
        "\n",
        "\n",
        "# Is aVar equal to 10 AND aVar equal to bVar?\n",
        "print ( \"\\n#-# Is aVar equal to 10 AND aVar equal to bVar?\")\n",
        "print( (aVar == 10) and (aVar == bVar) )\n",
        "\n",
        "# Is aVar equal to 10 AND NOT aVar equal to bVar?\n",
        "print ( \"\\n#-# Is aVar equal to 10 AND NOT aVar equal to bVar?\")\n",
        "print( (aVar == 10) and not (aVar == bVar) )\n",
        "\n"
      ],
      "execution_count": null,
      "outputs": [
        {
          "output_type": "stream",
          "text": [
            "aVar= 10 ; bVar = 10\n",
            "\n",
            "#-# Is aVar equal to 10?\n",
            "True\n",
            "\n",
            "#-# Is aVar equal to bVar?\n",
            "True\n",
            "\n",
            "#-# Is aVar equal to 10 AND aVar equal to bVar?\n",
            "True\n",
            "\n",
            "#-# Is aVar equal to 10 AND NOT aVar equal to bVar?\n",
            "False\n"
          ],
          "name": "stdout"
        }
      ]
    },
    {
      "cell_type": "markdown",
      "metadata": {
        "id": "t9z9kra3cWA1",
        "colab_type": "text"
      },
      "source": [
        "## Check yourself"
      ]
    },
    {
      "cell_type": "markdown",
      "metadata": {
        "id": "abkZhhLscWA2",
        "colab_type": "text"
      },
      "source": [
        "Try to fill in code to fulfill the request!  Here are some variables used in the excercise"
      ]
    },
    {
      "cell_type": "code",
      "metadata": {
        "id": "eRFi38X5cWA2",
        "colab_type": "code",
        "colab": {}
      },
      "source": [
        "dogA_color='brown'\n",
        "dogA_mass=42\n",
        "dogA_gender='male'\n",
        "dogA_age=5\n",
        "dogA_name='chip'\n",
        "\n",
        "dogB_color='white'\n",
        "dogB_mass=19\n",
        "dogB_gender='female'\n",
        "dogB_age=2\n",
        "dogB_name='lady'"
      ],
      "execution_count": null,
      "outputs": []
    },
    {
      "cell_type": "markdown",
      "metadata": {
        "id": "oi_qcH-FcWA4",
        "colab_type": "text"
      },
      "source": [
        "Is dogA the same color as dogB? (False)"
      ]
    },
    {
      "cell_type": "code",
      "metadata": {
        "id": "XuRloO19cWA4",
        "colab_type": "code",
        "colab": {},
        "outputId": "e6399294-efa2-4d1f-82a7-25be7a0aba4e"
      },
      "source": [
        "# Example:\n",
        "print( dogA_color == dogB_color )"
      ],
      "execution_count": null,
      "outputs": [
        {
          "output_type": "stream",
          "text": [
            "False\n"
          ],
          "name": "stdout"
        }
      ]
    },
    {
      "cell_type": "markdown",
      "metadata": {
        "id": "7Mk29I7bcWA7",
        "colab_type": "text"
      },
      "source": [
        "Does dogA have the same name as dogB? (False)"
      ]
    },
    {
      "cell_type": "code",
      "metadata": {
        "id": "RLzErr3WcWA7",
        "colab_type": "code",
        "colab": {}
      },
      "source": [
        "# Try it out here:\n"
      ],
      "execution_count": null,
      "outputs": []
    },
    {
      "cell_type": "markdown",
      "metadata": {
        "id": "7DDg5VYqcWA9",
        "colab_type": "text"
      },
      "source": [
        "Is dogA older than dogB? (True)"
      ]
    },
    {
      "cell_type": "code",
      "metadata": {
        "id": "guzrvSDTcWA9",
        "colab_type": "code",
        "colab": {}
      },
      "source": [
        "# Try it out here:"
      ],
      "execution_count": null,
      "outputs": []
    },
    {
      "cell_type": "markdown",
      "metadata": {
        "id": "sqUmjQ2ScWA_",
        "colab_type": "text"
      },
      "source": [
        "Is dogA the same gender as dogB? (False)"
      ]
    },
    {
      "cell_type": "code",
      "metadata": {
        "id": "EnR7_J43cWA_",
        "colab_type": "code",
        "colab": {}
      },
      "source": [
        "# Try it out here:\n"
      ],
      "execution_count": null,
      "outputs": []
    },
    {
      "cell_type": "markdown",
      "metadata": {
        "id": "0Vim4EC7cWBB",
        "colab_type": "text"
      },
      "source": [
        "Is dogA heavier than dogB and have a different name than dogB? (True)"
      ]
    },
    {
      "cell_type": "code",
      "metadata": {
        "id": "WlMmGVoRcWBB",
        "colab_type": "code",
        "colab": {}
      },
      "source": [
        "# Try it out here:\n"
      ],
      "execution_count": null,
      "outputs": []
    },
    {
      "cell_type": "markdown",
      "metadata": {
        "id": "5uw2pye9cWBD",
        "colab_type": "text"
      },
      "source": [
        "Does dogA have a different age than dogB and not a different gender than dogB? (False)"
      ]
    },
    {
      "cell_type": "code",
      "metadata": {
        "id": "WtohAKSQcWBD",
        "colab_type": "code",
        "colab": {}
      },
      "source": [
        "# Try it out here:\n"
      ],
      "execution_count": null,
      "outputs": []
    },
    {
      "cell_type": "code",
      "metadata": {
        "id": "I_y0rnmOcWBE",
        "colab_type": "code",
        "colab": {}
      },
      "source": [
        ""
      ],
      "execution_count": null,
      "outputs": []
    }
  ]
}