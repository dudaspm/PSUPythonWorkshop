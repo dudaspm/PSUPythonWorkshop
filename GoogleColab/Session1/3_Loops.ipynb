{
  "nbformat": 4,
  "nbformat_minor": 0,
  "metadata": {
    "celltoolbar": "Slideshow",
    "kernelspec": {
      "display_name": "Python 3",
      "language": "python",
      "name": "python3"
    },
    "language_info": {
      "codemirror_mode": {
        "name": "ipython",
        "version": 3
      },
      "file_extension": ".py",
      "mimetype": "text/x-python",
      "name": "python",
      "nbconvert_exporter": "python",
      "pygments_lexer": "ipython3",
      "version": "3.6.4"
    },
    "colab": {
      "name": "3.Loops.ipynb",
      "provenance": [],
      "include_colab_link": true
    }
  },
  "cells": [
    {
      "cell_type": "markdown",
      "metadata": {
        "id": "view-in-github",
        "colab_type": "text"
      },
      "source": [
        "<a href=\"https://colab.research.google.com/github/dudaspm/PSUPythonWorkshop/blob/master/GoogleColab/Session1/3_Loops.ipynb\" target=\"_parent\"><img src=\"https://colab.research.google.com/assets/colab-badge.svg\" alt=\"Open In Colab\"/></a>"
      ]
    },
    {
      "cell_type": "markdown",
      "metadata": {
        "id": "5oFXTFIidB1C",
        "colab_type": "text"
      },
      "source": [
        "# Introduction to Functions, Loops and Sorting"
      ]
    },
    {
      "cell_type": "markdown",
      "metadata": {
        "id": "g0bVeGBidB1D",
        "colab_type": "text"
      },
      "source": [
        "One of the features of programming is that we have many options to do the same tasking multiple times.  The three methods we will be looking at are:\n",
        "* Functions\n",
        "* For loops\n",
        "* While Loops\n",
        "\n",
        "We will also look at two different methods for sorting or conditioning data:\n",
        "* if-else statements\n",
        "* switch statements"
      ]
    },
    {
      "cell_type": "markdown",
      "metadata": {
        "id": "NWV_ODKmdB1D",
        "colab_type": "text"
      },
      "source": [
        "## Functions"
      ]
    },
    {
      "cell_type": "markdown",
      "metadata": {
        "id": "OwN8bBZVdB1E",
        "colab_type": "text"
      },
      "source": [
        "Functions allow us to do repeated tasks easily by writing the code only once.  Functions will have a name, inputs and outputs and can be called anywhere the task is repeated.\n",
        "\n",
        "There are functions that are built in to python, for example we have already been using the type() function, which tells us the type of variable we are using.  Note that print is also a function!"
      ]
    },
    {
      "cell_type": "code",
      "metadata": {
        "id": "HcZ9hZFMdB1E",
        "colab_type": "code",
        "colab": {},
        "outputId": "63c909cd-482f-4bcd-d798-22b9b8948400"
      },
      "source": [
        "aVal = 10.0\n",
        "print( type( aVal ) )"
      ],
      "execution_count": null,
      "outputs": [
        {
          "output_type": "stream",
          "text": [
            "<class 'float'>\n"
          ],
          "name": "stdout"
        }
      ]
    },
    {
      "cell_type": "markdown",
      "metadata": {
        "id": "fFhEMeKYdB1I",
        "colab_type": "text"
      },
      "source": [
        "Functions have four typical parts:\n",
        "* Name - what you call your function\n",
        "* Input arguments - what you provide\n",
        "* Outputs - what the function gives back\n",
        "* Math/Magic - what the function does"
      ]
    },
    {
      "cell_type": "markdown",
      "metadata": {
        "id": "LKy6dY3edB1I",
        "colab_type": "text"
      },
      "source": [
        "In python, we use def to define a function with the function name and inputs followed by a colon.  The python function is then separated from the rest of the code by a tab. Some languages use braces rather than indentation.\n",
        "````python\n",
        "def functionName( inputs ):\n",
        "    # Operate on the inputs\n",
        "    ouputs = inputs + 5\n",
        "    # Return what we want to back\n",
        "    return outputs;\n",
        "   ````"
      ]
    },
    {
      "cell_type": "markdown",
      "metadata": {
        "id": "jiFdRyvjdB1J",
        "colab_type": "text"
      },
      "source": [
        "Let's look at an example function, which changes degrees Farenheit to Celsius. "
      ]
    },
    {
      "cell_type": "code",
      "metadata": {
        "id": "4WhomUdTdB1J",
        "colab_type": "code",
        "colab": {}
      },
      "source": [
        "def changeFromFToC( farVal ):\n",
        "    # Change the temperature from Farenheit to Celsius\n",
        "    cVal = (farVal - 32.0) * 5.0 / 9.0\n",
        "    return cVal "
      ],
      "execution_count": null,
      "outputs": []
    },
    {
      "cell_type": "markdown",
      "metadata": {
        "id": "omkyQCshdB1L",
        "colab_type": "text"
      },
      "source": [
        "Here, our function name is changeFromFToC, the input is farVal, the temperature in Farenheit, the output is cVal, and the temperature in Celsius. We can print or store the output from the function.  Note that the function has to be defined before we use it - the cell with the function definition has to have run before we can call the function."
      ]
    },
    {
      "cell_type": "code",
      "metadata": {
        "id": "H0khyu3edB1L",
        "colab_type": "code",
        "colab": {},
        "outputId": "e8ada18d-23ee-4d05-a396-d48c1ff770b2"
      },
      "source": [
        "# Change 14 deg F to Celsius\n",
        "print( \"#-# 14 Deg Farenheit in Celsius\" )\n",
        "print( changeFromFToC( 14 ) )\n",
        "\n",
        "# Change from 68 deg F to Celsius\n",
        "print( \"\\n#-# 68 Deg Farenheit in Celsius\" )\n",
        "niceTempC = changeFromFToC( 68 )\n",
        "print( niceTempC )"
      ],
      "execution_count": null,
      "outputs": [
        {
          "output_type": "stream",
          "text": [
            "#-# 14 Deg Farenheit in Celsius\n",
            "-10.0\n",
            "\n",
            "#-# 68 Deg Farenheit in Celsius\n",
            "20.0\n"
          ],
          "name": "stdout"
        }
      ]
    },
    {
      "cell_type": "markdown",
      "metadata": {
        "id": "h1x0UDvCdB1O",
        "colab_type": "text"
      },
      "source": [
        "### Multiple inputs and outputs"
      ]
    },
    {
      "cell_type": "markdown",
      "metadata": {
        "id": "Vv-02_5OdB1P",
        "colab_type": "text"
      },
      "source": [
        "Functions can also have multiple inputs and outputs.  The example below changes Farenheit to Celsius and Kelvin.  We can take the outputs individually, or as a list.  You have to either have the same number of outputs as is provided, or just one for a list."
      ]
    },
    {
      "cell_type": "code",
      "metadata": {
        "id": "DmMadIeZdB1Q",
        "colab_type": "code",
        "colab": {},
        "outputId": "613e1d7e-3084-4ec3-92d0-62afde082b71"
      },
      "source": [
        "def changeFromFToCAndK( farVal ):\n",
        "    # Change the temperature from Farenheit to Celsius and Kelvin\n",
        "    cVal = (farVal - 32.0) * 5.0 / 9.0\n",
        "    kVal= cVal + 273.15\n",
        "    return cVal, kVal    \n",
        "    \n",
        "# Change 14 deg F to Celsius and Kelvin\n",
        "print( \"#-# 14 Deg Farenheit in Celsius and Kelvin\" )\n",
        "print( changeFromFToCAndK( 14 ) )\n",
        "\n",
        "# Change 212 deg F to Celsius and Kelvin\n",
        "print( \"\\n#-# 212 Deg Farenheit in Celsius and Kelvin\" )\n",
        "boilingC, boilingK = changeFromFToCAndK( 212 ) \n",
        "print( boilingC )\n",
        "print( boilingK )\n",
        "\n",
        "# Change 32 deg F to Celsius and Kelvin\n",
        "print( \"\\n#-# 32 Deg Farenheit in Celsius and Kelvin\" )\n",
        "freezing = changeFromFToCAndK( 32 ) \n",
        "print( freezing[0] )\n",
        "print( freezing[1] )"
      ],
      "execution_count": null,
      "outputs": [
        {
          "output_type": "stream",
          "text": [
            "#-# 14 Deg Farenheit in Celsius and Kelvin\n",
            "(-10.0, 263.15)\n",
            "\n",
            "#-# 212 Deg Farenheit in Celsius and Kelvin\n",
            "100.0\n",
            "373.15\n",
            "\n",
            "#-# 32 Deg Farenheit in Celsius and Kelvin\n",
            "0.0\n",
            "273.15\n"
          ],
          "name": "stdout"
        }
      ]
    },
    {
      "cell_type": "markdown",
      "metadata": {
        "id": "84rDXr12dB1S",
        "colab_type": "text"
      },
      "source": [
        "The example function below to calculate the wind chill uses two inputs and only calculates the returned value."
      ]
    },
    {
      "cell_type": "code",
      "metadata": {
        "id": "0QxRANMFdB1T",
        "colab_type": "code",
        "colab": {},
        "outputId": "b184db26-a7d4-4dc3-b496-c1cac4131cb6"
      },
      "source": [
        "def windChillFar( tempF, windMPH ):\n",
        "    # Calculate the wind chill index using\n",
        "    # tempF: Temperature in Farenheit\n",
        "    # windMPH: Wind in miles per hour\n",
        "    # to return the wind chill index\n",
        "    return 35.74 + (0.6215 * tempF) - (35.75 * windMPH**.16) + (0.4275 * tempF * windMPH**.16)\n",
        "\n",
        "print( \"#-# Wind chill at 32 with 8 mph wind\" )\n",
        "print( windChillFar( 32, 8 ) )"
      ],
      "execution_count": null,
      "outputs": [
        {
          "output_type": "stream",
          "text": [
            "#-# Wind chill at 32 with 8 mph wind\n",
            "24.846007283646554\n"
          ],
          "name": "stdout"
        }
      ]
    },
    {
      "cell_type": "markdown",
      "metadata": {
        "id": "lhQ6XGtQdB1V",
        "colab_type": "text"
      },
      "source": [
        "### Functions calling other functions"
      ]
    },
    {
      "cell_type": "markdown",
      "metadata": {
        "id": "JqsGCN-1dB1W",
        "colab_type": "text"
      },
      "source": [
        "Functions can call other functions.  Here we add three using a function to add two and then adding one."
      ]
    },
    {
      "cell_type": "code",
      "metadata": {
        "id": "xuT9fTYDdB1W",
        "colab_type": "code",
        "colab": {},
        "outputId": "0775b65c-f599-44a2-f39f-639dd1097f81"
      },
      "source": [
        "def addTwo( inValAddTwo ):\n",
        "    # Add two to the input\n",
        "    return inValAddTwo + 2\n",
        "\n",
        "def addThree( inValAddThree ):\n",
        "    # Add three two the input\n",
        "    return addTwo( inValAddThree ) + 1\n",
        "\n",
        "# Add three to four\n",
        "print( \"#-# Add three to four using addThree, which calls addTwo\" )\n",
        "print( addThree( 4 ) )"
      ],
      "execution_count": null,
      "outputs": [
        {
          "output_type": "stream",
          "text": [
            "#-# Add three to four using addThree, which calls addTwo\n",
            "7\n"
          ],
          "name": "stdout"
        }
      ]
    },
    {
      "cell_type": "markdown",
      "metadata": {
        "id": "7WlryjjJdB1Y",
        "colab_type": "text"
      },
      "source": [
        "Functions can also call themselves - these are called recursive functions.  See how we calculate the factorial by subtracting one and calling the function again. "
      ]
    },
    {
      "cell_type": "code",
      "metadata": {
        "id": "wjtASUeidB1Y",
        "colab_type": "code",
        "colab": {},
        "outputId": "f72d5e9a-4c19-4f41-e0fc-22828d0a0c4c"
      },
      "source": [
        "def factorialRecursive( facIn ):\n",
        "    # Calculate the factorial\n",
        "    if facIn == 1:\n",
        "        return facIn\n",
        "    else:\n",
        "        return facIn * factorialRecursive( facIn - 1)\n",
        "\n",
        "# Use a recursive function to calculate the factorial of 5\n",
        "print( \"\\n#-# Use a recursive function to calculate the factorial of 5\" )\n",
        "print( factorialRecursive( 5 ) )"
      ],
      "execution_count": null,
      "outputs": [
        {
          "output_type": "stream",
          "text": [
            "\n",
            "#-# Use a recursive function to calculate the factorial of 5\n",
            "120\n"
          ],
          "name": "stdout"
        }
      ]
    },
    {
      "cell_type": "markdown",
      "metadata": {
        "id": "KsP9RKTqdB1e",
        "colab_type": "text"
      },
      "source": [
        "### The gotcha for functions: Where variables can be used"
      ]
    },
    {
      "cell_type": "markdown",
      "metadata": {
        "id": "4eAOPnCjdB1e",
        "colab_type": "text"
      },
      "source": [
        "The biggest gotcha on functions is with variable scope: \n",
        "* Variables defined in a function are not accessible from the outside\n",
        "* Functions have access to more than just the variables passed in"
      ]
    },
    {
      "cell_type": "code",
      "metadata": {
        "id": "mzFCCskgdB1f",
        "colab_type": "code",
        "colab": {},
        "outputId": "3a77d190-a209-4055-86b5-8e4a944cd115"
      },
      "source": [
        "# Function to add four\n",
        "def addFour( inValAddFour ):\n",
        "    middleVal = addTwo( inValAddFour )\n",
        "    finalAns = addTwo( middleVal )\n",
        "    print( \"#-# Print from In Function\" )\n",
        "    print( \"startingVal = \", startingVal )\n",
        "    print( \"middleVal = \", middleVal )\n",
        "    print( \"finalAns = \", finalAns )\n",
        "    return finalAns\n",
        "    \n",
        "#-#-#-#-#-#-#\n",
        "# Not in the function - this is what runs\n",
        "startingVal = 10\n",
        "\n",
        "# Call the function using startingVal as the input parameter\n",
        "fourAdded = addFour( startingVal )\n",
        "\n",
        "# Print out some things\n",
        "print( \"\\n#-# Print after the function\" )\n",
        "print( \"startingVal = \", startingVal )\n",
        "print( \"fourAdded = \" , fourAdded )\n",
        "\n",
        "# This won't work because middleVal was only defined within the function\n",
        "print( \"middleVal = \", middleVal )"
      ],
      "execution_count": null,
      "outputs": [
        {
          "output_type": "stream",
          "text": [
            "#-# Print from In Function\n",
            "startingVal =  10\n",
            "middleVal =  12\n",
            "finalAns =  14\n",
            "\n",
            "#-# Print after the function\n",
            "startingVal =  10\n",
            "fourAdded =  14\n"
          ],
          "name": "stdout"
        },
        {
          "output_type": "error",
          "ename": "NameError",
          "evalue": "name 'middleVal' is not defined",
          "traceback": [
            "\u001b[0;31m---------------------------------------------------------------------------\u001b[0m",
            "\u001b[0;31mNameError\u001b[0m                                 Traceback (most recent call last)",
            "\u001b[0;32m<ipython-input-10-b6beff6955a7>\u001b[0m in \u001b[0;36m<module>\u001b[0;34m()\u001b[0m\n\u001b[1;32m     22\u001b[0m \u001b[0;34m\u001b[0m\u001b[0m\n\u001b[1;32m     23\u001b[0m \u001b[0;31m# This won't work because middleVal was only defined within the function\u001b[0m\u001b[0;34m\u001b[0m\u001b[0;34m\u001b[0m\u001b[0m\n\u001b[0;32m---> 24\u001b[0;31m \u001b[0mprint\u001b[0m\u001b[0;34m(\u001b[0m \u001b[0;34m\"middleVal = \"\u001b[0m\u001b[0;34m,\u001b[0m \u001b[0mmiddleVal\u001b[0m \u001b[0;34m)\u001b[0m\u001b[0;34m\u001b[0m\u001b[0m\n\u001b[0m",
            "\u001b[0;31mNameError\u001b[0m: name 'middleVal' is not defined"
          ]
        }
      ]
    },
    {
      "cell_type": "markdown",
      "metadata": {
        "id": "h1mOCS6ydB1h",
        "colab_type": "text"
      },
      "source": [
        "## For Loops"
      ]
    },
    {
      "cell_type": "markdown",
      "metadata": {
        "id": "NHFr3fQpdB1h",
        "colab_type": "text"
      },
      "source": [
        "Loops allow us to do the same thing to each item in a list or array. One of the most basic types of loops is a for loop - this allows us to iterate over any sequence.\n",
        "\n",
        "We set up a for loop using 2 things:\n",
        "* loop variable - the value of the sequence currently being used\n",
        "* sequence - the data we iterate over\n",
        "\n",
        "The sequence can be any list.  We set up for loop using the for and in keywords, a colon, and all of the code within the for loop indented"
      ]
    },
    {
      "cell_type": "code",
      "metadata": {
        "id": "U0Zux0N8dB1i",
        "colab_type": "code",
        "colab": {},
        "outputId": "ef489c5e-2ff7-4767-ab38-0fbf0ae9a3d8"
      },
      "source": [
        "exampleList = ['a', 'niner', 6, 6.1, 'V@@@', 1001/2, 42]\n",
        "\n",
        "# Print the whole list\n",
        "print( \"#-# Print the whole list\" )\n",
        "print( exampleList )\n",
        "\n",
        "# Use a for loop to print the individual values in the list\n",
        "print( \"\\n#-# Use a for loop to print the individual values in the list\" )\n",
        "for loopVar in exampleList:\n",
        "    print( loopVar )"
      ],
      "execution_count": null,
      "outputs": [
        {
          "output_type": "stream",
          "text": [
            "#-# Print the whole list\n",
            "['a', 'niner', 6, 6.1, 'V@@@', 500.5, 42]\n",
            "\n",
            "#-# Use a for loop to print the individual values in the list\n",
            "a\n",
            "niner\n",
            "6\n",
            "6.1\n",
            "V@@@\n",
            "500.5\n",
            "42\n"
          ],
          "name": "stdout"
        }
      ]
    },
    {
      "cell_type": "markdown",
      "metadata": {
        "id": "YZEXz0TNdB1k",
        "colab_type": "text"
      },
      "source": [
        "Sometimes, it's helpful to iterate using indices.  For example, linear algebra heavy calculations will almost always use indices to make working with vectors and matrices easier.\n",
        "\n",
        "We can use the len() and range() functions to show the length and create indices.  We can then iterate using the indices, rather than the values.  Here we loop through the same someNumbers list using spot, the index."
      ]
    },
    {
      "cell_type": "code",
      "metadata": {
        "id": "Pr1l-QCadB1k",
        "colab_type": "code",
        "colab": {},
        "outputId": "509cba21-01bc-472e-abdb-bc647ba1ee3e"
      },
      "source": [
        "someNumbers = [ -3, -2, -1, 0, 1, 2, 3 ] \n",
        "\n",
        "# Print out our variables:\n",
        "print( \"exampleList = \", exampleList )\n",
        "print( \"someNumbers = \", someNumbers )\n",
        "\n",
        "# Loop through using the index\n",
        "for spot in range( len( someNumbers ) ):\n",
        "    print( \"Spot = \", spot, \"; exampleList[spot] = \", exampleList[spot], \"; someNumbers[spot] = \", someNumbers[spot] )"
      ],
      "execution_count": null,
      "outputs": [
        {
          "output_type": "stream",
          "text": [
            "exampleList =  ['a', 'niner', 6, 6.1, 'V@@@', 500.5, 42]\n",
            "someNumbers =  [-3, -2, -1, 0, 1, 2, 3]\n",
            "Spot =  0 ; exampleList[spot] =  a ; someNumbers[spot] =  -3\n",
            "Spot =  1 ; exampleList[spot] =  niner ; someNumbers[spot] =  -2\n",
            "Spot =  2 ; exampleList[spot] =  6 ; someNumbers[spot] =  -1\n",
            "Spot =  3 ; exampleList[spot] =  6.1 ; someNumbers[spot] =  0\n",
            "Spot =  4 ; exampleList[spot] =  V@@@ ; someNumbers[spot] =  1\n",
            "Spot =  5 ; exampleList[spot] =  500.5 ; someNumbers[spot] =  2\n",
            "Spot =  6 ; exampleList[spot] =  42 ; someNumbers[spot] =  3\n"
          ],
          "name": "stdout"
        }
      ]
    },
    {
      "cell_type": "markdown",
      "metadata": {
        "id": "g1k-CFzxdB1m",
        "colab_type": "text"
      },
      "source": [
        "You may have noticed that the second line is indented.  This is how we indicate what is in the loop.  Our loop can have many lines (all indented).  The first line that isn't indented indicates we are out of the loop.  This is the python syntax for in and out of the loop; other coding languages use other things such as braces {}.  Note that blank lines don't matter, just indentation."
      ]
    },
    {
      "cell_type": "code",
      "metadata": {
        "id": "iGDlMPoSdB1m",
        "colab_type": "code",
        "colab": {},
        "outputId": "5410152b-b048-44d5-806e-b4aaf778f6b0"
      },
      "source": [
        "for val in someNumbers:\n",
        "    print( \"val = \", val )\n",
        "    \n",
        "    print( \"Inside the loop\" )\n",
        "print( \"#-# Outside the loop #-#\" )"
      ],
      "execution_count": null,
      "outputs": [
        {
          "output_type": "stream",
          "text": [
            "val =  -3\n",
            "Inside the loop\n",
            "val =  -2\n",
            "Inside the loop\n",
            "val =  -1\n",
            "Inside the loop\n",
            "val =  0\n",
            "Inside the loop\n",
            "val =  1\n",
            "Inside the loop\n",
            "val =  2\n",
            "Inside the loop\n",
            "val =  3\n",
            "Inside the loop\n",
            "#-# Outside the loop #-#\n"
          ],
          "name": "stdout"
        }
      ]
    },
    {
      "cell_type": "markdown",
      "metadata": {
        "id": "DaKJm0a7dB1o",
        "colab_type": "text"
      },
      "source": [
        "## While loops"
      ]
    },
    {
      "cell_type": "markdown",
      "metadata": {
        "id": "z9FivuDKdB1p",
        "colab_type": "text"
      },
      "source": [
        "For loops are used when you have something you are iterating over - you know the length.  You can use a while loop if you don't know the number of times something will run. The while loop code requires a conditinal statement; the loop will continue to run as long as this is true and will not run again as soon as it is false."
      ]
    },
    {
      "cell_type": "markdown",
      "metadata": {
        "id": "_qJEQKW8dB1p",
        "colab_type": "text"
      },
      "source": [
        "#### Conceptual Example\n",
        "You can think about taking a test in two different ways:\n",
        "\n",
        "For loop:\n",
        "```python\n",
        "for problem in test:\n",
        "    \"solve problem\"\n",
        "    ```\n",
        "\n",
        "While loop:\n",
        "```python \n",
        "while percentDone < (100):\n",
        "    \"increase percentDone\"\n",
        "```"
      ]
    },
    {
      "cell_type": "markdown",
      "metadata": {
        "id": "_BOYcA5ldB1p",
        "colab_type": "text"
      },
      "source": [
        "The condition being set by the while statement will cause this to run as long as the statement is true"
      ]
    },
    {
      "cell_type": "code",
      "metadata": {
        "id": "DgHqEo9ndB1q",
        "colab_type": "code",
        "colab": {},
        "outputId": "03f90e66-b169-426a-a3ab-4d3b89007b48"
      },
      "source": [
        "answer = 'up'\n",
        "print( \"#-# answer = \", answer )\n",
        "print( \"Is answer equal to up? = \", answer == 'up' )\n",
        "\n",
        "while answer == 'up':\n",
        "    print( \"\\nIn the while loop now\" )\n",
        "    print( \"LOOP 1st: Is answer equal to up? = \", answer == 'up' )\n",
        "    answer = 'down'\n",
        "    print( \"LOOP 2nd: Is answer equal to up? = \", answer == 'up' )\n",
        "\n",
        "print( \"\\n#-# answer = \", answer ) \n",
        "print( \"Is answer equal to up? = \", answer == 'up' )"
      ],
      "execution_count": null,
      "outputs": [
        {
          "output_type": "stream",
          "text": [
            "#-# answer =  up\n",
            "Is answer equal to up? =  True\n",
            "\n",
            "In the while loop now\n",
            "LOOP 1st: Is answer equal to up? =  True\n",
            "LOOP 2nd: Is answer equal to up? =  False\n",
            "\n",
            "#-# answer =  down\n",
            "Is answer equal to up? =  False\n"
          ],
          "name": "stdout"
        }
      ]
    },
    {
      "cell_type": "markdown",
      "metadata": {
        "id": "nXC8S6fndB1t",
        "colab_type": "text"
      },
      "source": [
        "One thing to note is that the while loop won't ever be entered if the condition is false when the statement "
      ]
    },
    {
      "cell_type": "code",
      "metadata": {
        "id": "kQ-8D2i-dB1t",
        "colab_type": "code",
        "colab": {},
        "outputId": "db8531e4-ca66-4c45-d2be-0e477085380f"
      },
      "source": [
        "answer = 'up'\n",
        "print( \"#-# answer = \", answer )\n",
        "print( \"Is answer equal to down? = \", answer == 'down' )\n",
        "\n",
        "while answer == 'down':\n",
        "    print( \"\\nIn the while loop now\" )\n",
        "    print( \"LOOP 1st: Is answer equal to up? = \", answer == 'up' )\n",
        "    answer = 'down'\n",
        "    print( \"LOOP 2nd: Is answer equal to up? = \", answer == 'up' )\n",
        "\n",
        "print( \"\\n#-# answer = \", answer ) \n",
        "print( \"Is answer equal to down? = \", answer == 'down' )"
      ],
      "execution_count": null,
      "outputs": [
        {
          "output_type": "stream",
          "text": [
            "#-# answer =  up\n",
            "Is answer equal to down? =  False\n",
            "\n",
            "#-# answer =  up\n",
            "Is answer equal to down? =  False\n"
          ],
          "name": "stdout"
        }
      ]
    },
    {
      "cell_type": "markdown",
      "metadata": {
        "id": "mkra35ONdB1v",
        "colab_type": "text"
      },
      "source": [
        "Let's set up a while loop to find the first number from our someNumbers that meets some criterion - for example the first number that is greater than 1.5.\n",
        "\n",
        "We need to initialize our criterion variable to 0 and set up an iterator to count up for us."
      ]
    },
    {
      "cell_type": "code",
      "metadata": {
        "id": "u9uejEYRdB1w",
        "colab_type": "code",
        "colab": {},
        "outputId": "a22d4c19-9463-4237-95db-e1fb6af7727d"
      },
      "source": [
        "pushToLarge = 0\n",
        "counter = 0\n",
        "print( \"#-# Initialization\" )\n",
        "print( \"counter = \", counter, \"pushToLarge = \", pushToLarge)\n",
        "\n",
        "while pushToLarge < 1.5:\n",
        "    print( \"\\n#-# Loop\" )\n",
        "    pushToLarge = someNumbers[counter]\n",
        "    print( \"counter = \", counter, \"pushToLarge = \", pushToLarge)\n",
        "    counter = counter + 1\n",
        "\n",
        "print( \"\\n#-# Final\" )\n",
        "print( pushToLarge )"
      ],
      "execution_count": null,
      "outputs": [
        {
          "output_type": "stream",
          "text": [
            "#-# Initialization\n",
            "counter =  0 pushToLarge =  0\n",
            "\n",
            "#-# Loop\n",
            "counter =  0 pushToLarge =  -3\n",
            "\n",
            "#-# Loop\n",
            "counter =  1 pushToLarge =  -2\n",
            "\n",
            "#-# Loop\n",
            "counter =  2 pushToLarge =  -1\n",
            "\n",
            "#-# Loop\n",
            "counter =  3 pushToLarge =  0\n",
            "\n",
            "#-# Loop\n",
            "counter =  4 pushToLarge =  1\n",
            "\n",
            "#-# Loop\n",
            "counter =  5 pushToLarge =  2\n",
            "\n",
            "#-# Final\n",
            "2\n"
          ],
          "name": "stdout"
        }
      ]
    },
    {
      "cell_type": "markdown",
      "metadata": {
        "id": "6iSbQIdjdB1z",
        "colab_type": "text"
      },
      "source": [
        "While loops will keep iterating as long as the statement stays true.  Infinite loops are caused by a condition that always stays true.  Use the stop button (black square) to stop this errorneous code, which will never stop after uncommenting. "
      ]
    },
    {
      "cell_type": "code",
      "metadata": {
        "id": "5_q3ck3NdB1z",
        "colab_type": "code",
        "colab": {}
      },
      "source": [
        "# Uncomment all the lines below and run if you want an infinite loop to run\n",
        "#counter = 1\n",
        "#while counter > 0:\n",
        "#    counter = counter + 1\n",
        "#    print( counter )"
      ],
      "execution_count": null,
      "outputs": []
    },
    {
      "cell_type": "markdown",
      "metadata": {
        "id": "Wy_Yg3kkdB12",
        "colab_type": "text"
      },
      "source": [
        "## Conditioning Data"
      ]
    },
    {
      "cell_type": "markdown",
      "metadata": {
        "id": "k-3dtmUxdB12",
        "colab_type": "text"
      },
      "source": [
        "We can condition our data using if-else statements and switch cases.  If-else statements allow us to do different things if a certain criterion is met or not. We can count the odds and evens in our someNumbers list."
      ]
    },
    {
      "cell_type": "markdown",
      "metadata": {
        "id": "cNS0aN7_dB12",
        "colab_type": "text"
      },
      "source": [
        "### If-Else Statements"
      ]
    },
    {
      "cell_type": "markdown",
      "metadata": {
        "id": "qXNx4X56dB13",
        "colab_type": "text"
      },
      "source": [
        "The if statement starts with if and then lists a condition that may or may not be met. If the condition is true, we do what is listed.  If it is not, we move on. "
      ]
    },
    {
      "cell_type": "code",
      "metadata": {
        "id": "BAdyNjOqdB13",
        "colab_type": "code",
        "colab": {},
        "outputId": "24f5ff25-f90d-4379-86ed-0b74319348a7"
      },
      "source": [
        "answer = 42\n",
        "\n",
        "if answer > 30:\n",
        "    print( \"This number is greater than 30\")\n",
        "    \n",
        "if answer > 50:\n",
        "    print( \"This number is greater than 50\")"
      ],
      "execution_count": null,
      "outputs": [
        {
          "output_type": "stream",
          "text": [
            "This number is greater than 30\n"
          ],
          "name": "stdout"
        }
      ]
    },
    {
      "cell_type": "markdown",
      "metadata": {
        "id": "64kng1TodB15",
        "colab_type": "text"
      },
      "source": [
        "In these examples, only the numbers that are greater than 30 and 50 will get any response.  We can add a response for values that do not meet the conditional statement found within the if using an else statement"
      ]
    },
    {
      "cell_type": "code",
      "metadata": {
        "id": "ATLtt4ILdB15",
        "colab_type": "code",
        "colab": {},
        "outputId": "dcee4fbc-0ba9-4c7e-8217-15b5a3eef748"
      },
      "source": [
        "answer = 42\n",
        "\n",
        "if answer > 30:\n",
        "    print( \"This number is greater than 30\")\n",
        "else:\n",
        "    print( \"This number is not greater than 30\")\n",
        "    \n",
        "if answer > 50:\n",
        "    print( \"This number is greater than 50\")\n",
        "else:\n",
        "    print( \"This number is not greater than 50\")"
      ],
      "execution_count": null,
      "outputs": [
        {
          "output_type": "stream",
          "text": [
            "This number is greater than 30\n",
            "This number is not greater than 50\n"
          ],
          "name": "stdout"
        }
      ]
    },
    {
      "cell_type": "markdown",
      "metadata": {
        "id": "BXI2uvBidB17",
        "colab_type": "text"
      },
      "source": [
        "Here's a more complicated example.  We count the number of odd and even values in someNumbers by using an if-else statement to separate the odds (which have a remainder or modulo of 1 when divided by 2) from the evens."
      ]
    },
    {
      "cell_type": "code",
      "metadata": {
        "id": "lGdueu-6dB17",
        "colab_type": "code",
        "colab": {},
        "outputId": "ba64fb4a-dd0a-42fe-f24d-be04e70cf253"
      },
      "source": [
        "someNumbers = [ -3, -2, -1, 0, 1, 2, 3 ] \n",
        "print( \"someNumbers = \", someNumbers )\n",
        "\n",
        "# Initialize the number of odd and even numbers\n",
        "odds = 0\n",
        "evens = 0\n",
        "\n",
        "# Loop through someNumbers and increment odds and evens\n",
        "for val in someNumbers:\n",
        "    print( val, (val%2) == 1 )\n",
        "    if (val%2) == 1:\n",
        "        # Increment the odds by one if val/2 has a remainder of 1\n",
        "        odds = odds + 1\n",
        "        print( val, \" is odd!\" )\n",
        "    else:\n",
        "        # Increment the evens by one if val/2 doesn't have a remainder of 1\n",
        "        evens = evens + 1\n",
        "        \n",
        "# Print out some info at the end        \n",
        "print( \"\\n#-# For loop is done\")\n",
        "print( \"odds = \", odds )\n",
        "print( \"evens = \", evens )"
      ],
      "execution_count": null,
      "outputs": [
        {
          "output_type": "stream",
          "text": [
            "someNumbers =  [-3, -2, -1, 0, 1, 2, 3]\n",
            "-3 True\n",
            "-3  is odd!\n",
            "-2 False\n",
            "-1 True\n",
            "-1  is odd!\n",
            "0 False\n",
            "1 True\n",
            "1  is odd!\n",
            "2 False\n",
            "3 True\n",
            "3  is odd!\n",
            "\n",
            "#-# For loop is done\n",
            "odds =  4\n",
            "evens =  3\n"
          ],
          "name": "stdout"
        }
      ]
    },
    {
      "cell_type": "markdown",
      "metadata": {
        "id": "jf49vfjrdB19",
        "colab_type": "text"
      },
      "source": [
        "If-else statements can also be stacked together, to allow for additional sorting using multiple conditions.  The way this is done in python is by using \n",
        "```python\n",
        "elif\n",
        "```\n",
        "to provide another condition. Let's count the odds again, and count the evens but split between those that are greater than or equal to 0 and those that aren't, and change all of the negative evens to 0.  Note that we use the index of the value so that we can set the value to 0 for the negative evens."
      ]
    },
    {
      "cell_type": "code",
      "metadata": {
        "id": "Eh7hurLzdB1-",
        "colab_type": "code",
        "colab": {},
        "outputId": "672c114e-bade-4ba3-a913-fe99dd5b13b1"
      },
      "source": [
        "someNumbers = [ -3, -2, -1, 0, 1, 2, 3 ] \n",
        "print( \"someNumbers = \", someNumbers )\n",
        "# Initialize the number of odd and even numbers\n",
        "odds = 0\n",
        "posEvens = 0\n",
        "negEvens = 0\n",
        "\n",
        "# Loop through someNumbers and increment odds and evens\n",
        "for spot in range(len(someNumbers)):\n",
        "    if (someNumbers[spot]%2) == (1):\n",
        "        # Increment the odds by one if val/2 has a remainder of 1\n",
        "        odds = odds + 1\n",
        "    elif (someNumbers[spot]) >= (0):\n",
        "        # Increment the evens by one if val/2 doesn't have a remainder of 1 and is greater than or equal to 0\n",
        "        posEvens = posEvens + 1\n",
        "    else:\n",
        "        # Increment the evens by one if val/2 doesn't have a remainder of 1 and is greater than or equal to 0\n",
        "        negEvens = negEvens + 1\n",
        "        someNumbers[spot] = 0\n",
        "        \n",
        "# Print out some info at the end        \n",
        "print( \"\\n#-# For loop is done\")\n",
        "print( \"odds = \", odds )\n",
        "print( \"posEvens = \", posEvens )\n",
        "print( \"negEvens = \", negEvens )\n",
        "print( \"someNumbers = \", someNumbers )"
      ],
      "execution_count": null,
      "outputs": [
        {
          "output_type": "stream",
          "text": [
            "someNumbers =  [-3, -2, -1, 0, 1, 2, 3]\n",
            "\n",
            "#-# For loop is done\n",
            "odds =  4\n",
            "posEvens =  2\n",
            "negEvens =  1\n",
            "someNumbers =  [-3, 0, -1, 0, 1, 2, 3]\n"
          ],
          "name": "stdout"
        }
      ]
    },
    {
      "cell_type": "markdown",
      "metadata": {
        "id": "UtZlpGpRdB2A",
        "colab_type": "text"
      },
      "source": [
        "Note: we don't need a final else if we don't care about values that don't meet our earlier criteria.  Here, we skip the final else, doing nothing if the even number is less than or equal to 0."
      ]
    },
    {
      "cell_type": "code",
      "metadata": {
        "id": "mflzU2KjdB2A",
        "colab_type": "code",
        "colab": {},
        "outputId": "b151fc24-e635-4192-936b-a1c11d56284d"
      },
      "source": [
        "print( \"someNumbers = \", someNumbers )\n",
        "# Initialize the number of odd and positive even numbers\n",
        "odds = 0\n",
        "posEvens = 0\n",
        "\n",
        "# Loop through someNumbers and increment odds and positive evens\n",
        "for spot in range(len(someNumbers)):\n",
        "    if (someNumbers[spot]%2) == (1):\n",
        "        # Increment the odds by one if val/2 has a remainder of 1\n",
        "        odds = odds + 1\n",
        "    elif (someNumbers[spot]) > (0):\n",
        "        # Increment the evens by one if val/2 doesn't have a remainder of 1 and is greater than 0\n",
        "        posEvens = posEvens + 1\n",
        "        \n",
        "# Print out some info at the end        \n",
        "print( \"\\n#-# For loop is done\")\n",
        "print( \"odds = \", odds )\n",
        "print( \"posEvens = \", posEvens )"
      ],
      "execution_count": null,
      "outputs": [
        {
          "output_type": "stream",
          "text": [
            "someNumbers =  [-3, 0, -1, 0, 1, 2, 3]\n",
            "\n",
            "#-# For loop is done\n",
            "odds =  4\n",
            "posEvens =  1\n"
          ],
          "name": "stdout"
        }
      ]
    },
    {
      "cell_type": "markdown",
      "metadata": {
        "id": "8jrfHh97dB2C",
        "colab_type": "text"
      },
      "source": [
        "### Switch Cases"
      ]
    },
    {
      "cell_type": "markdown",
      "metadata": {
        "id": "iDo6dnopdB2C",
        "colab_type": "text"
      },
      "source": [
        "Switch Cases are specialized if-else statements - the criteria must be met exactly. Let's work on an example that changes between month numbers and month names. We first set up a dictionary that will be used for the evaulation.  We will use numbers as the keys and use the abbreviations as the values. "
      ]
    },
    {
      "cell_type": "code",
      "metadata": {
        "id": "LsdZSGFGdB2C",
        "colab_type": "code",
        "colab": {}
      },
      "source": [
        "monthSwap = {1:'Jan',2:'Feb',3:'Mar',4:'Apr',5:'May',6:'Jun',7:'Jul',8:'Aug',9:'Sep',10:'Oct',11:'Nov',12:'Dec'}"
      ],
      "execution_count": null,
      "outputs": []
    },
    {
      "cell_type": "markdown",
      "metadata": {
        "id": "GrE1DxJMdB2E",
        "colab_type": "text"
      },
      "source": [
        "We then can use a get statement with the key to find the result:\n",
        "```python\n",
        "result = monthSwap.get(key, 'default')\n",
        "```\n",
        "The value listed in default is returned if the given key isn't present."
      ]
    },
    {
      "cell_type": "code",
      "metadata": {
        "id": "9-cwHOu5dB2E",
        "colab_type": "code",
        "colab": {},
        "outputId": "3247d44d-2b62-4b37-ad82-39643d8d1213"
      },
      "source": [
        "print( \"monthSwap = \", monthSwap)\n",
        "\n",
        "# Print out the 5th month\n",
        "print( \"\\n#-# Key = 5\")\n",
        "print( monthSwap.get(5,\"oooooops!\") )\n",
        "\n",
        "# Print out the 19th month\n",
        "print( \"\\n#-# Key = 19\")\n",
        "print( monthSwap.get(19,\"oooooops!\") )"
      ],
      "execution_count": null,
      "outputs": [
        {
          "output_type": "stream",
          "text": [
            "monthSwap =  {1: 'Jan', 2: 'Feb', 3: 'Mar', 4: 'Apr', 5: 'May', 6: 'Jun', 7: 'Jul', 8: 'Aug', 9: 'Sep', 10: 'Oct', 11: 'Nov', 12: 'Dec'}\n",
            "\n",
            "#-# Key = 5\n",
            "May\n",
            "\n",
            "#-# Key = 19\n",
            "oooooops!\n"
          ],
          "name": "stdout"
        }
      ]
    },
    {
      "cell_type": "markdown",
      "metadata": {
        "id": "pfsj-knvdB2G",
        "colab_type": "text"
      },
      "source": [
        "Let's use our dictionairy to print out some birthdays, given the day, month and year in numerical format.  Note that we use the get function of the dictionary, which has error checking, and then gather the same info without get and the error checking."
      ]
    },
    {
      "cell_type": "code",
      "metadata": {
        "id": "O981i44VdB2G",
        "colab_type": "code",
        "colab": {},
        "outputId": "dbffe8fa-82ab-4aab-aadf-7bd290de15b6"
      },
      "source": [
        "birthdayMonths = [4,2,11,9,15]\n",
        "birthdayDays = [6,12,24,23,15]\n",
        "birthdayYears = [1955,1983,1999,2010,2015]\n",
        "\n",
        "# Cycle through all of the birthdays and print out \n",
        "for spot in range(len(birthdayDays)):\n",
        "    print ( \"\\n#-# Spot = \", spot )\n",
        "    # Print using get, which has built in error checking\n",
        "    print( monthSwap.get(birthdayMonths[spot],\"oooooops!\"), birthdayDays[spot], birthdayYears[spot] )\n",
        "    # Print without get, which gives an error if passed a key that doesn't exist\n",
        "    print( monthSwap[birthdayMonths[spot]], birthdayDays[spot], birthdayYears[spot] )"
      ],
      "execution_count": null,
      "outputs": [
        {
          "output_type": "stream",
          "text": [
            "\n",
            "#-# Spot =  0\n",
            "Apr 6 1955\n",
            "Apr 6 1955\n",
            "\n",
            "#-# Spot =  1\n",
            "Feb 12 1983\n",
            "Feb 12 1983\n",
            "\n",
            "#-# Spot =  2\n",
            "Nov 24 1999\n",
            "Nov 24 1999\n",
            "\n",
            "#-# Spot =  3\n",
            "Sep 23 2010\n",
            "Sep 23 2010\n",
            "\n",
            "#-# Spot =  4\n",
            "oooooops! 15 2015\n"
          ],
          "name": "stdout"
        },
        {
          "output_type": "error",
          "ename": "KeyError",
          "evalue": "15",
          "traceback": [
            "\u001b[0;31m---------------------------------------------------------------------------\u001b[0m",
            "\u001b[0;31mKeyError\u001b[0m                                  Traceback (most recent call last)",
            "\u001b[0;32m<ipython-input-29-b2157a63f782>\u001b[0m in \u001b[0;36m<module>\u001b[0;34m()\u001b[0m\n\u001b[1;32m      9\u001b[0m     \u001b[0mprint\u001b[0m\u001b[0;34m(\u001b[0m \u001b[0mmonthSwap\u001b[0m\u001b[0;34m.\u001b[0m\u001b[0mget\u001b[0m\u001b[0;34m(\u001b[0m\u001b[0mbirthdayMonths\u001b[0m\u001b[0;34m[\u001b[0m\u001b[0mspot\u001b[0m\u001b[0;34m]\u001b[0m\u001b[0;34m,\u001b[0m\u001b[0;34m\"oooooops!\"\u001b[0m\u001b[0;34m)\u001b[0m\u001b[0;34m,\u001b[0m \u001b[0mbirthdayDays\u001b[0m\u001b[0;34m[\u001b[0m\u001b[0mspot\u001b[0m\u001b[0;34m]\u001b[0m\u001b[0;34m,\u001b[0m \u001b[0mbirthdayYears\u001b[0m\u001b[0;34m[\u001b[0m\u001b[0mspot\u001b[0m\u001b[0;34m]\u001b[0m \u001b[0;34m)\u001b[0m\u001b[0;34m\u001b[0m\u001b[0m\n\u001b[1;32m     10\u001b[0m     \u001b[0;31m# Print without get, which gives an error if passed a key that doesn't exist\u001b[0m\u001b[0;34m\u001b[0m\u001b[0;34m\u001b[0m\u001b[0m\n\u001b[0;32m---> 11\u001b[0;31m     \u001b[0mprint\u001b[0m\u001b[0;34m(\u001b[0m \u001b[0mmonthSwap\u001b[0m\u001b[0;34m[\u001b[0m\u001b[0mbirthdayMonths\u001b[0m\u001b[0;34m[\u001b[0m\u001b[0mspot\u001b[0m\u001b[0;34m]\u001b[0m\u001b[0;34m]\u001b[0m\u001b[0;34m,\u001b[0m \u001b[0mbirthdayDays\u001b[0m\u001b[0;34m[\u001b[0m\u001b[0mspot\u001b[0m\u001b[0;34m]\u001b[0m\u001b[0;34m,\u001b[0m \u001b[0mbirthdayYears\u001b[0m\u001b[0;34m[\u001b[0m\u001b[0mspot\u001b[0m\u001b[0;34m]\u001b[0m \u001b[0;34m)\u001b[0m\u001b[0;34m\u001b[0m\u001b[0m\n\u001b[0m",
            "\u001b[0;31mKeyError\u001b[0m: 15"
          ]
        }
      ]
    },
    {
      "cell_type": "markdown",
      "metadata": {
        "id": "jm9eEDRfdB2I",
        "colab_type": "text"
      },
      "source": [
        "You can build the same sort of code with if, elif, and else statements, but it takes a lot more coding. "
      ]
    },
    {
      "cell_type": "code",
      "metadata": {
        "id": "CK5sflA9dB2J",
        "colab_type": "code",
        "colab": {},
        "outputId": "befa963f-2905-4bff-f8ab-f12e4d69ba49"
      },
      "source": [
        "for spot in range(len(birthdayDays)):\n",
        "    if (birthdayMonths[spot]) == (1):\n",
        "        mon = 'Jan'\n",
        "    elif (birthdayMonths[spot]) == (2):\n",
        "        mon = 'Feb'\n",
        "    elif (birthdayMonths[spot]) == (3):\n",
        "        mon = 'Mar'\n",
        "    elif (birthdayMonths[spot]) == (4):\n",
        "        mon = 'Apr'\n",
        "    elif (birthdayMonths[spot]) == (5):\n",
        "        mon = 'May'\n",
        "    elif (birthdayMonths[spot]) == (6):\n",
        "        mon = 'Jun'\n",
        "    elif (birthdayMonths[spot]) == (7):\n",
        "        mon ='July'\n",
        "    elif (birthdayMonths[spot]) == (8):\n",
        "        mon = 'Aug'\n",
        "    elif (birthdayMonths[spot]) == (9):\n",
        "        mon = 'Sep'\n",
        "    elif (birthdayMonths[spot]) == (10):\n",
        "        mon = 'Oct'\n",
        "    elif (birthdayMonths[spot]) == (11):\n",
        "        mon = 'Nov'\n",
        "    elif (birthdayMonths[spot]) == (12):\n",
        "        mon = 'Dec'\n",
        "    else:\n",
        "        mon = 'oooooops!'\n",
        "        \n",
        "    # Print statements\n",
        "    print ( \"\\n#-# Spot = \", spot )\n",
        "    print ( mon, birthdayDays[spot], birthdayYears[spot] )"
      ],
      "execution_count": null,
      "outputs": [
        {
          "output_type": "stream",
          "text": [
            "\n",
            "#-# Spot =  0\n",
            "Apr 6 1955\n",
            "\n",
            "#-# Spot =  1\n",
            "Feb 12 1983\n",
            "\n",
            "#-# Spot =  2\n",
            "Nov 24 1999\n",
            "\n",
            "#-# Spot =  3\n",
            "Sep 23 2010\n",
            "\n",
            "#-# Spot =  4\n",
            "oooooops! 15 2015\n"
          ],
          "name": "stdout"
        }
      ]
    },
    {
      "cell_type": "markdown",
      "metadata": {
        "id": "Aw8zAPuhdB2L",
        "colab_type": "text"
      },
      "source": [
        "You'll note that the first term, April, needs to check itself 4 times before returning an answer, versus the one operation using the key with the dictionary"
      ]
    },
    {
      "cell_type": "markdown",
      "metadata": {
        "id": "e9cZh9bLdB2L",
        "colab_type": "text"
      },
      "source": [
        "## Check yourself"
      ]
    },
    {
      "cell_type": "markdown",
      "metadata": {
        "id": "i1NIHIp0dB2L",
        "colab_type": "text"
      },
      "source": [
        "Try to fill in code to fulfill the request!  Here is a variable used in the excercises"
      ]
    },
    {
      "cell_type": "code",
      "metadata": {
        "id": "BRs65-0NdB2M",
        "colab_type": "code",
        "colab": {}
      },
      "source": [
        "aListOfNumbers = [6, 3, 4, 5, 7, 8, 9 ]"
      ],
      "execution_count": null,
      "outputs": []
    },
    {
      "cell_type": "markdown",
      "metadata": {
        "id": "cmi8n_kmdB2N",
        "colab_type": "text"
      },
      "source": [
        "Write a function that returns the length of aListOfNumbers as well as the maximum value. Hint: max() is a built in function"
      ]
    },
    {
      "cell_type": "code",
      "metadata": {
        "id": "O0NjarwKdB2O",
        "colab_type": "code",
        "colab": {}
      },
      "source": [
        "# Try it here:\n"
      ],
      "execution_count": null,
      "outputs": []
    },
    {
      "cell_type": "markdown",
      "metadata": {
        "id": "nVlTzTGYdB2P",
        "colab_type": "text"
      },
      "source": [
        "Use a for loop to add up all of the numbers in aListOfNumbers."
      ]
    },
    {
      "cell_type": "code",
      "metadata": {
        "id": "rRnAQ-YNdB2Q",
        "colab_type": "code",
        "colab": {}
      },
      "source": [
        "# Try it here:\n",
        "\n"
      ],
      "execution_count": null,
      "outputs": []
    },
    {
      "cell_type": "markdown",
      "metadata": {
        "id": "fCGVUAi3dB2S",
        "colab_type": "text"
      },
      "source": [
        "Use a while loop to find the first number in aListOfNumbers that is both greater than 5 and a multiple of 4."
      ]
    },
    {
      "cell_type": "code",
      "metadata": {
        "id": "3qt137zldB2S",
        "colab_type": "code",
        "colab": {}
      },
      "source": [
        "# Try it here:\n",
        "\n"
      ],
      "execution_count": null,
      "outputs": []
    },
    {
      "cell_type": "markdown",
      "metadata": {
        "id": "QSsBBGZ7dB2V",
        "colab_type": "text"
      },
      "source": [
        "Count the number of values in aListOfNumbers that are:\n",
        "* even\n",
        "* odd and divisible by three\n",
        "* odd and not divisible by three\n",
        "\n",
        "using if, elif and else."
      ]
    },
    {
      "cell_type": "code",
      "metadata": {
        "id": "VABqp--HdB2V",
        "colab_type": "code",
        "colab": {}
      },
      "source": [
        "# Try it here:\n",
        "\n"
      ],
      "execution_count": null,
      "outputs": []
    },
    {
      "cell_type": "markdown",
      "metadata": {
        "id": "filzQr2BdB2X",
        "colab_type": "text"
      },
      "source": [
        "Create a dictionary with keys 1-8 corresponding to the words one, two, three, etc. Loop through aListofNumbers to print out the word corresponding to the digit and provide a default value of 'Not Found' if the key is not contained within the dictionary.  You should get: six three four five seven eight Not Found"
      ]
    },
    {
      "cell_type": "code",
      "metadata": {
        "id": "ZgOqlD5rdB2X",
        "colab_type": "code",
        "colab": {}
      },
      "source": [
        "# Try it here:\n",
        "\n"
      ],
      "execution_count": null,
      "outputs": []
    },
    {
      "cell_type": "code",
      "metadata": {
        "id": "SAs-cS6ddB2Z",
        "colab_type": "code",
        "colab": {}
      },
      "source": [
        ""
      ],
      "execution_count": null,
      "outputs": []
    }
  ]
}