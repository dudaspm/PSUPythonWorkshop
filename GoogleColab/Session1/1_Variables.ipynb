{
  "nbformat": 4,
  "nbformat_minor": 0,
  "metadata": {
    "celltoolbar": "Slideshow",
    "kernelspec": {
      "display_name": "Python 3",
      "language": "python",
      "name": "python3"
    },
    "language_info": {
      "codemirror_mode": {
        "name": "ipython",
        "version": 3
      },
      "file_extension": ".py",
      "mimetype": "text/x-python",
      "name": "python",
      "nbconvert_exporter": "python",
      "pygments_lexer": "ipython3",
      "version": "3.6.4"
    },
    "colab": {
      "name": "1.Variables.ipynb",
      "provenance": [],
      "include_colab_link": true
    }
  },
  "cells": [
    {
      "cell_type": "markdown",
      "metadata": {
        "id": "view-in-github",
        "colab_type": "text"
      },
      "source": [
        "<a href=\"https://colab.research.google.com/github/dudaspm/PSUPythonWorkshop/blob/master/GoogleColab/Session1/1_Variables.ipynb\" target=\"_parent\"><img src=\"https://colab.research.google.com/assets/colab-badge.svg\" alt=\"Open In Colab\"/></a>"
      ]
    },
    {
      "cell_type": "markdown",
      "metadata": {
        "id": "K1vHmnMRchUc",
        "colab_type": "text"
      },
      "source": [
        "# What is a variable?"
      ]
    },
    {
      "cell_type": "markdown",
      "metadata": {
        "id": "ZudiS40JchUc",
        "colab_type": "text"
      },
      "source": [
        "Variables are used to store values\n",
        "\n",
        "In Python, we do not need to declare what type of variable is being used. Python does this for us!"
      ]
    },
    {
      "cell_type": "markdown",
      "metadata": {
        "id": "yT0YwosKchUd",
        "colab_type": "text"
      },
      "source": [
        "### Integers"
      ]
    },
    {
      "cell_type": "code",
      "metadata": {
        "id": "cRaFdLhkchUe",
        "colab_type": "code",
        "colab": {}
      },
      "source": [
        "someInteger = 0"
      ],
      "execution_count": null,
      "outputs": []
    },
    {
      "cell_type": "code",
      "metadata": {
        "id": "ocrSOfY_chUg",
        "colab_type": "code",
        "colab": {},
        "outputId": "4bd6920b-3fd4-41ed-fa20-dbf26d595a6d"
      },
      "source": [
        "type( someInteger )"
      ],
      "execution_count": null,
      "outputs": [
        {
          "output_type": "execute_result",
          "data": {
            "text/plain": [
              "int"
            ]
          },
          "metadata": {
            "tags": []
          },
          "execution_count": 9
        }
      ]
    },
    {
      "cell_type": "code",
      "metadata": {
        "id": "cZZgiCnPchUj",
        "colab_type": "code",
        "colab": {},
        "outputId": "4e3030ea-a9ed-4c76-b6ee-f7e359a248ed"
      },
      "source": [
        "someInteger = someInteger + 10\n",
        "print( someInteger )"
      ],
      "execution_count": null,
      "outputs": [
        {
          "output_type": "stream",
          "text": [
            "10\n"
          ],
          "name": "stdout"
        }
      ]
    },
    {
      "cell_type": "code",
      "metadata": {
        "id": "sgGd24-LchUl",
        "colab_type": "code",
        "colab": {},
        "outputId": "8d95b648-8a2c-4602-98e4-ad6a0ed065c9"
      },
      "source": [
        "print( type( someInteger ), someInteger )"
      ],
      "execution_count": null,
      "outputs": [
        {
          "output_type": "stream",
          "text": [
            "<class 'int'> 10\n"
          ],
          "name": "stdout"
        }
      ]
    },
    {
      "cell_type": "markdown",
      "metadata": {
        "id": "08_SGA15chUn",
        "colab_type": "text"
      },
      "source": [
        "### Floats"
      ]
    },
    {
      "cell_type": "markdown",
      "metadata": {
        "id": "hvA1f91GchUn",
        "colab_type": "text"
      },
      "source": [
        "Floats are similar to integers, but with more precision.\n",
        "Float comes from Floating point. "
      ]
    },
    {
      "cell_type": "code",
      "metadata": {
        "id": "ncU4v5r3chUo",
        "colab_type": "code",
        "colab": {},
        "outputId": "ab4a554a-1114-4ac7-abb8-b9f18f9aebce"
      },
      "source": [
        "someFloat = .0\n",
        "print( type( someFloat ), someFloat )"
      ],
      "execution_count": null,
      "outputs": [
        {
          "output_type": "stream",
          "text": [
            "<class 'float'> 0.0\n"
          ],
          "name": "stdout"
        }
      ]
    },
    {
      "cell_type": "code",
      "metadata": {
        "id": "zFaSS7zRchUq",
        "colab_type": "code",
        "colab": {},
        "outputId": "e8e0d0fa-2139-499e-fd25-65f888d1b9ee"
      },
      "source": [
        "someFloat = someFloat + 10\n",
        "print( type( someFloat ), someFloat ) "
      ],
      "execution_count": null,
      "outputs": [
        {
          "output_type": "stream",
          "text": [
            "<class 'float'> 10.0\n"
          ],
          "name": "stdout"
        }
      ]
    },
    {
      "cell_type": "markdown",
      "metadata": {
        "id": "ZRbJjmFpchUs",
        "colab_type": "text"
      },
      "source": [
        "#### Mixing integers and floats"
      ]
    },
    {
      "cell_type": "code",
      "metadata": {
        "id": "ZIaf8m9lchUs",
        "colab_type": "code",
        "colab": {},
        "outputId": "627c5ebb-e885-4e1a-f8f1-f583bc4cbe41"
      },
      "source": [
        "print( someInteger + someFloat )\n",
        "print( someInteger + 1.1 )\n",
        "print( someInteger, (someInteger/3) )\n",
        "# Why does this happen?  Integer math can create floats!\n",
        "# This isn't the case in python 2.x: Integer / Integer = Integer\n",
        "# You can introduce a float to make the answer a float in python 2.x\n",
        "print( someInteger, (someInteger/3.) )"
      ],
      "execution_count": null,
      "outputs": [
        {
          "output_type": "stream",
          "text": [
            "20.0\n",
            "11.1\n",
            "10 3.3333333333333335\n",
            "10 3.3333333333333335\n"
          ],
          "name": "stdout"
        }
      ]
    },
    {
      "cell_type": "markdown",
      "metadata": {
        "id": "SUyDCv25chUu",
        "colab_type": "text"
      },
      "source": [
        "#### type-cast"
      ]
    },
    {
      "cell_type": "code",
      "metadata": {
        "id": "AWgY2avGchUv",
        "colab_type": "code",
        "colab": {},
        "outputId": "88382b5e-a8de-483f-f054-652c0aeb2663"
      },
      "source": [
        "print( someInteger, someFloat )\n",
        "print( float( someInteger ), int( someFloat ) )\n",
        "print( someInteger, (float( someInteger )/3) )"
      ],
      "execution_count": null,
      "outputs": [
        {
          "output_type": "stream",
          "text": [
            "10 10.0\n",
            "10.0 10\n",
            "10 3.3333333333333335\n"
          ],
          "name": "stdout"
        }
      ]
    },
    {
      "cell_type": "markdown",
      "metadata": {
        "id": "KfM0qnzlchUx",
        "colab_type": "text"
      },
      "source": [
        "### Strings"
      ]
    },
    {
      "cell_type": "markdown",
      "metadata": {
        "id": "FuVN4FsXchUx",
        "colab_type": "text"
      },
      "source": [
        "Strings are sequence of letters, numbers, and special characters "
      ]
    },
    {
      "cell_type": "code",
      "metadata": {
        "id": "7QODORr1chUx",
        "colab_type": "code",
        "colab": {}
      },
      "source": [
        "helloStatement = \"hello everyone!\""
      ],
      "execution_count": null,
      "outputs": []
    },
    {
      "cell_type": "code",
      "metadata": {
        "id": "eYeIAjZIchUz",
        "colab_type": "code",
        "colab": {},
        "outputId": "5886c50f-7aa7-422a-bdff-dc24cc13c996"
      },
      "source": [
        "print( type( helloStatement ), helloStatement )"
      ],
      "execution_count": null,
      "outputs": [
        {
          "output_type": "stream",
          "text": [
            "<class 'str'> hello everyone!\n"
          ],
          "name": "stdout"
        }
      ]
    },
    {
      "cell_type": "code",
      "metadata": {
        "id": "zb-qJG3fchU0",
        "colab_type": "code",
        "colab": {},
        "outputId": "5b7d7dc9-10df-44ee-e30b-b7334e5af8b1"
      },
      "source": [
        "singleCharacter = \"a\"\n",
        "print( singleCharacter, type( singleCharacter ) )"
      ],
      "execution_count": null,
      "outputs": [
        {
          "output_type": "stream",
          "text": [
            "a <class 'str'>\n"
          ],
          "name": "stdout"
        }
      ]
    },
    {
      "cell_type": "markdown",
      "metadata": {
        "id": "2t0UnQ0JchU2",
        "colab_type": "text"
      },
      "source": [
        "#### String Indexing/String Slicing"
      ]
    },
    {
      "cell_type": "code",
      "metadata": {
        "id": "kCM5FwLfchU2",
        "colab_type": "code",
        "colab": {},
        "outputId": "b99eb17c-1446-45d0-d0d9-8ec22c764d16"
      },
      "source": [
        "print( helloStatement[1] )"
      ],
      "execution_count": null,
      "outputs": [
        {
          "output_type": "stream",
          "text": [
            "e\n"
          ],
          "name": "stdout"
        }
      ]
    },
    {
      "cell_type": "code",
      "metadata": {
        "id": "uZHoVyywchU4",
        "colab_type": "code",
        "colab": {},
        "outputId": "21e500d4-f91c-40b6-f2ba-2e9b4a34bbe0"
      },
      "source": [
        "print( helloStatement[0:5] )"
      ],
      "execution_count": null,
      "outputs": [
        {
          "output_type": "stream",
          "text": [
            "hello\n"
          ],
          "name": "stdout"
        }
      ]
    },
    {
      "cell_type": "code",
      "metadata": {
        "id": "xOwJH2kichU6",
        "colab_type": "code",
        "colab": {},
        "outputId": "d83a27ed-2bb6-4aba-d30b-f63908db9691"
      },
      "source": [
        "print( helloStatement[:5] )"
      ],
      "execution_count": null,
      "outputs": [
        {
          "output_type": "stream",
          "text": [
            "hello\n"
          ],
          "name": "stdout"
        }
      ]
    },
    {
      "cell_type": "code",
      "metadata": {
        "id": "McJFjkBWchU8",
        "colab_type": "code",
        "colab": {},
        "outputId": "1d531b49-818a-4963-c638-8dd76f6f5cf3"
      },
      "source": [
        "print( helloStatement[5:] )"
      ],
      "execution_count": null,
      "outputs": [
        {
          "output_type": "stream",
          "text": [
            " everyone!\n"
          ],
          "name": "stdout"
        }
      ]
    },
    {
      "cell_type": "markdown",
      "metadata": {
        "id": "93941XA9chU9",
        "colab_type": "text"
      },
      "source": [
        "#### String functions"
      ]
    },
    {
      "cell_type": "code",
      "metadata": {
        "id": "pEPAMDMYchU-",
        "colab_type": "code",
        "colab": {},
        "outputId": "f0d67e72-d451-4d6e-fdcd-e5d6c9dc4dee"
      },
      "source": [
        "################\n",
        "## Find\n",
        "################\n",
        "print( helloStatement.find(\"one\") )\n",
        "print( helloStatement.find(\"me\") )\n",
        "print( helloStatement.capitalize() )\n",
        "print( helloStatement.lower() )\n",
        "print( helloStatement.split(\" \") )"
      ],
      "execution_count": null,
      "outputs": [
        {
          "output_type": "stream",
          "text": [
            "11\n",
            "-1\n",
            "Hello everyone!\n",
            "hello everyone!\n",
            "['hello', 'everyone!']\n"
          ],
          "name": "stdout"
        }
      ]
    },
    {
      "cell_type": "markdown",
      "metadata": {
        "id": "pPxtWpapchVA",
        "colab_type": "text"
      },
      "source": [
        "What will this do?"
      ]
    },
    {
      "cell_type": "code",
      "metadata": {
        "id": "r_djKyoVchVA",
        "colab_type": "code",
        "colab": {},
        "outputId": "1f324649-516f-49a7-ae6e-c356bcfbd7cf"
      },
      "source": [
        "print( helloStatement.capitalize().lower() )\n",
        "# We can chain these!\n",
        "print( helloStatement[:5].capitalize() )"
      ],
      "execution_count": null,
      "outputs": [
        {
          "output_type": "stream",
          "text": [
            "hello everyone!\n",
            "Hello\n"
          ],
          "name": "stdout"
        }
      ]
    },
    {
      "cell_type": "markdown",
      "metadata": {
        "id": "1ZvKg-zrchVC",
        "colab_type": "text"
      },
      "source": [
        "#### Concatenating Strings"
      ]
    },
    {
      "cell_type": "code",
      "metadata": {
        "id": "ikXKG3LpchVC",
        "colab_type": "code",
        "colab": {},
        "outputId": "cfe63fa9-91ed-498a-def8-d850a84db3f1"
      },
      "source": [
        "courseName = \"bio\"\n",
        "courseNumber = \"101\"\n",
        "print( courseName+courseNumber )\n",
        "print( \"%s%s\" % (courseName,courseNumber) )"
      ],
      "execution_count": null,
      "outputs": [
        {
          "output_type": "stream",
          "text": [
            "bio101\n",
            "bio101\n"
          ],
          "name": "stdout"
        }
      ]
    },
    {
      "cell_type": "markdown",
      "metadata": {
        "id": "ekjtlVZSchVE",
        "colab_type": "text"
      },
      "source": [
        "Why I like to use %s"
      ]
    },
    {
      "cell_type": "code",
      "metadata": {
        "id": "5ypnnWf6chVF",
        "colab_type": "code",
        "colab": {},
        "outputId": "5a762f81-776c-44b7-8a95-56c006837fc8"
      },
      "source": [
        "variable1 = \"variable1\"\n",
        "variable2 = \"variable2\"\n",
        "variable3 = \"variable3\"\n",
        "variable4 = \"variable4\"\n",
        "variable5 = \"variable5\"\n",
        "print( variable1 + \",\" + variable2 + \",\" + variable3 + \",\" + variable4 + \",\" + variable5 )\n",
        "print( \"%s,%s,%s,%s,%s\" % (variable1,variable2,variable3,variable4,variable5) )"
      ],
      "execution_count": null,
      "outputs": [
        {
          "output_type": "stream",
          "text": [
            "variable1,variable2,variable3,variable4,variable5\n",
            "variable1,variable2,variable3,variable4,variable5\n"
          ],
          "name": "stdout"
        }
      ]
    },
    {
      "cell_type": "code",
      "metadata": {
        "id": "QxPcpojdchVG",
        "colab_type": "code",
        "colab": {},
        "outputId": "f8fdd7b4-746c-4d43-d59c-c9ebb146cd62"
      },
      "source": [
        "# let's concatenate the strings\n",
        "courseNameNumber = \"%s%s\" % (courseName,courseNumber)\n",
        "print( courseNameNumber )\n",
        "print( \"I am currently sitting in %s\" % (courseNameNumber) )"
      ],
      "execution_count": null,
      "outputs": [
        {
          "output_type": "stream",
          "text": [
            "bio101\n",
            "I am currently sitting in bio101\n"
          ],
          "name": "stdout"
        }
      ]
    },
    {
      "cell_type": "markdown",
      "metadata": {
        "id": "2OIYhpA5chVJ",
        "colab_type": "text"
      },
      "source": [
        "### Booleans"
      ]
    },
    {
      "cell_type": "markdown",
      "metadata": {
        "id": "bzNFbQoYchVJ",
        "colab_type": "text"
      },
      "source": [
        "Booleans are used to do comparisions (true/false), (1/0), (yes/no)"
      ]
    },
    {
      "cell_type": "code",
      "metadata": {
        "id": "ZB3tLylxchVK",
        "colab_type": "code",
        "colab": {},
        "outputId": "91eff1be-9c3d-4834-c0f3-b84e0edccc7d"
      },
      "source": [
        "someCondition = True\n",
        "type( someCondition )"
      ],
      "execution_count": null,
      "outputs": [
        {
          "output_type": "execute_result",
          "data": {
            "text/plain": [
              "bool"
            ]
          },
          "metadata": {
            "tags": []
          },
          "execution_count": 28
        }
      ]
    },
    {
      "cell_type": "code",
      "metadata": {
        "id": "TVmIQub1chVM",
        "colab_type": "code",
        "colab": {},
        "outputId": "fd6b1ed8-5254-4dc8-d479-af7321365491"
      },
      "source": [
        "# Will come back to this in a second (==)\n",
        "(someCondition == False)"
      ],
      "execution_count": null,
      "outputs": [
        {
          "output_type": "execute_result",
          "data": {
            "text/plain": [
              "False"
            ]
          },
          "metadata": {
            "tags": []
          },
          "execution_count": 29
        }
      ]
    },
    {
      "cell_type": "code",
      "metadata": {
        "id": "Y046bXcjchVO",
        "colab_type": "code",
        "colab": {},
        "outputId": "a738e907-084f-4ce8-8246-1b02a8b1b3fa"
      },
      "source": [
        "if (False): \n",
        "    print( \"yes for False!\" )\n",
        "if (True): \n",
        "    print( \"yes for True!\" )"
      ],
      "execution_count": null,
      "outputs": [
        {
          "output_type": "stream",
          "text": [
            "yes for True!\n"
          ],
          "name": "stdout"
        }
      ]
    },
    {
      "cell_type": "markdown",
      "metadata": {
        "id": "cH6Wf5rCchVQ",
        "colab_type": "text"
      },
      "source": [
        "if (0): \n",
        "    print \"yes for 0!\"\n",
        "if (1): \n",
        "    print \"yes for 1!\""
      ]
    },
    {
      "cell_type": "markdown",
      "metadata": {
        "id": "J07VCcWzchVQ",
        "colab_type": "text"
      },
      "source": [
        "### Lists"
      ]
    },
    {
      "cell_type": "markdown",
      "metadata": {
        "id": "uumZctbGchVQ",
        "colab_type": "text"
      },
      "source": [
        "Lists (or also known as Arrays) are exactly that. A list of data. Exmaple:"
      ]
    },
    {
      "cell_type": "code",
      "metadata": {
        "id": "wLoxcJbNchVR",
        "colab_type": "code",
        "colab": {},
        "outputId": "4fd1289c-e356-45c5-caca-1e80bad98190"
      },
      "source": [
        "groceryList = [\"apple\", \"banana\", \"eggs\"]\n",
        "print( groceryList )"
      ],
      "execution_count": null,
      "outputs": [
        {
          "output_type": "stream",
          "text": [
            "['apple', 'banana', 'eggs']\n"
          ],
          "name": "stdout"
        }
      ]
    },
    {
      "cell_type": "code",
      "metadata": {
        "id": "dJ0WltuwchVS",
        "colab_type": "code",
        "colab": {},
        "outputId": "1400647b-5363-438a-df4f-f7b28f0a600d"
      },
      "source": [
        "# or another way\n",
        "groceryList = []\n",
        "groceryList.append(\"apple\")\n",
        "groceryList.append(\"banana\")\n",
        "groceryList.append(\"eggs\")\n",
        "print( groceryList )"
      ],
      "execution_count": null,
      "outputs": [
        {
          "output_type": "stream",
          "text": [
            "['apple', 'banana', 'eggs']\n"
          ],
          "name": "stdout"
        }
      ]
    },
    {
      "cell_type": "markdown",
      "metadata": {
        "id": "wuZs6yNzchVT",
        "colab_type": "text"
      },
      "source": [
        "We can access each entry by using an index number (**remember starts at 0**)"
      ]
    },
    {
      "cell_type": "code",
      "metadata": {
        "id": "o1FzwlPqchVU",
        "colab_type": "code",
        "colab": {},
        "outputId": "6a7b64a5-73d4-4b74-8e44-83ca0d2e376a"
      },
      "source": [
        "print( groceryList[2] )\n",
        "print( groceryList[0] )\n",
        "print( groceryList[1] )\n",
        "print( groceryList[3] )"
      ],
      "execution_count": null,
      "outputs": [
        {
          "output_type": "stream",
          "text": [
            "eggs\n",
            "apple\n",
            "banana\n"
          ],
          "name": "stdout"
        },
        {
          "output_type": "error",
          "ename": "IndexError",
          "evalue": "list index out of range",
          "traceback": [
            "\u001b[0;31m---------------------------------------------------------------------------\u001b[0m",
            "\u001b[0;31mIndexError\u001b[0m                                Traceback (most recent call last)",
            "\u001b[0;32m<ipython-input-33-0a77fb05d512>\u001b[0m in \u001b[0;36m<module>\u001b[0;34m()\u001b[0m\n\u001b[1;32m      2\u001b[0m \u001b[0mprint\u001b[0m\u001b[0;34m(\u001b[0m \u001b[0mgroceryList\u001b[0m\u001b[0;34m[\u001b[0m\u001b[0;36m0\u001b[0m\u001b[0;34m]\u001b[0m \u001b[0;34m)\u001b[0m\u001b[0;34m\u001b[0m\u001b[0m\n\u001b[1;32m      3\u001b[0m \u001b[0mprint\u001b[0m\u001b[0;34m(\u001b[0m \u001b[0mgroceryList\u001b[0m\u001b[0;34m[\u001b[0m\u001b[0;36m1\u001b[0m\u001b[0;34m]\u001b[0m \u001b[0;34m)\u001b[0m\u001b[0;34m\u001b[0m\u001b[0m\n\u001b[0;32m----> 4\u001b[0;31m \u001b[0mprint\u001b[0m\u001b[0;34m(\u001b[0m \u001b[0mgroceryList\u001b[0m\u001b[0;34m[\u001b[0m\u001b[0;36m3\u001b[0m\u001b[0;34m]\u001b[0m \u001b[0;34m)\u001b[0m\u001b[0;34m\u001b[0m\u001b[0m\n\u001b[0m",
            "\u001b[0;31mIndexError\u001b[0m: list index out of range"
          ]
        }
      ]
    },
    {
      "cell_type": "markdown",
      "metadata": {
        "id": "o99INugHchVV",
        "colab_type": "text"
      },
      "source": [
        "To do this more efficiently, we will be using loops (for and while, we will talk about later)."
      ]
    },
    {
      "cell_type": "markdown",
      "metadata": {
        "id": "Og6kk0rxchVV",
        "colab_type": "text"
      },
      "source": [
        "### Dictionary"
      ]
    },
    {
      "cell_type": "markdown",
      "metadata": {
        "id": "l6G825hwchVW",
        "colab_type": "text"
      },
      "source": [
        "Dictionaries are used to index based on a specific key. As in:\n",
        "\n",
        "dictionary[\\\"street adddress\\\" (key)] = \"123 Apple St.\" (value)"
      ]
    },
    {
      "cell_type": "code",
      "metadata": {
        "id": "8U-Fb9TIchVW",
        "colab_type": "code",
        "colab": {}
      },
      "source": [
        "personalInformation = {}\n",
        "personalInformation[\"streetAddress\"] = \"123 Apple St.\"\n",
        "personalInformation[\"firstName\"] = \"Patrick\"\n",
        "personalInformation[\"lastName\"] = \"Dudas\"\n",
        "print( personalInformation )"
      ],
      "execution_count": null,
      "outputs": []
    },
    {
      "cell_type": "markdown",
      "metadata": {
        "id": "mS5nRf6-chVY",
        "colab_type": "text"
      },
      "source": [
        "Note the order."
      ]
    },
    {
      "cell_type": "markdown",
      "metadata": {
        "id": "6n2w1qEAchVY",
        "colab_type": "text"
      },
      "source": [
        "Again, to do this more efficiently, we will be using loops (for and while, we will talk about later)."
      ]
    },
    {
      "cell_type": "code",
      "metadata": {
        "id": "s9PIWVrschVY",
        "colab_type": "code",
        "colab": {}
      },
      "source": [
        ""
      ],
      "execution_count": null,
      "outputs": []
    }
  ]
}