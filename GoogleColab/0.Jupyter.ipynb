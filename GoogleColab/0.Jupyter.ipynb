{
  "nbformat": 4,
  "nbformat_minor": 0,
  "metadata": {
    "colab": {
      "name": "Introduction.ipynb",
      "provenance": [],
      "collapsed_sections": [],
      "authorship_tag": "ABX9TyPq6kr6eMIMdyVIFFZbKpQA",
      "include_colab_link": true
    },
    "kernelspec": {
      "name": "python3",
      "display_name": "Python 3"
    }
  },
  "cells": [
    {
      "cell_type": "markdown",
      "metadata": {
        "id": "view-in-github",
        "colab_type": "text"
      },
      "source": [
        "<a href=\"https://colab.research.google.com/github/dudaspm/PSUPythonWorkshop/blob/master/GoogleColab/0.Jupyter.ipynb\" target=\"_parent\"><img src=\"https://colab.research.google.com/assets/colab-badge.svg\" alt=\"Open In Colab\"/></a>"
      ]
    },
    {
      "cell_type": "markdown",
      "metadata": {
        "id": "W00cXZatCdYc",
        "colab_type": "text"
      },
      "source": [
        "# Introduction"
      ]
    },
    {
      "cell_type": "markdown",
      "metadata": {
        "id": "h_iBWWX6CiuL",
        "colab_type": "text"
      },
      "source": [
        "## Where am I? (JupyterLab Notebook)"
      ]
    },
    {
      "cell_type": "markdown",
      "metadata": {
        "id": "ChfQO9ZZCp6j",
        "colab_type": "text"
      },
      "source": [
        "Jupyter is a powerful suite of tools that allows us to do many things.\n",
        "\n",
        "Jupyter is capable of running **Ju**lia, **Pyt**hon and **R**, as well as some other things. \n",
        "\n",
        "**__IMPORTANT__**\n",
        "\n",
        "1. This is not a Python course.\n",
        "2. Any Python used will be given to you and explained. \n",
        "3. You will not be tested on any Python concepts or code.\n",
        "4. I may teach you some very basic concepts in Python, but you are NOT expected to develop any code on your own.  \n"
      ]
    },
    {
      "cell_type": "markdown",
      "metadata": {
        "id": "1rZy0K3VDCbk",
        "colab_type": "text"
      },
      "source": [
        "## Cells"
      ]
    },
    {
      "cell_type": "markdown",
      "metadata": {
        "id": "zqYC9KjjH8oF",
        "colab_type": "text"
      },
      "source": [
        "Each box is called a cell. "
      ]
    },
    {
      "cell_type": "markdown",
      "metadata": {
        "id": "N2TbIgEgH073",
        "colab_type": "text"
      },
      "source": [
        "### Two types of Cells"
      ]
    },
    {
      "cell_type": "markdown",
      "metadata": {
        "id": "Yj2f48xPH3wW",
        "colab_type": "text"
      },
      "source": [
        "#### Text"
      ]
    },
    {
      "cell_type": "markdown",
      "metadata": {
        "id": "cXmtpnLuIy4u",
        "colab_type": "text"
      },
      "source": [
        "Text Cells allow you to add text (via Markdown), which includes tables, images, links, bullet lists, numbered list, LaTeX, blockquote, among other things. "
      ]
    },
    {
      "cell_type": "markdown",
      "metadata": {
        "id": "ItueGCP3JcTy",
        "colab_type": "text"
      },
      "source": [
        "##### Table \n",
        "\n",
        "| This | is   |\n",
        "|------|------|\n",
        "|   a  | table| "
      ]
    },
    {
      "cell_type": "markdown",
      "metadata": {
        "id": "-Qsp7CsAJoBY",
        "colab_type": "text"
      },
      "source": [
        "##### Image\n",
        "\n",
        "![Van Ghogh](https://upload.wikimedia.org/wikipedia/commons/thumb/e/ea/Van_Gogh_-_Starry_Night_-_Google_Art_Project.jpg/303px-Van_Gogh_-_Starry_Night_-_Google_Art_Project.jpg)\n",
        "\n"
      ]
    },
    {
      "cell_type": "markdown",
      "metadata": {
        "id": "nypi_6ZjNaop",
        "colab_type": "text"
      },
      "source": [
        "##### Link\n",
        "\n",
        "Vincent van Gogh / Public domain\n",
        "[Attribution](https://commons.wikimedia.org/wiki/File:Van_Gogh_-_Starry_Night_-_Google_Art_Project.jpg)"
      ]
    },
    {
      "cell_type": "markdown",
      "metadata": {
        "id": "qLltad4lLb7h",
        "colab_type": "text"
      },
      "source": [
        "##### Bullet List\n",
        "\n",
        "*   I am a\n",
        "  * bullet\n",
        "      * list\n",
        "\n"
      ]
    },
    {
      "cell_type": "markdown",
      "metadata": {
        "id": "ST3426lBLq_O",
        "colab_type": "text"
      },
      "source": [
        "##### Numbered List\n",
        "\n",
        "1.   I am a\n",
        "  1. numbered\n",
        "      1. list"
      ]
    },
    {
      "cell_type": "markdown",
      "metadata": {
        "id": "gwo97_93MREA",
        "colab_type": "text"
      },
      "source": [
        "##### LaTeX\n",
        "\n",
        "$$e=mc^2$$"
      ]
    },
    {
      "cell_type": "markdown",
      "metadata": {
        "id": "rWlY94TkNAYT",
        "colab_type": "text"
      },
      "source": [
        "##### Blockquotes\n",
        "\n",
        "> This is a blockquote."
      ]
    },
    {
      "cell_type": "markdown",
      "metadata": {
        "id": "6Qa2PVH9CgqE",
        "colab_type": "text"
      },
      "source": [
        "#### Code"
      ]
    },
    {
      "cell_type": "markdown",
      "metadata": {
        "id": "407akZkvDGgb",
        "colab_type": "text"
      },
      "source": [
        "Cells can be run using the Run button ← or selecting one of the run options under the Cell menu. Try this out! You can change what is in the cell and rerun the same cell, which is useful for debugging."
      ]
    },
    {
      "cell_type": "code",
      "metadata": {
        "id": "6yTJ2HBDCiAw",
        "colab_type": "code",
        "colab": {
          "base_uri": "https://localhost:8080/",
          "height": 34
        },
        "outputId": "c635ab07-1ffe-4244-ac4d-2ac66323cd98"
      },
      "source": [
        "2 + 2 "
      ],
      "execution_count": null,
      "outputs": [
        {
          "output_type": "execute_result",
          "data": {
            "text/plain": [
              "4"
            ]
          },
          "metadata": {
            "tags": []
          },
          "execution_count": 1
        }
      ]
    },
    {
      "cell_type": "markdown",
      "metadata": {
        "id": "q6rtDY4qCnzZ",
        "colab_type": "text"
      },
      "source": [
        "**Your turn**: In a new cell, figure out what 172 / 23.5 is. "
      ]
    }
  ]
}