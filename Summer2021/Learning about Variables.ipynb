{
 "cells": [
  {
   "cell_type": "markdown",
   "metadata": {
    "slideshow": {
     "slide_type": "slide"
    }
   },
   "source": [
    "# What is a variable?"
   ]
  },
  {
   "cell_type": "markdown",
   "metadata": {
    "slideshow": {
     "slide_type": "slide"
    }
   },
   "source": [
    "When we are developing our idea, we sometime need to use values multiple times or change the value based on our code. This is where variables become very helpful. Let's look at an example.\n",
    "\n",
    "In this example, we are adding a few numbers togethers. In this instance, if all we care about is getting the result (similar to a calculator). Then variables are not needed. "
   ]
  },
  {
   "cell_type": "code",
   "execution_count": 8,
   "metadata": {},
   "outputs": [
    {
     "data": {
      "text/plain": [
       "24"
      ]
     },
     "execution_count": 8,
     "metadata": {},
     "output_type": "execute_result"
    }
   ],
   "source": [
    "5 + 3 + 16"
   ]
  },
  {
   "cell_type": "markdown",
   "metadata": {},
   "source": [
    "But let's look an example where we need to get the circumference of a circle using multiple radii. The equation for the circumference of a circle is: $C = 2 \\pi r$"
   ]
  },
  {
   "cell_type": "markdown",
   "metadata": {},
   "source": [
    "Let's say the radius is 5"
   ]
  },
  {
   "cell_type": "code",
   "execution_count": 9,
   "metadata": {},
   "outputs": [
    {
     "data": {
      "text/plain": [
       "31.4159265359"
      ]
     },
     "execution_count": 9,
     "metadata": {},
     "output_type": "execute_result"
    }
   ],
   "source": [
    "2 * 3.14159265359 * 5"
   ]
  },
  {
   "cell_type": "markdown",
   "metadata": {},
   "source": [
    "OK, how about radius 10 and 11 and 4 and ... \n",
    "Well in this, we might not want to rewrite 3.14159265359 over and over. So, in this case, we want to create a variable for this and we will call it pi. "
   ]
  },
  {
   "cell_type": "code",
   "execution_count": 10,
   "metadata": {},
   "outputs": [],
   "source": [
    "pi = 3.14159265359"
   ]
  },
  {
   "cell_type": "markdown",
   "metadata": {},
   "source": [
    "Now, every time we reference the variable called **pi** it will refer to the number **3.14159265359**\n",
    "\n",
    "Let's try those radii again (10, 11, 4)"
   ]
  },
  {
   "cell_type": "code",
   "execution_count": 11,
   "metadata": {},
   "outputs": [
    {
     "data": {
      "text/plain": [
       "62.8318530718"
      ]
     },
     "execution_count": 11,
     "metadata": {},
     "output_type": "execute_result"
    }
   ],
   "source": [
    "2 * pi * 10"
   ]
  },
  {
   "cell_type": "code",
   "execution_count": 12,
   "metadata": {},
   "outputs": [
    {
     "data": {
      "text/plain": [
       "69.11503837898"
      ]
     },
     "execution_count": 12,
     "metadata": {},
     "output_type": "execute_result"
    }
   ],
   "source": [
    "2 * pi * 11"
   ]
  },
  {
   "cell_type": "code",
   "execution_count": 13,
   "metadata": {},
   "outputs": [
    {
     "data": {
      "text/plain": [
       "25.13274122872"
      ]
     },
     "execution_count": 13,
     "metadata": {},
     "output_type": "execute_result"
    }
   ],
   "source": [
    "2 * pi * 4"
   ]
  },
  {
   "cell_type": "markdown",
   "metadata": {},
   "source": [
    "By the way, if you happen to get an error:\n",
    "```javascript\n",
    "NameError: name 'pi' is not defined\n",
    "```\n",
    "Make sure you go to the cell that has\n",
    "```python\n",
    "pi = 3.14159265359\n",
    "```\n",
    "and run this cell *first* then try the other calculations. "
   ]
  },
  {
   "cell_type": "markdown",
   "metadata": {},
   "source": [
    "## Type of Variables"
   ]
  },
  {
   "cell_type": "markdown",
   "metadata": {},
   "source": [
    "There are multiple types of variables. The most common (and the ones we will talk about) are:\n",
    "\n",
    "* Integers (whole numbers)\n",
    "* Float (Floating points or numbers with a decimal)\n",
    "* Text\n",
    "* Lists\n",
    "* Dictionaries\n",
    "\n",
    "The nice thing about Python is that we do **not** need to specify (or declare) which type we are using. Python will figure this out for us! \n",
    "\n",
    "BUT FIRST, a quick detour...\n",
    "\n",
    "We need to talk about Camel Casing."
   ]
  },
  {
   "cell_type": "markdown",
   "metadata": {},
   "source": [
    "### Camel Case"
   ]
  },
  {
   "cell_type": "markdown",
   "metadata": {},
   "source": [
    "<img src=\"https://upload.wikimedia.org/wikipedia/commons/c/c8/CamelCase_new.svg\" alt=\"camel case\" width=\"100\" style=\"float:right\"/>\n",
    "Variable names must be one continous string of letters/numbers. So, let's say we wanted to create a variable called \"number of kittens.\" Instead calling this variable <em>number of kittens</em>, I would call it <em>numberOfKittens</em>. Why the capitalization? because it makes it easier to separate out the words in the name. As in, <em>numberofkittens</em> vs. <em>numberOfKittens</em>. We have a fun name for this: camel case. "
   ]
  },
  {
   "cell_type": "markdown",
   "metadata": {},
   "source": [
    "<cite>File:CamelCase new.svg. (2020, April 15). Wikimedia Commons, the free media repository. Retrieved 15:25, June 3, 2020 from https://commons.wikimedia.org/w/index.php?title=File:CamelCase_new.svg&oldid=411544943.</cite>"
   ]
  },
  {
   "cell_type": "markdown",
   "metadata": {
    "slideshow": {
     "slide_type": "slide"
    }
   },
   "source": [
    "### Integers or int"
   ]
  },
  {
   "cell_type": "markdown",
   "metadata": {},
   "source": [
    "As mentioned, integers are whole numbers. Let's create an example. How about we use our numberOfKittens. We will then set this value to 0. As in, we have 0 kittens."
   ]
  },
  {
   "cell_type": "code",
   "execution_count": 14,
   "metadata": {
    "slideshow": {
     "slide_type": "fragment"
    }
   },
   "outputs": [],
   "source": [
    "numberOfKittens = 0"
   ]
  },
  {
   "cell_type": "markdown",
   "metadata": {},
   "source": [
    "One thing we might want to do is to have Python tell us what **type** this variable is. Well Python has a function for this called\n",
    "\n",
    "```python\n",
    "type()\n",
    "```"
   ]
  },
  {
   "cell_type": "code",
   "execution_count": 15,
   "metadata": {
    "slideshow": {
     "slide_type": "fragment"
    }
   },
   "outputs": [
    {
     "data": {
      "text/plain": [
       "int"
      ]
     },
     "execution_count": 15,
     "metadata": {},
     "output_type": "execute_result"
    }
   ],
   "source": [
    "type( numberOfKittens )"
   ]
  },
  {
   "cell_type": "markdown",
   "metadata": {},
   "source": [
    "So this checks out, we made an int and it is showing us we have an int.\n",
    "\n",
    "Now, once we have a variable, it is not static. We can change the value as much as we need to. Running the next cell will continually add 10 to our original variable. \n",
    "\n",
    "Try running this a few times."
   ]
  },
  {
   "cell_type": "code",
   "execution_count": 16,
   "metadata": {},
   "outputs": [
    {
     "data": {
      "text/plain": [
       "10"
      ]
     },
     "execution_count": 16,
     "metadata": {},
     "output_type": "execute_result"
    }
   ],
   "source": [
    "numberOfKittens = numberOfKittens + 10\n",
    "numberOfKittens"
   ]
  },
  {
   "cell_type": "code",
   "execution_count": 17,
   "metadata": {
    "tags": [
     "remove-input"
    ]
   },
   "outputs": [
    {
     "data": {
      "text/markdown": [
       "**or**<br />in more human-readable terms. <br />numberOfKittens (new value 10)  = numberOfKittens (originally 0) + 10<br />numberOfKittens is now 10<br />**or**"
      ],
      "text/plain": [
       "<IPython.core.display.Markdown object>"
      ]
     },
     "execution_count": 17,
     "metadata": {},
     "output_type": "execute_result"
    }
   ],
   "source": [
    "from IPython.display import Markdown as md\n",
    "md(f\"**or**<br />in more human-readable terms. <br />numberOfKittens (new value {numberOfKittens})  = numberOfKittens (originally {numberOfKittens-10}) + 10<br />numberOfKittens is now {numberOfKittens}<br />**or**\")\n"
   ]
  },
  {
   "cell_type": "code",
   "execution_count": 18,
   "metadata": {
    "tags": [
     "remove-input"
    ]
   },
   "outputs": [
    {
     "data": {
      "text/html": [
       "🐈 🐈 🐈 🐈 🐈 🐈 🐈 🐈 🐈 🐈"
      ],
      "text/plain": [
       "<IPython.core.display.HTML object>"
      ]
     },
     "metadata": {},
     "output_type": "display_data"
    }
   ],
   "source": [
    "from IPython.display import HTML as html\n",
    "listOfCats = []\n",
    "for i in range(numberOfKittens): \n",
    "    listOfCats.append(\"🐈\")\n",
    "   \n",
    "display(html(' '.join([str(elem) for elem in listOfCats])))"
   ]
  },
  {
   "cell_type": "markdown",
   "metadata": {},
   "source": [
    "### Floating points or floats"
   ]
  },
  {
   "cell_type": "markdown",
   "metadata": {},
   "source": [
    "Floats are similar to integers, but with more precision.\n",
    "Float comes from Floating point or a number with a decimal point. \n",
    "\n",
    "This example starts at 0, but note that this is .0 \n",
    "Adding the decimal tells Python that we should have a float value instead of an interger. "
   ]
  },
  {
   "cell_type": "code",
   "execution_count": 19,
   "metadata": {},
   "outputs": [],
   "source": [
    "aFloatVariable = .0"
   ]
  },
  {
   "cell_type": "markdown",
   "metadata": {},
   "source": [
    "Let's again, check the variable type. "
   ]
  },
  {
   "cell_type": "code",
   "execution_count": 20,
   "metadata": {},
   "outputs": [
    {
     "data": {
      "text/plain": [
       "float"
      ]
     },
     "execution_count": 20,
     "metadata": {},
     "output_type": "execute_result"
    }
   ],
   "source": [
    "type( aFloatVariable )"
   ]
  },
  {
   "cell_type": "markdown",
   "metadata": {},
   "source": [
    "Looks good. \n",
    "\n",
    "And again, we will add 10 to this. There is something specific interesting here, see if you spot it."
   ]
  },
  {
   "cell_type": "markdown",
   "metadata": {},
   "source": [
    "aFloatVariable = aFloatVariable + 10\n",
    "aFloatVariable"
   ]
  },
  {
   "cell_type": "markdown",
   "metadata": {},
   "source": [
    "If you guessed \"mixing a float and interger,\" you got it. Let's see an example. "
   ]
  },
  {
   "cell_type": "markdown",
   "metadata": {},
   "source": [
    "#### Mixing integers and floats"
   ]
  },
  {
   "cell_type": "markdown",
   "metadata": {},
   "source": [
    "In Python (3, more specifically), the variable will always take the form of the most precision. So, by default, a float."
   ]
  },
  {
   "cell_type": "code",
   "execution_count": 21,
   "metadata": {},
   "outputs": [
    {
     "data": {
      "text/plain": [
       "10.0"
      ]
     },
     "execution_count": 21,
     "metadata": {},
     "output_type": "execute_result"
    }
   ],
   "source": [
    "letsSeeWhatHappens = numberOfKittens + aFloatVariable\n",
    "letsSeeWhatHappens"
   ]
  },
  {
   "cell_type": "markdown",
   "metadata": {},
   "source": [
    "We can force variables to be a certain type. We call this 'type-cast' and can be used to:\n",
    "\n",
    "* make an integer into a float\n",
    "* a float to an integer\n",
    "* an integer to a string (we have not discussed this yet)\n",
    "* a float to a string (we have not discussed this yet)\n",
    "* etc..."
   ]
  },
  {
   "cell_type": "markdown",
   "metadata": {},
   "source": [
    "#### type-cast"
   ]
  },
  {
   "cell_type": "markdown",
   "metadata": {},
   "source": [
    "```{note}\n",
    "type-cast is temporary. If you do not use a type-cast, the variable will revert back to its original variable type. \n",
    "```"
   ]
  },
  {
   "cell_type": "markdown",
   "metadata": {},
   "source": [
    "Let's switch our numberOfKittens to a float using \n",
    "```python\n",
    "float()\n",
    "```\n",
    "\n",
    "and turn our aFloatVariable to an integer using\n",
    "\n",
    "```python\n",
    "int()\n",
    "```"
   ]
  },
  {
   "cell_type": "code",
   "execution_count": 22,
   "metadata": {},
   "outputs": [
    {
     "data": {
      "text/plain": [
       "10.0"
      ]
     },
     "execution_count": 22,
     "metadata": {},
     "output_type": "execute_result"
    }
   ],
   "source": [
    "float(numberOfKittens)"
   ]
  },
  {
   "cell_type": "code",
   "execution_count": 23,
   "metadata": {},
   "outputs": [
    {
     "data": {
      "text/plain": [
       "0"
      ]
     },
     "execution_count": 23,
     "metadata": {},
     "output_type": "execute_result"
    }
   ],
   "source": [
    "int(aFloatVariable)"
   ]
  },
  {
   "cell_type": "markdown",
   "metadata": {},
   "source": [
    "```{admonition} Common Question\n",
    ":class: tip\n",
    "What happens when you convert a float like .5 to an integer? Does it round up or down?\n",
    "```"
   ]
  },
  {
   "cell_type": "markdown",
   "metadata": {},
   "source": [
    "Well let's see what happens."
   ]
  },
  {
   "cell_type": "code",
   "execution_count": 24,
   "metadata": {
    "tags": [
     "hide-input"
    ]
   },
   "outputs": [
    {
     "data": {
      "text/markdown": [
       "for value 0.0 we will get 0<br />for value 0.1 we will get 0<br />for value 0.2 we will get 0<br />for value 0.3 we will get 0<br />for value 0.4 we will get 0<br />for value 0.5 we will get 0<br />for value 0.6 we will get 0<br />for value 0.7 we will get 0<br />for value 0.8 we will get 0<br />for value 0.9 we will get 0"
      ],
      "text/plain": [
       "<IPython.core.display.Markdown object>"
      ]
     },
     "metadata": {},
     "output_type": "display_data"
    }
   ],
   "source": [
    "printList = []\n",
    "for i in range(10): printList.append(\"for value %s we will get %s\" % ((i/10),int(i/10)))\n",
    "\n",
    "display(md('<br />'.join([str(elem) for elem in printList])))"
   ]
  },
  {
   "cell_type": "markdown",
   "metadata": {},
   "source": [
    "So, in conclusion. It will always round down."
   ]
  },
  {
   "cell_type": "markdown",
   "metadata": {},
   "source": [
    "### String or str"
   ]
  },
  {
   "cell_type": "markdown",
   "metadata": {},
   "source": [
    "So, up to this point, we started our conversation working with numbers. Well, what about the other things that are not numbers... like text? Well for text, we use something called a String or str. \n",
    "\n",
    "Strings allow us to capture a single character up to thousands of charcters (actually, much more than this). Let's go through a tradition example of \"Hello, World!\" but with my slight spin to it. "
   ]
  },
  {
   "cell_type": "code",
   "execution_count": 25,
   "metadata": {},
   "outputs": [],
   "source": [
    "helloStatement = \"Hello, everyone!\""
   ]
  },
  {
   "cell_type": "markdown",
   "metadata": {},
   "source": [
    "As you can see, can capture text and other alphanumeric and special characters. There are several unique functions for strings but first, let's double check and see what type we from our helloStatement."
   ]
  },
  {
   "cell_type": "code",
   "execution_count": 26,
   "metadata": {},
   "outputs": [
    {
     "data": {
      "text/plain": [
       "str"
      ]
     },
     "execution_count": 26,
     "metadata": {},
     "output_type": "execute_result"
    }
   ],
   "source": [
    "type( helloStatement )"
   ]
  },
  {
   "cell_type": "markdown",
   "metadata": {},
   "source": [
    "Not too suprising, we see this is type str or string. "
   ]
  },
  {
   "cell_type": "markdown",
   "metadata": {},
   "source": [
    "```{note}\n",
    "For those coming from another programming language. Sometimes other programming languages will have a specific designation for a single character string or as it is called, a character. Python has a one-size fits-all label for text and that is string. Here, let me prove it. \n",
    "```"
   ]
  },
  {
   "cell_type": "code",
   "execution_count": 27,
   "metadata": {
    "tags": []
   },
   "outputs": [
    {
     "data": {
      "text/plain": [
       "str"
      ]
     },
     "execution_count": 27,
     "metadata": {},
     "output_type": "execute_result"
    }
   ],
   "source": [
    "singleCharacter = \"a\"\n",
    "type( singleCharacter )"
   ]
  },
  {
   "cell_type": "markdown",
   "metadata": {},
   "source": [
    "#### String Indexing/String Slicing"
   ]
  },
  {
   "cell_type": "markdown",
   "metadata": {},
   "source": [
    "One of the first way to interact with our string is to take a lookg at individual characters by using their **index**.\n",
    "\n",
    "The **index** is position (or multiple positions) for each character in the string. So, if we look at our string, we have Hello, everyone! If we wanted to see the first letter *H*, we can reference this using the index or the position where the letter is in the string. "
   ]
  },
  {
   "cell_type": "code",
   "execution_count": 28,
   "metadata": {},
   "outputs": [
    {
     "data": {
      "text/plain": [
       "'e'"
      ]
     },
     "execution_count": 28,
     "metadata": {},
     "output_type": "execute_result"
    }
   ],
   "source": [
    "helloStatement[1] "
   ]
  },
  {
   "cell_type": "markdown",
   "metadata": {},
   "source": [
    "ohh.. wait a minute. We were expecting the letter *H* but we got *e*. What happened?"
   ]
  },
  {
   "cell_type": "markdown",
   "metadata": {},
   "source": [
    "```{note}\n",
    "For indexes, we always start at the number 0. So, 0 is the first thing, 1 is the second thing, and so on.\n",
    "```"
   ]
  },
  {
   "cell_type": "markdown",
   "metadata": {},
   "source": [
    "Let's try this again. "
   ]
  },
  {
   "cell_type": "code",
   "execution_count": 29,
   "metadata": {},
   "outputs": [
    {
     "data": {
      "text/plain": [
       "'H'"
      ]
     },
     "execution_count": 29,
     "metadata": {},
     "output_type": "execute_result"
    }
   ],
   "source": [
    "helloStatement[0]"
   ]
  },
  {
   "cell_type": "markdown",
   "metadata": {},
   "source": [
    "There we go! "
   ]
  },
  {
   "cell_type": "markdown",
   "metadata": {},
   "source": [
    "Visually, this is how the string looks to Python. \n",
    "\n",
    "![Hello, everyone! text](helloEveryone.png)"
   ]
  },
  {
   "cell_type": "code",
   "execution_count": 101,
   "metadata": {
    "tags": [
     "remove-input"
    ]
   },
   "outputs": [
    {
     "data": {
      "text/html": [
       "<label for=\"vol\">Index value:&nbsp;</label><span id=\"letterindex\">0</span><br><input type=\"range\" id=\"vol\" name=\"vol\" min=\"0\" max=\"16\" value=\"0\" oninput=\"document.getElementById('letterImages').src='https://raw.githubusercontent.com/dudaspm/JupyterLab-Python/main/l'+(this.value)+'.PNG'; document.getElementById('letterindex').innerHTML=this.value;\"><br><img id=\"letterImages\" alt=\"Individual letters in Hello, everyone!\" src=\"https://raw.githubusercontent.com/dudaspm/JupyterLab-Python/main/l0.PNG\" style=\"width:50px\">\n",
       "\n"
      ],
      "text/plain": [
       "<IPython.core.display.HTML object>"
      ]
     },
     "metadata": {
      "text/html": {
       "isolated": true
      }
     },
     "output_type": "display_data"
    }
   ],
   "source": [
    "%%html --isolated\n",
    "<label for=\"vol\">Index value:&nbsp;</label><span id=\"letterindex\">0</span><br><input type=\"range\" id=\"vol\" name=\"vol\" min=\"0\" max=\"16\" value=\"0\" oninput=\"document.getElementById('letterImages').src='https://raw.githubusercontent.com/dudaspm/JupyterLab-Python/main/l'+(this.value)+'.PNG'; document.getElementById('letterindex').innerHTML=this.value;\"><br><img id=\"letterImages\" alt=\"Individual letters in Hello, everyone!\" src=\"https://raw.githubusercontent.com/dudaspm/JupyterLab-Python/main/l0.PNG\" style=\"width:50px\">\n",
    "\n"
   ]
  },
  {
   "cell_type": "code",
   "execution_count": 31,
   "metadata": {},
   "outputs": [
    {
     "name": "stdout",
     "output_type": "stream",
     "text": [
      "Hello\n"
     ]
    }
   ],
   "source": [
    "print( helloStatement[0:5] )"
   ]
  },
  {
   "cell_type": "code",
   "execution_count": 32,
   "metadata": {},
   "outputs": [
    {
     "name": "stdout",
     "output_type": "stream",
     "text": [
      "Hello\n"
     ]
    }
   ],
   "source": [
    "print( helloStatement[:5] )"
   ]
  },
  {
   "cell_type": "code",
   "execution_count": 33,
   "metadata": {},
   "outputs": [
    {
     "name": "stdout",
     "output_type": "stream",
     "text": [
      ", everyone!\n"
     ]
    }
   ],
   "source": [
    "print( helloStatement[5:] )"
   ]
  },
  {
   "cell_type": "markdown",
   "metadata": {
    "slideshow": {
     "slide_type": "slide"
    }
   },
   "source": [
    "#### String functions"
   ]
  },
  {
   "cell_type": "code",
   "execution_count": 34,
   "metadata": {},
   "outputs": [
    {
     "name": "stdout",
     "output_type": "stream",
     "text": [
      "12\n",
      "-1\n",
      "Hello, everyone!\n",
      "hello, everyone!\n",
      "['Hello,', 'everyone!']\n"
     ]
    }
   ],
   "source": [
    "################\n",
    "## Find\n",
    "################\n",
    "print( helloStatement.find(\"one\") )\n",
    "print( helloStatement.find(\"me\") )\n",
    "print( helloStatement.capitalize() )\n",
    "print( helloStatement.lower() )\n",
    "print( helloStatement.split(\" \") )"
   ]
  },
  {
   "cell_type": "markdown",
   "metadata": {
    "slideshow": {
     "slide_type": "fragment"
    }
   },
   "source": [
    "What will this do?"
   ]
  },
  {
   "cell_type": "code",
   "execution_count": 35,
   "metadata": {
    "slideshow": {
     "slide_type": "fragment"
    }
   },
   "outputs": [
    {
     "name": "stdout",
     "output_type": "stream",
     "text": [
      "hello, everyone!\n",
      "Hello\n"
     ]
    }
   ],
   "source": [
    "print( helloStatement.capitalize().lower() )\n",
    "# We can chain these!\n",
    "print( helloStatement[:5].capitalize() )"
   ]
  },
  {
   "cell_type": "markdown",
   "metadata": {
    "slideshow": {
     "slide_type": "slide"
    }
   },
   "source": [
    "#### Concatenating Strings"
   ]
  },
  {
   "cell_type": "code",
   "execution_count": 36,
   "metadata": {
    "slideshow": {
     "slide_type": "fragment"
    }
   },
   "outputs": [
    {
     "name": "stdout",
     "output_type": "stream",
     "text": [
      "bio101\n",
      "bio101\n"
     ]
    }
   ],
   "source": [
    "courseName = \"bio\"\n",
    "courseNumber = \"101\"\n",
    "print( courseName+courseNumber )\n",
    "print( \"%s%s\" % (courseName,courseNumber) )"
   ]
  },
  {
   "cell_type": "markdown",
   "metadata": {
    "slideshow": {
     "slide_type": "slide"
    }
   },
   "source": [
    "Why I like to use %s"
   ]
  },
  {
   "cell_type": "code",
   "execution_count": 37,
   "metadata": {
    "slideshow": {
     "slide_type": "fragment"
    }
   },
   "outputs": [
    {
     "name": "stdout",
     "output_type": "stream",
     "text": [
      "variable1,variable2,variable3,variable4,variable5\n",
      "variable1,variable2,variable3,variable4,variable5\n"
     ]
    }
   ],
   "source": [
    "variable1 = \"variable1\"\n",
    "variable2 = \"variable2\"\n",
    "variable3 = \"variable3\"\n",
    "variable4 = \"variable4\"\n",
    "variable5 = \"variable5\"\n",
    "print( variable1 + \",\" + variable2 + \",\" + variable3 + \",\" + variable4 + \",\" + variable5 )\n",
    "print( \"%s,%s,%s,%s,%s\" % (variable1,variable2,variable3,variable4,variable5) )"
   ]
  },
  {
   "cell_type": "code",
   "execution_count": 38,
   "metadata": {
    "slideshow": {
     "slide_type": "fragment"
    }
   },
   "outputs": [
    {
     "name": "stdout",
     "output_type": "stream",
     "text": [
      "bio101\n",
      "I am currently sitting in bio101\n"
     ]
    }
   ],
   "source": [
    "# let's concatenate the strings\n",
    "courseNameNumber = \"%s%s\" % (courseName,courseNumber)\n",
    "print( courseNameNumber )\n",
    "print( \"I am currently sitting in %s\" % (courseNameNumber) )"
   ]
  },
  {
   "cell_type": "markdown",
   "metadata": {
    "slideshow": {
     "slide_type": "slide"
    }
   },
   "source": [
    "### Booleans"
   ]
  },
  {
   "cell_type": "markdown",
   "metadata": {
    "slideshow": {
     "slide_type": "slide"
    }
   },
   "source": [
    "Booleans are used to do comparisions (true/false), (1/0), (yes/no)"
   ]
  },
  {
   "cell_type": "code",
   "execution_count": 39,
   "metadata": {
    "slideshow": {
     "slide_type": "fragment"
    }
   },
   "outputs": [
    {
     "data": {
      "text/plain": [
       "bool"
      ]
     },
     "execution_count": 39,
     "metadata": {},
     "output_type": "execute_result"
    }
   ],
   "source": [
    "someCondition = True\n",
    "type( someCondition )"
   ]
  },
  {
   "cell_type": "code",
   "execution_count": 40,
   "metadata": {
    "slideshow": {
     "slide_type": "fragment"
    }
   },
   "outputs": [
    {
     "data": {
      "text/plain": [
       "False"
      ]
     },
     "execution_count": 40,
     "metadata": {},
     "output_type": "execute_result"
    }
   ],
   "source": [
    "# Will come back to this in a second (==)\n",
    "(someCondition == False)"
   ]
  },
  {
   "cell_type": "code",
   "execution_count": 41,
   "metadata": {
    "slideshow": {
     "slide_type": "fragment"
    }
   },
   "outputs": [
    {
     "name": "stdout",
     "output_type": "stream",
     "text": [
      "yes for True!\n"
     ]
    }
   ],
   "source": [
    "if (False): \n",
    "    print( \"yes for False!\" )\n",
    "if (True): \n",
    "    print( \"yes for True!\" )"
   ]
  },
  {
   "cell_type": "markdown",
   "metadata": {
    "slideshow": {
     "slide_type": "fragment"
    }
   },
   "source": [
    "if (0): \n",
    "    print \"yes for 0!\"\n",
    "if (1): \n",
    "    print \"yes for 1!\""
   ]
  },
  {
   "cell_type": "markdown",
   "metadata": {
    "slideshow": {
     "slide_type": "slide"
    }
   },
   "source": [
    "### Lists"
   ]
  },
  {
   "cell_type": "markdown",
   "metadata": {
    "slideshow": {
     "slide_type": "slide"
    }
   },
   "source": [
    "Lists (or also known as Arrays) are exactly that. A list of data. Exmaple:"
   ]
  },
  {
   "cell_type": "code",
   "execution_count": 42,
   "metadata": {
    "slideshow": {
     "slide_type": "fragment"
    }
   },
   "outputs": [
    {
     "name": "stdout",
     "output_type": "stream",
     "text": [
      "['apple', 'banana', 'eggs']\n"
     ]
    }
   ],
   "source": [
    "groceryList = [\"apple\", \"banana\", \"eggs\"]\n",
    "print( groceryList )"
   ]
  },
  {
   "cell_type": "code",
   "execution_count": 43,
   "metadata": {
    "slideshow": {
     "slide_type": "fragment"
    }
   },
   "outputs": [
    {
     "name": "stdout",
     "output_type": "stream",
     "text": [
      "['apple', 'banana', 'eggs']\n"
     ]
    }
   ],
   "source": [
    "# or another way\n",
    "groceryList = []\n",
    "groceryList.append(\"apple\")\n",
    "groceryList.append(\"banana\")\n",
    "groceryList.append(\"eggs\")\n",
    "print( groceryList )"
   ]
  },
  {
   "cell_type": "markdown",
   "metadata": {
    "slideshow": {
     "slide_type": "slide"
    }
   },
   "source": [
    "We can access each entry by using an index number (**remember starts at 0**)"
   ]
  },
  {
   "cell_type": "code",
   "execution_count": 44,
   "metadata": {
    "slideshow": {
     "slide_type": "fragment"
    }
   },
   "outputs": [
    {
     "name": "stdout",
     "output_type": "stream",
     "text": [
      "eggs\n",
      "apple\n",
      "banana\n"
     ]
    },
    {
     "ename": "IndexError",
     "evalue": "list index out of range",
     "output_type": "error",
     "traceback": [
      "\u001b[1;31m---------------------------------------------------------------------------\u001b[0m",
      "\u001b[1;31mIndexError\u001b[0m                                Traceback (most recent call last)",
      "\u001b[1;32m<ipython-input-44-0a77fb05d512>\u001b[0m in \u001b[0;36m<module>\u001b[1;34m\u001b[0m\n\u001b[0;32m      2\u001b[0m \u001b[0mprint\u001b[0m\u001b[1;33m(\u001b[0m \u001b[0mgroceryList\u001b[0m\u001b[1;33m[\u001b[0m\u001b[1;36m0\u001b[0m\u001b[1;33m]\u001b[0m \u001b[1;33m)\u001b[0m\u001b[1;33m\u001b[0m\u001b[1;33m\u001b[0m\u001b[0m\n\u001b[0;32m      3\u001b[0m \u001b[0mprint\u001b[0m\u001b[1;33m(\u001b[0m \u001b[0mgroceryList\u001b[0m\u001b[1;33m[\u001b[0m\u001b[1;36m1\u001b[0m\u001b[1;33m]\u001b[0m \u001b[1;33m)\u001b[0m\u001b[1;33m\u001b[0m\u001b[1;33m\u001b[0m\u001b[0m\n\u001b[1;32m----> 4\u001b[1;33m \u001b[0mprint\u001b[0m\u001b[1;33m(\u001b[0m \u001b[0mgroceryList\u001b[0m\u001b[1;33m[\u001b[0m\u001b[1;36m3\u001b[0m\u001b[1;33m]\u001b[0m \u001b[1;33m)\u001b[0m\u001b[1;33m\u001b[0m\u001b[1;33m\u001b[0m\u001b[0m\n\u001b[0m",
      "\u001b[1;31mIndexError\u001b[0m: list index out of range"
     ]
    }
   ],
   "source": [
    "print( groceryList[2] )\n",
    "print( groceryList[0] )\n",
    "print( groceryList[1] )\n",
    "print( groceryList[3] )"
   ]
  },
  {
   "cell_type": "markdown",
   "metadata": {
    "slideshow": {
     "slide_type": "fragment"
    }
   },
   "source": [
    "To do this more efficiently, we will be using loops (for and while, we will talk about later)."
   ]
  },
  {
   "cell_type": "markdown",
   "metadata": {
    "slideshow": {
     "slide_type": "slide"
    }
   },
   "source": [
    "### Dictionary"
   ]
  },
  {
   "cell_type": "markdown",
   "metadata": {
    "slideshow": {
     "slide_type": "slide"
    }
   },
   "source": [
    "Dictionaries are used to index based on a specific key. As in:\n",
    "\n",
    "dictionary[\\\"street adddress\\\" (key)] = \"123 Apple St.\" (value)"
   ]
  },
  {
   "cell_type": "code",
   "execution_count": null,
   "metadata": {
    "slideshow": {
     "slide_type": "fragment"
    }
   },
   "outputs": [],
   "source": [
    "personalInformation = {}\n",
    "personalInformation[\"streetAddress\"] = \"123 Apple St.\"\n",
    "personalInformation[\"firstName\"] = \"Patrick\"\n",
    "personalInformation[\"lastName\"] = \"Dudas\"\n",
    "print( personalInformation )"
   ]
  },
  {
   "cell_type": "markdown",
   "metadata": {
    "slideshow": {
     "slide_type": "fragment"
    }
   },
   "source": [
    "Note the order."
   ]
  },
  {
   "cell_type": "markdown",
   "metadata": {
    "slideshow": {
     "slide_type": "fragment"
    }
   },
   "source": [
    "Again, to do this more efficiently, we will be using loops (for and while, we will talk about later)."
   ]
  },
  {
   "cell_type": "code",
   "execution_count": null,
   "metadata": {},
   "outputs": [],
   "source": []
  }
 ],
 "metadata": {
  "celltoolbar": "Slideshow",
  "kernelspec": {
   "display_name": "Python 3",
   "language": "python",
   "name": "python3"
  },
  "language_info": {
   "codemirror_mode": {
    "name": "ipython",
    "version": 3
   },
   "file_extension": ".py",
   "mimetype": "text/x-python",
   "name": "python",
   "nbconvert_exporter": "python",
   "pygments_lexer": "ipython3",
   "version": "3.8.5"
  },
  "toc-autonumbering": false,
  "toc-showcode": true,
  "toc-showmarkdowntxt": true,
  "toc-showtags": true
 },
 "nbformat": 4,
 "nbformat_minor": 4
}
